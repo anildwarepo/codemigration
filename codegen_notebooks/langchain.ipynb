{
 "cells": [
  {
   "cell_type": "code",
   "execution_count": 1,
   "metadata": {},
   "outputs": [],
   "source": [
    "#%pip install langchain\n",
    "#%pip install \"langserve[all]\"\n",
    "#%pip install langchain-cli\n",
    "#%pip install langchain-openai\n",
    "#%pip install python-dotenv\n",
    "#%pip install openai\n",
    "#%pip install unstructured\n",
    "#%pip install faiss-cpu\n",
    "#%pip install chromadb\n",
    "#%pip install langchainhub\n",
    "#%pip install pypdf"
   ]
  },
  {
   "cell_type": "code",
   "execution_count": 2,
   "metadata": {},
   "outputs": [
    {
     "name": "stdout",
     "output_type": "stream",
     "text": [
      "AZURE_OPENAI_ENDPOINT:https://anildwaopenaiwestus.openai.azure.com/\n"
     ]
    }
   ],
   "source": [
    "import openai_setup"
   ]
  },
  {
   "cell_type": "code",
   "execution_count": 80,
   "metadata": {},
   "outputs": [],
   "source": [
    "from langchain_openai import AzureChatOpenAI\n",
    "from langchain_core.prompts import SystemMessagePromptTemplate\n",
    "import os\n",
    "\n",
    "# Initiate a connection to the LLM from Azure OpenAI Service via LangChain.\n",
    "llm = AzureChatOpenAI(\n",
    "\n",
    "    deployment_name=os.environ[\"DEPLOYMENT_NAME\"]\n",
    ")"
   ]
  },
  {
   "cell_type": "code",
   "execution_count": 81,
   "metadata": {},
   "outputs": [
    {
     "name": "stderr",
     "output_type": "stream",
     "text": [
      "c:\\Users\\anildwa\\AppData\\Local\\miniconda3\\envs\\langchain\\lib\\site-packages\\langchain_core\\_api\\deprecation.py:117: LangChainDeprecationWarning: The function `__call__` was deprecated in LangChain 0.1.7 and will be removed in 0.2.0. Use invoke instead.\n",
      "  warn_deprecated(\n"
     ]
    },
    {
     "data": {
      "text/plain": [
       "AIMessage(content=\"J'aime programmer.\")"
      ]
     },
     "execution_count": 81,
     "metadata": {},
     "output_type": "execute_result"
    }
   ],
   "source": [
    "from langchain.schema.messages import HumanMessage\n",
    "\n",
    "message = HumanMessage(\n",
    "    content=\"Translate this sentence from English to French. I love programming.\"\n",
    ")\n",
    "llm([message])"
   ]
  },
  {
   "cell_type": "code",
   "execution_count": 11,
   "metadata": {},
   "outputs": [],
   "source": [
    "from langchain_community.document_loaders import PyPDFLoader\n",
    "\n",
    "loader = PyPDFLoader(\"data/PayPal SDD - Migration Example no JSDK.pdf\")\n",
    "pdf_pages = loader.load_and_split()"
   ]
  },
  {
   "cell_type": "code",
   "execution_count": 12,
   "metadata": {},
   "outputs": [
    {
     "data": {
      "text/plain": [
       "22"
      ]
     },
     "execution_count": 12,
     "metadata": {},
     "output_type": "execute_result"
    }
   ],
   "source": [
    "len(pdf_pages)"
   ]
  },
  {
   "cell_type": "code",
   "execution_count": 13,
   "metadata": {},
   "outputs": [
    {
     "data": {
      "text/plain": [
       "[Document(page_content='NVP/SOAP API /\\n\\nGet Started /\\n\\nNVP Basics\\n\\nPayPal NVP API Basics\\n\\nAPILegacy\\n\\nThe Name-Value Pair (NVP) API provides parameter-based association between the request and response fields of a message and their values. The request message is sent from your website by the API, and a response message is returned by PayPal using a client-server model in which your site is a client of the PayPal server. NVP describes the format of the request and response messages that you send to and receive from the PayPal API. An example of a name-value pair is <FieldName>=<Value>, where <FieldName> is the name of the PayPal API field and <Value> is the information that you pass to or receive from the PayPal API, such as, VERSION=200.\\n\\nNote: The PayFlow API also uses name-value pairs to provide parameter-based association between request and response fields of a message and their values; however, the PayFlow API is not the same as the NVP API; for more information about the PayFlow API, see the Payflow Gateway Developer Guide and Reference.\\n\\nPayPal API client-server architecture\\n\\nThe PayPal API uses a client-server model. Your website is a client of the PayPal server.\\n\\nA page on your website initiates an action on a PayPal API server by sending a request to the server. The PayPal server responds with a confirmation that the requested action was taken or indicates that an error occurred. The response might also contain additional information related to the request. The following diagram shows the basic request-response mechanism.\\n\\nFor example, you might want to get the customer\\'s shipping address from PayPal. You can initiate an API request to get customer details. The response from the PayPal API server contains information about whether the request was successful. If the operation succeeds, the response contains the requested information. In this case, the response contains the customer\\'s shipping address. If the operation fails, the response contains one or more error messages.\\n\\nPayPal Name-Value Pair API requests and responses\\n\\nTo complete a PayPal NVP API operation, send an NVP-formatted request to a PayPal NVP server and interpret the response.\\n\\nIn this diagram, your website generates a request. The request runs on a PayPal server and the response is returned to your site.\\n\\nThe request identifies:\\n\\nThe name of the API operation, specified by METHOD=API-Operation-Name, to be performed and its version.Note: After the METHOD parameter, you can specify the other parameters in any order.\\n\\nAPI Credentials that identify the PayPal account making the request.\\n\\nRequest-specific information that controls the API operation to be performed.\\n\\nA PayPal API server completes the operation and returns a response.\\n\\nThe response contains:\\n\\nAn acknowledgment (ACK) status that indicates whether the operation succeeded or failed and whether any warning messages were returned.\\n\\nInformation that can be used by PayPal to track execution of the API operation, such as the transaction ID.\\n\\nResponse-specific information required to fulfill the request.\\n\\nUTF-8 character encoding\\n\\nThe PayPal API assumes that all request data is in Universal Coded Character Set (UCS) Transformation Format – 8-bit encoding form (UTF-8).\\n\\nThe API always returns data in UTF-8.\\n\\nMultiple API operations\\n\\nSome features, such as Express Checkout, require that you to call multiple API operations.\\n\\nTypically, these features require you to:\\n\\nInvoke an API operation, such as SetExpressCheckout. This API operation sets up the return URL to which PayPal redirects your customer\\'s browser after the buyer completes the payment on the PayPal website. Other setup actions also can be performed by this API operation.\\n\\nInvoke additional API operations after receiving the customer\\'s permission on PayPal, for example, GetExpressCheckoutDetails or DoExpressCheckoutPayment.\\n\\nThe following diagram shows the execution flow between your website and PayPal:\\n\\nToken usage\\n\\nTypically, the API operation that sets up a redirection to PayPal (SetExpressCheckout) returns a token. This token is passed as a parameter in the redirect to PayPal. The token also might be required in related API operations.\\n\\nNVP format\\n\\nNVP specifies names and values in a string. NVP is the informal name for the query in the URI specification. The NVP string is appended to the URL.\\n\\nAn NVP string conforms to these guidelines:\\n\\nThe name is separated from the value by an equal sign (=). For example: FIRSTNAME=Robert\\n\\nName-value pairs are separated by an ampersand (&). For example: FIRSTNAME=Robert&MIDDLENAME=Herbert&LASTNAME=Moore\\n\\nEach value in an NVP string is URL-encoded.\\n\\nCreate an NVP request\\n\\nThe Name-Value Pair request format specifies the API operation to perform, credentials that authorize PayPal to access your account, and fields containing additional information to be used in the request.\\n\\nSpecify the PayPal API operation\\n\\nFor the NVP version of the PayPal API, you must specify the name of the PayPal API operation to execute in each request along with the version of the API operation.\\n\\nThe following diagram shows the API operation part of an NVP request:\\n\\nA method specifies the PayPal operation you want to execute, and each method is associated with a version. Together, the method and version define the exact behavior of the API operation. Typically, the behavior of an API operation does not change between versions; however, you should carefully retest your code whenever you change a version.\\n\\nTo specify a method and version number:\\n\\nChoose the PayPal API operation you want to use. METHOD=API-Operation-Name\\n\\nChoose the appropriate version. In most cases, you should use the latest version of the API operation. VERSION=API-Version-Number\\n\\nUse API signature credentials\\n\\nYou must specify API credentials in each request to execute a PayPal API operation. You can use either a signature or a certificate, but not both.\\n\\nWhen you execute a PayPal API operation, you use credentials, such as a signature, to authenticate that you are requesting the API operation. The following diagram shows the API credentials part of an NVP request:\\n\\nImportant: You must protect the values for USER, PWD, and SIGNATURE in your implementation. Consider storing these values in a secure location other than your web server document root and setting the file permissions so that only the system user that executes your ecommerce application can access it.\\n\\nTo enable PayPal to authenticate your request:\\n\\nSpecify the API username associated with your account. USER=API-Username\\n\\nSpecify the password associated with the API user name. PWD=API-Password\\n\\nIf you are using an API signature and not an API certificate, specify the API signature associated with the API username. SIGNATURE=API-Signature\\n\\nIf you\\'re calling the API on behalf of a third-party merchant, you must specify the email address on file with PayPal of the third-party merchant or the merchant\\'s account ID (sometimes called Payer ID). SUBJECT=Authorizing-Merchant-Email Or Authorizing-Merchant-Account-IDNote: Third-party merchants can look up their merchant ID by logging into https://www.paypal.com, clicking the profile icon () on the top right side of the page and then selecting Profile and settings in the Business Profile menu. (If you do not see a profile icon at the top of the page, click Profile, which appears in the top menu when the My Account tab is selected.) Click My business info on the left, and the Merchant account ID is displayed in the list of profile items on the right.Typically, a merchant grants third-party permissions to a shopping cart, so the shopping cart can call the API on the merchant\\'s behalf. The merchant must have previously granted you permission to execute the API operation.\\n\\nSpecify credentials with cURL\\n\\nThe following example shows one way to specify a signature using cURL:\\n\\nNote: Because this example does not establish a secure connection, do not use it in the live environment.\\n\\nURL encoding\\n\\nYou must URL-encode all HTTP requests to execute PayPal API operations. The encoding ensures that you can transmit:\\n\\nSpecial characters.\\n\\nCharacters that are not allowed in a URL.\\n\\nCharacters that have special meaning in a URL, such as the equal sign and ampersand.\\n\\nThe PayPal NVP API uses the HTTP protocol to send requests to and receive responses from a PayPal API server.\\n\\nYou must encode all data sent using the HTTP protocol because data that is not encoded can be misinterpreted as part of the HTTP protocol instead of part of the request.\\n\\nMost programming languages provide a way to encode strings in this way. You should consistently URL-encode the complete API request. Otherwise, you might find that unanticipated data causes an error.\\n\\nNote: Most browsers automatically URL-encode HTTP forms.\\n\\nFor example, this NVP string:\\n\\nIs encoded, as follows:\\n\\nEncode and decode methods for URLs\\n\\nUse these methods to URL-encode or URL-decode your NVP strings:\\n\\nLanguage Encode or decode Method ASP.NET Encode System.Web.HttpUtility.UrlEncode(buffer, Encoding.Default) Decode System.Web.HttpUtility.UrlDecode(buffer, Encoding.Default) Java Encode java.net.URLEncoder.encode Decode java.net.URLDecoder.decode PHP Encode urlencode() Decode urldecode() ColdFusion Encode URLEncodedFormatstring [, charset] Decode URLDecodeurlEncodedString[, charset])\\n\\nList syntax for name-value pairs\\n\\nThe PayPal API uses a special syntax for NVP fields defined as lists.\\n\\nThe NVP interface to the PayPal API requires a unique name for each field. In the API, lists are prefixed by L_.\\n\\nNote: Not all lists follow the L_ prefix convention. However, all lists begin at 0 for the first element.\\n\\nTo identify an element within the list, use the offset from the beginning of the list, starting with 0 as the first element. For example, since in some cases you can submit more than one payment in a single request, PAYMENTREQUEST_0_DESC is the description of the first payment in a request, PAYMENTREQUEST_1_DESC, is the description of the second payment in the request, and so on.\\n\\nAdditionally, you can pass lists within lists, which also use an offset that starts with 0 as the first element. For example, L_PAYMENTREQUEST_0_DESC0 is the description of the first item in the first payment.\\n\\nExecute NVP API operations\\n\\nYou execute a PayPal NVP API operation by submitting an HTTPS POST request to a PayPal API server, or by using cURL or another mechanism to provide secure access between the buyer\\'s browser and the PayPal API server. For example, you might implement a system in which the buyer\\'s browser remains a client of your server and your server becomes a client of the PayPal API server.\\n\\nSpecify a PayPal server\\n\\nYou execute a PayPal API operation by submitting the request to a PayPal API server.\\n\\nTo execute a PayPal NVP API operation, submit the request to one of the following endpoints:\\n\\nServer endpoint Description https://api-3t.sandbox.paypal.com/nvp The sandbox, or test, server for use with API signature credentials. https://api-3t.paypal.com/nvp The PayPal live production server for use with API signature credentials. https://api.sandbox.paypal.com/nvp The sandbox, or test, server for use with API certificate credentials. https://api.paypal.com/nvp The PayPal live production server for use with API certificate credentials.\\n\\nNote: You must use different API credentials for each server endpoint. Typically, you obtain API credentials when you test in the sandbox and then obtain another set of credentials for the production server. You must change each API request to use the new credentials when you go live.\\n\\nLog API operations\\n\\nYou must log basic information from the request and response messages of each PayPal API operation you execute. You must log the CorrelationID returned in the response message, which identifies the PayPal application that processed the request and must be provided to Merchant Technical Support if you need their assistance with a specific transaction.\\n\\nAll responses to PayPal API operations contain information that may be useful for debugging purposes. In addition to logging the Correlation ID from the response message, you can log other information, such as the transaction ID and timestamp, to enable you to review a transaction on the PayPal website or through the API. You could implement a scheme that logs the entire request and response in a \"verbose\" mode; however, you should never log the password from a request.\\n\\nRespond to an NVP response\\n\\nThe Name-Value Pair response consists of the answer to the request as well as common fields that identify the API operation and how it was executed.\\n\\nThe following diagram shows fields in the response to a PayPal NVP API operation:\\n\\nCommon response fields\\n\\nThe PayPal API always returns common fields in addition to fields that are specific to the requested PayPal API operation.\\n\\nA PayPal API response includes the following fields:\\n\\nField Description ACK Acknowledgment status, which is one of the following values: Success — A successful operation. SuccessWithWarning — A successful operation; however, there are messages returned in the response that you should examine. Failure — The operation failed; the response also contains one or more error messages explaining the failure. FailureWithWarning — The operation failed and there are messages returned in the response that you should examine. CORRELATIONID Correlation ID, which uniquely identifies the transaction to PayPal. TIMESTAMP The date and time that the requested API operation was performed in UTC/GMT format. VERSION The version of the API. BUILD The sub-version of the API.\\n\\nError responses\\n\\nIf the ACK value is not Success, the payment or desired action might fail.\\n\\nThe value of the ACK response is:\\n\\nSuccess. The request was successful.\\n\\nSuccessWithWarning. The request was successful but a warning error code was also returned.\\n\\nFailure. The API request failed. See error messages for details.\\n\\nFailureWithWarning. The API request failed and additional warning messages were returned.\\n\\nError response format\\n\\nAn error response has this format:\\n\\nResponse fields on error ACK=Failure&TIMESTAMP= Date-And-Time-Of-Response & CORRELATIONID=debuggingToken&VERSION= API-Version & BUILD=buildNumber&L_ERRORCODE0= Error-Code & L_SHORTMESSAGE0= Short-Error-Message & L_LONGMESSAGE0= Long-Error-Message & L_SEVERITYCODE0= Severity-Code Multiple errors can be returned. Each set of errors has a different numeric suffix in the field name, starting with 0 and incremented by one for each error.\\n\\nAdditional pass-through information can appear in the L_ERRORPARAMIDn and L_ERRORPARAMVALUEn fields.\\n\\nIn this error response:\\n\\nTIMESTAMP=2011%2d11%2d15T20%3a27%3a02Z&CORRELATIONID=5be53331d9700&ACK=Failure &VERSION=78%2e0&BUILD=000000&L_ERRORCODE0=15005&L_SHORTMESSAGE0=Processor%20Decline &L_LONGMESSAGE0=This%20transaction%20cannot%20be%20processed%2e&L_SEVERITYCODE0=Error &\\n\\nThe parameter ID is ProcessorResponse, which indicates an error response by a credit or debit card processor.\\n\\nThe value contains the processor-specific error.\\n\\nPayPal does not set these values. Instead, these values are passed through from the source.\\n\\nNote: PayPal only passes selected values in the L_ERRORPARAMIDn and L_ERRORPARAMVALUEn fields.\\n\\nURL decoding\\n\\nYou must URL-decode all responses to HTTP POST operations from the PayPal NVP API\\n\\nThe PayPal NVP API uses the HTTP protocol to send requests and receive responses from a PayPal API server. You must decode all data returned through the HTTP protocol so that it can be displayed properly. Most programming languages provide a way to URL-decode strings.', metadata={'source': 'https://developer.paypal.com/api/nvp-soap/NVPAPIOverview/'}),\n",
       " Document(page_content=\"NVP/SOAP API /\\n\\nGet Started\\n\\nGet Started\\n\\nAPILegacyLast updated: October 15th 2021, @ 3:55:37 pm\\n\\nPayPal offers a set of application programming interfaces (APIs) that give you the means to incorporate PayPal functionality into your website applications and mobile apps.\\n\\nThis document describes how to make calls to the PayPal NVP/SOAP API operations. Once you understand how to code calls to the PayPal APIs, use the PayPal sandbox to test your PayPal routines, as described in the PayPal sandbox Testing Guide. After you've finished testing your PayPal routines, move your application to the live PayPal environment, as described in Going Live with Your Application.\\n\\nThis guide provides the following sections to get you up and running with the PayPal APIs:\\n\\nCreating a PayPal Developer Account\\n\\nThe Components of an API Request\\n\\nPutting a Call Together\\n\\nPayPal provides two environments that support calls to their API operations:\\n\\nThe _sandbox_ is a virtual testing environment where you utilize fictitious user accounts to make calls to the PayPal operations without affecting any real PayPal users or their live PayPal accounts.\\n\\nThe _production_ environment is the live environment where the PayPal operation calls you make affect the accounts of real PayPal users.\\n\\nTo make sure you don't accidentally address the wrong environment, each environment uses a different set of API credentials and endpoints.\\n\\nCreating a PayPal Developer Account\\n\\nTo make calls to the PayPal APIs, you must have a PayPal Premier or PayPal Business account. To create a PayPal account, click the Sign Up link at the top of the main PayPal page, and follow the resulting instructions.\\n\\nAfter becoming a PayPal member, use your account log-in information to register as a PayPal Developer:\\n\\nNavigate to the Developer website and click the Log In button at the top of the page.The log-in page gives you the option of registering with your current PayPal account credentials, or signing up for a new PayPal Business account.\\n\\nLog in using your PayPal account information (your email address and your password). When you first register on the Developer website, PayPal creates a default sandbox business account. Use the sandbox account details to make test calls.\\n\\nThe Components of an API Request\\n\\nEach PayPal API call consists of a combination of the following elements:\\n\\nAPI Credentials\\n\\nService Endpoint\\n\\nCall Payload\\n\\nRequest and Response Format Types\\n\\nHTTP Headers\\n\\nThe following table gives an overview of these API call elements. See the sections below for more complete descriptions.\\n\\nCall Element Description API Credentials Many API calls require a set of values to authenticate you as the owner of a PayPal account. The NVP/SOAP API credentials are assigned to your PayPal account and consist of an API Username , an API Password , and a Signature . Some API calls (such as those in the Adaptive APIs) also require an AppID value. Service Endpoint An API request can be sent to either the sandbox endpoint or the Production endpoint. The endpoint you use depends on several conditions, such as the API operation you're calling, the environment you're addressing, and the format of your call. Call Payload Each PayPal API call has both required and optional input fields that detail the specifics of the request. Together, these input fields are termed the call payload . Call Formats PayPal supports calls made using both SOAP and non-SOAP formats. In addition, call payloads can be formatted in JSON and NVP. HTTP Headers PayPal API operations require you provide specific HTTP headers with your requests. The headers specify authentication credentials, the call request and response formats, and other information. For example, when calling either the Adaptive Payments or Adaptive Accounts APIs, you need to specify your App ID in the X-PAYPAL-APPLICATION-ID header. You specify the format of the request and response using two separate headers, X-PAYPAL-REQUEST-DATA-FORMAT and X-PAYPAL-RESPONSE-DATA-FORMAT .\\n\\nAPI Credentials\\n\\nYou must provide a valid set of API credentials when making calls to PayPal API operations. This allows PayPal to verify the account that's making the calls.\\n\\nPayPal NVP/SOAP API credentials consist of an API Username, an API Password, and a Signature, and PayPal generates a unique set of credentials for each eligible PayPal account. Your Sandbox accounts and your live PayPal Business or Premier accounts have different sets of API credentials, be sure to use the correct set when testing! On the Developer site, navigate to the Applications > Sandbox accounts page to retrieve the API credentials for your sandbox business accounts.\\n\\nIn addition to the NVP/SOAP API credentials, the Adaptive APIs also make use of an AppID value. To obtain an AppID value for use in the PayPal production environment, submit your application for review, as described in Going Live with Your Application. When testing your Adaptive API calls in the sandbox, use the following static AppID value for the sandbox:\\n\\nAPP-80W284485P519543T\\n\\nSee Creating and Managing NVP/SOAP API Credentials for more on how to generate and maintain the credentials needed to make calls to the live PayPal environment.\\n\\nService Endpoint\\n\\nAn endpoint provides the URI of the server that handles your request. Each PayPal service and operation has a unique endpoint. See the PayPal Endpoints page for a list of all the NVP/SOAP API endpoints.\\n\\nFor example, the sandbox endpoint for Express Checkout SetExpressCheckout operation is as follows:\\n\\nhttps://api.sandbox.paypal.com/nvp\\n\\nUse the sandbox endpoints during your application testing phase. After you've finished testing your application in the sandbox, move to the production environment by updating the endpoints in your application so your requests are directed to the correct PayPal production service and operation.\\n\\nWith this, if you're calling an Express Checkout operation with NVP formatting, test in the sandbox with the following endpoint:\\n\\nhttps://api-3t.sandbox.paypal.com/nvp\\n\\nOnce your testing is complete, move your application into production by updating your endpoints to the following URI:\\n\\nhttps://api-3t.paypal.com/nvp\\n\\nDon't forget that to go live, you'll also need to update your API credentials to those assigned to your live PayPal account (instead of those assigned to your virtual Sandbox accounts).\\n\\nCall Payload\\n\\nEach PayPal API call contains a payload, which is a unique set of input fields that you supply with the request. API operations have both required and optional input fields. Although you can make a basic test call with only the required input fields, your production-level applications will likely make use of optional inputs.\\n\\nFor example, an Express Checkout call requires the following input fields:\\n\\nUSER—The API User name.\\n\\nPWD—The API Password.\\n\\nSIGNATURE—The Signature.\\n\\nMETHOD—The API operation you are addressing.\\n\\nVERSION—The version of the API to which you are making your request.\\n\\nAMT—The cash amount of the transaction.\\n\\ncancelUrl—The URL address to which the user is returned if they cancel the transaction.\\n\\nreturnUrl—The URL address to which the user is returned when the complete the transaction.\\n\\nThe required fields denote the minimum set of parameters that you can include in the payload of a PayPal API operation request. Below is an example of how this payload would be formatted using name-value pairs:\\n\\nUSER=\\n\\nRequest and Response Format Types\\n\\nThe PayPal NVP/SOAP APIs support two types of request and response call formats: SOAP and non-SOAP.\\n\\nWhen using SOAP, format the payload using XML within the SOAP envelope and supply any HTTP headers as part of the envelope.\\n\\nNon-SOAP formatted calls can make use of the following types of payload formats:\\n\\nName-Value Pairs (NVP)\\n\\nExtensible Markup Language\\n\\nJavaScript object notation (Adaptive APIs only)\\n\\nHow you specify the format of your PayPal operation calls depends on the API you're using. For the Adaptive APIs (Adaptive Payments, Adaptive Accounts, Invoicing and the Permissions Service), specify the request and response formats in the HTTP headers. Other PayPal APIs require that you specify the call formats in the call payload.\\n\\nHTTP Headers\\n\\nPayPal has many services and some require that you specify a set of HTTP Headers in your calls. For example, the Adaptive Payments and Adaptive Accounts APIs require the following set of HTTP headers:\\n\\nHTTP Header Description X-PAYPAL-SECURITY-USERID The API user name. This is one of the API credentials assigned to your account. X-PAYPAL-SECURITY-PASSWORD The API password. This is one of the API credentials assigned to your account. X-PAYPAL-SECURITY-SIGNATURE The API signature. This is one of the API credentials assigned to your account. X-PAYPAL-APPLICATION-ID The sandbox contains a unique and static App ID (APP-80W284485P519543T). When you move an application into production, PayPal assigns your application a custom App ID that you need to use to key your application with the production servers. X-PAYPAL-REQUEST-DATA-FORMAT The payload format for the request. X-PAYPAL-RESPONSE-DATA-FORMAT The payload format for the response.\\n\\nBe aware that different PayPal APIs use different sets of HTTP headers (and some don't use any at all). Refer to the Developer documentation for the definitive list of HTTP headers for the PayPal operation(s) you plan to use.\\n\\nPutting a Call Together\\n\\nTo make a PayPal API call, put together all the components of the call (as described just above) into a SOAP or non-SOAP object, and execute the call.\\n\\nFor example, the following cURL command, wrapped and commented for readability, shows how the call elements are assembled to make a request to the Adaptive Accounts CreateAccount operation:\\n\\nNotice that in cURL commands, HTTP headers are specified with the -H switch.\\n\\nLearn More\\n\\nFind more information about making SOAP and Name-Value Pair calls in the following guides:\\n\\nPayPal Name-Value Pair API Basics\\n\\nPayPal SOAP API Basics\\n\\nReview the Getting Started Guides listed below to see how to make calls using the two different types of PayPal NVP/SOAP APIs (Express Checkout and Adaptive APIs):\\n\\nExpress Checkout API Getting Started Guide\\n\\nAdaptive Accounts API Getting Started Guide\", metadata={'source': 'https://developer.paypal.com/api/nvp-soap/get-started/'}),\n",
       " Document(page_content='NVP/SOAP API /\\n\\nGet Started /\\n\\nSOAP Basics\\n\\nPayPal SOAP API Basics\\n\\nAPILegacyLast updated: October 12th 2021, @ 6:58:00 pm\\n\\nThe PayPal SOAP API is based on open standards known collectively as web services, which include the Simple Object Access Protocol (SOAP), Web Services Definition Language (WSDL), and the XML Schema Definition language (XSD). A wide range of development tools on a variety of platforms support web services.\\n\\nLike many web services, PayPal SOAP is a combination of client-side and server-side schemas, hardware and software servers, and core services.\\n\\nIn an object-oriented processing model, the interface to SOAP requests/responses is an object in your application\\'s native programming language. Your third-party SOAP client generates business-object interfaces and network stubs from PayPal-provided WSDL and XSD files that specify the PayPal SOAP message structure, its contents, and the PayPal API service bindings. A business application works with data in the form of object properties to send and receive data by calling object methods. The SOAP client handles the details of building the SOAP request, sending it to the PayPal service, and converting the response back to an object.\\n\\nPayPal WSDL/XSD Schema Definitions\\n\\nThe PayPal Web Services schema and its underlying eBay Business Language (eBL) base and core components are required for developing applications with the PayPal Web Services API. The following are the locations of the WSDL and XSD files.\\n\\nDevelopment and Testing with the PayPal sandbox PayPal Schema https://www.sandbox.paypal.com/wsdl/PayPalSvc.wsdl eBL Base Components and Component Types https://www.sandbox.paypal.com/wsdl/eBLBaseComponents.xsd https://www.sandbox.paypal.com/wsdl/CoreComponentTypes.xsd Production with the Live PayPal API PayPal Schema https://www.paypal.com/wsdl/PayPalSvc.wsdl eBL Base Components and Component Types https://www.paypal.com/wsdl/eBLBaseComponents.xsd https://www.paypal.com/wsdl/CoreComponentTypes.xsd\\n\\nPayPal SOAP API Definitions\\n\\nThe PayPal SOAP API comprises individual API definitions for specific business functions. As a foundation, the API relies on eBay Business Language (eBL) base and core components. The core eBL structures AbstractRequestType and AbstractResponseType are the basis of the SOAP request and response of each PayPal API. AbstractResponseType is also the framework for error messages common across all PayPal APIs.\\n\\nPayPal has made some schema design decisions that can affect how businesses design their own applications.\\n\\nEnumerations — Enumerations are defined directly in the PayPal API schema.\\n\\nTroubleshooting information — The PayPal API returns information about elements that trigger errors.\\n\\nBackward compatibility — The PayPal API is versioned so that business applications are backward compatible when new elements are introduced to the server-side schema.\\n\\nNote: eBL defines many structures that are specific to processing auctions. PayPal\\'s SOAP schema includes these definitions to maintain compatibility with eBay\\'s SOAP. The material focuses only on those SOAP definitions pertinent to use of the PayPal SOAP API.\\n\\nSecurity\\n\\nThe PayPal SOAP API service is protected to ensure that only authorized PayPal members use it. There are four levels of security:\\n\\nA required API Username and API Password.\\n\\nA third required authentication mechanism, which is either one of the following:Client-side request signing using a PayPal-issued API CertificateRequest authentication using an API Signature included in the request\\n\\nIf you\\'re calling the API on behalf of a third-party merchant, you must specify the email address on file with PayPal of the third-party merchant or the merchant\\'s account ID (sometimes called Payer ID) in the Subject field.Note: Third-parties can obtain their merchant ID by logging in to paypal.com, clicking the profile icon () on the top right side of the page and then selecting Profile and settings in the Business Profile menu. (If the profile icon at the top of the page is not visible, click Profile, which appears in the top menu when the My Account tab is selected.) Click My business info on the left, and the Merchant account ID is displayed in the list of profile items on the right.Typically, a merchant grants third-party permissions to a shopping cart, so the shopping cart can call the API on the merchant\\'s behalf. The merchant must have previously granted you permission to execute the API operation.\\n\\nTransport Layer Security (TLS) data transport. See the PayPal developer Information Security guidelines for more information on TLS.\\n\\nA failure of authenticated security at any one of these levels denies access to the PayPal SOAP API service.\\n\\nSOAP RequesterCredentials: Username, Password, Signature, and Subject\\n\\nFor the security of your business, PayPal must verify that merchants or third-party developers are permitted to initiate a transaction before they make one. PayPal authenticates each request. If the request cannot be authenticated, a SOAP security fault is returned.\\n\\nIn the SOAP request header, your SOAP client must set the Username, Password elements to pass an API username/password combination. In addition, you can set the Signature to specify your API signature string. If you\\'re calling the API on behalf of a third-party merchant, you must set the Subject element to specify the authorizing third-party\\'s email address or merchant account ID (sometimes called Payer ID).\\n\\npaypal.com, clicking the profile icon (\\n\\nTypically, a merchant grants third-party permissions to a shopping cart, so the shopping cart can call the API on the merchant\\'s behalf. The merchant must have previously granted you permission to execute the API operation.\\n\\nThe following example shows part of the RequesterCredentials elements.\\n\\nMost of these elements are required for all SOAP requests.\\n\\n<SOAP-ENV:Header> <RequesterCredentials xmlns=\"urn:ebay:api:PayPalAPI\" xsi:type=\"ebl:CustomSecurityHeaderType\"> <Credentials xmlns=\"urn:ebay:apis:eBLBaseComponents\" xsi:type=\"ebl:UserIdPasswordType\"> <Username>\\n\\nElement Value Description Username API-Username Your API username, which is auto-generated by PayPal when you apply for certificate or signature API credentials to use the PayPal SOAP API. You can see this value on https://www.paypal.com/ in your Profile under API Access > API Credentials. Password API-Password Your API password, which you specify when you apply for certificate or signature API credentials to use the PayPal SOAP API. Signature API-Signature Your API signature , if you use one instead of an API Certificate. Subject Authorizing-Merchant-Email or Authorizing-Merchant-Account-ID The email address or merchant account ID (sometimes called Payer ID) of a third-party for whom you are sending requests to the PayPal SOAP API. Your API username must have been granted permission by this third-party to make a PayPal API request on its behalf.\\n\\nSOAP Service Endpoints\\n\\nThe service endpoint that processes your SOAP requests depends on your API credentials type.\\n\\nAPI Credentials Type Live Production Endpoint Test (Sandbox) Endpoint API Certificate https://api.paypal.com/2.0/ https://api.sandbox.paypal.com/2.0/ API Signature https://api-3t.paypal.com/2.0/ https://api-3t.sandbox.paypal.com/2.0/\\n\\nSOAP Request Envelope\\n\\nThe following diagram illustrates the contents of a PayPal SOAP request envelope.\\n\\nAll PayPal APIs are based on two core structures: AbstractRequestType and AbstractResponseType.\\n\\nRequest Structure\\n\\nThe following annotated description of the SOAP request structure shows the elements required by the PayPal SOAP API.\\n\\nGeneral Structure of PayPal API SOAP Request\\n\\n1.  <?xml version=\"1.0\" encoding=\"UTF-8\"?> 2.  <SOAP-ENV:Envelope xmlns:xsi=\"http://www.w3.org/2001/XMLSchema-instance\" xmlns:SOAP-ENC=\"http://schemas.xmlsoap.org/soap/encoding/\" xmlns:SOAP-ENV=\"http://schemas.xmlsoap.org/soap/envelope/\" xmlns:xsd=\"http://www.w3.org/2001/XMLSchema\" SOAP-ENV:encodingStyle=\"http://schemas.xmlsoap.org/soap/encoding/\"> 3.    <SOAP-ENV:Header> 4.      <RequesterCredentials xmlns=\"urn:ebay:api:PayPalAPI\"> 5.        <Credentials xmlns=\"urn:ebay:apis:eBLBaseComponents\"> 6.          <Username>\\n\\nLines Comment 6, 7 The Username and Password fields are part of the PayPal SOAP API RequesterCredentials security authentication mechanism you must construct for every SOAP request header. See RequesterCredentials for more information. 8 The Signature element should include your API Signature if that is the type of API credential you are using. 9 The Subject element should be included when using third-party permissions (performing transactions on behalf of another merchant who authorized you to do so). Pass the authorizing third-party\\'s merchant account ID (sometimes called Payer ID) or email address. 13 through 20 The SOAP request for every PayPal API follows this element-naming pattern. The API\\'s specific name is appended with Req , and in this element the Specific-API-Name -Req is nested. Each Specific-API-Name -Request has a corresponding Specific-API-Name -RequestType . 16 The number of the PayPal SOAP API version is required on each SOAP request. This version number is the value of ns:version in https://www.paypal.com/wsdl/PayPalSvc.wsdl . 17 For details about required and optional elements and values for specific requests, see the API references .\\n\\nSOAP Message Style: doc-literal\\n\\nPayPal uses doc-literal SOAP messaging, not rpc-encoding. With doc-literal, a single service interface call passes an XML document in the request to the PayPal API server, which responds with an XML document instance.\\n\\nResponse Structure\\n\\nThe following is an annotated description of the structure of a successful SOAP response from the PayPal API where Ack=Success:\\n\\nLines Comment 10 - 17 The Specific-API-Operation-Name - Response start and end elements. An example of an API operation is SetExpressCheckout . See the NVP/SOAP API reference for a complete list. 11 Each API response contains a Timestamp with its date and time in UTC/GMT format. 12 The acknowledgment ( Ack ) element contains the string Success indicating the corresponding request was successfully processed. When there\\'s an error, Ack is set to a value other than Success , and the response body contains an Errors element with information to help you troubleshoot the cause of the error. See Error Responses for more information. 14 The CorrelationID element contains information about the PayPal application that processed the request. Use the value of this element if you need to troubleshoot a problem with one of your requests. 16 The different PayPal APIs return different elements depending on their response definitions. For detailed information, see the descriptions in the API reference . Note: Because a field is defined in the formal structure of an API response, this does not mean that the field is necessarily returned. Data is returned in a response only if PayPal has recorded data that corresponds to the field.\\n\\nError Responses\\n\\nIf the Ack value is not Success, the payment or desired action may not go through.\\n\\nPossible values of the Ack response field are the following:\\n\\nSuccess — The request was successful.\\n\\nSuccessWithWarning — The request was successful but a warning error code was also returned.\\n\\nFailure — The API request failed. See error messages for details.\\n\\nFailureWithWarning — The API request failed and additional warning messages were returned.\\n\\nIf a request is malformed or contains some other error, the body of the SOAP response contains an Errors element with other elements that can help you troubleshoot the cause of the error.\\n\\nThe structure of error messages is as follows:\\n\\nThe most important of these additional elements are as follows:\\n\\nShortMessage\\n\\nLongMessage\\n\\nErrorCode\\n\\nNote: PayPal only passes selected values in ErrorParametersType.\\n\\nThe following example shows the error response if your API username and password do not match a legitimate API username and password on file with PayPal.\\n\\nExample of the SOAP Error Response: Bad Username or Password\\n\\nCorrelationID for Reporting Problems to PayPal\\n\\nThe value returned in CorrelationID is important for PayPal to determine the precise cause of any error you might encounter. If you have to troubleshoot a problem with your requests, we suggest that you capture the value of CorrelationID so you can report it to PayPal.\\n\\nUTF-8 Character Encoding\\n\\nThe PayPal API assumes that all data in requests is in Unicode, specifically, the Unicode (or UCS) Transformation Format, 8-bit encoding form (UTF-8).\\n\\nIn responses, the API always returns data in UTF-8.\\n\\nDate/Time Formats\\n\\nThe PayPal SOAP API schema defines date/time values as Coordinated Universal Time (UTC/GMT), using ISO 8601 format, and of type ns:dateTime.\\n\\nAn example date/time stamp is 2006-08-24T05:38:48Z\\n\\nCore Currency Amount Data Type\\n\\nThe core currency amount data type is called BasicAmountType and is derived from string. All currency amount fields have the following structure:\\n\\nThe currencyID attribute is required.\\n\\nThe amount must have two decimal places, except in the case of currencies that do not support decimal amounts.\\n\\nThe decimal separator must be a period (\".\").\\n\\nYou must not use any thousands separator.\\n\\nBasicAmountType has a data type of ebl:CurrencyCodeType, which defines a large number of different currency codes. However, for your processing to succeed, you must set currencyCode to a valid currency code.\\n\\nExample\\n\\nThe field name, Amount, is an example; actual field names can vary depending on the specific API operation.', metadata={'source': 'https://developer.paypal.com/api/nvp-soap/PayPalSOAPAPIArchitecture/'}),\n",
       " Document(page_content='NVP/SOAP API /\\n\\nCredentials\\n\\nCreate and Manage NVP/SOAP API Credentials\\n\\nAPILegacyLast updated: September 8th 2022, @ 6:04:23 pm\\n\\nWhen you call PayPal NVP/SOAP APIs, you must authenticate each request through a set of API credentials. PayPal associates these credentials with a PayPal account. You can generate credentials for any PayPal Business or Premier account.\\n\\nTypes of credentials\\n\\nAll PayPal API certificate credentials are 2048-bit, SHA-256 certificates that expire every three years.\\n\\nThe NVP/SOAP APIs support:\\n\\nAPI certificatesContain the API user name and password and the certificate.PayPal recommends that you use certificate credentials for security reasons. See API certificates.\\n\\nAPI signaturesContain the API user name and password and the signature. See API signatures.\\n\\nNote: All Adaptive platform APIs require that you supply an appID with your signature or certificate credentials. The Adaptive APIs include Adaptive Payments, Adaptive Accounts, Permissions Service, and Invoicing Service.\\n\\nAPI certificates\\n\\nLearn how to create and manage certificate API credentials.\\n\\nCreate API certificates\\n\\nNote: If your API certificate is expiring, proceed to Renew an API certificate.\\n\\nFor live credentials, log in to your PayPal business account at www.paypal.com.For test credentials, log in to the PayPal sandbox at www.sandbox.paypal.com with a sandbox merchant account.\\n\\nHover over your name and then click Account Settings from the dropdown menu.\\n\\nOn the Account access page, click Update for the API access item.\\n\\nClick Manage API Credentials in the NVP/SOAP API Integration (Classic) section.Note: If you have already generated an API certificate, clicking Manage API Credentials displays the certificate information. If you must generate an API certificate, click Remove Certification to delete the existing certificate.\\n\\nOn the Request API certificate page, select Request API certificate.Then, click Agree and Submit.The Manage API certificate page appears.\\n\\nClick Download Certificate.\\n\\nThe cert_key_pem.txt file contains the certificate. Save the file to a secure location.\\n\\nPayPal formats the API certificate file in PEM format. The file contains both your public certificate and the associated private key. Although the PEM certificate is not human readable, the file is not encrypted. For details, see Encrypt your certificate.\\n\\nRenew API certificates\\n\\nTo prevent an interruption in API services, you must renew and replace your certificate before it expires.\\n\\nFor live credentials, log in to your PayPal business account at www.paypal.com.For test credentials, log in to the PayPal sandbox at www.sandbox.paypal.com with a sandbox business account.\\n\\nHover over your name and then click Account Settings from the dropdown menu.\\n\\nOn the Account access page, click Update for the API access item.\\n\\nClick Manage API Credentials in the NVP/SOAP API Integration (Classic) section.\\n\\nCheck the status of your API certificate to verify whether it is Active or Expires soon.\\n\\nIf the status is Expires soon, click Renew Certificate.This action generates an additional certificate with the Active status. The Manage API certificate page shows both certificates.\\n\\nOn the certificate marked as Active, click Download Certificate and follow the steps to download a certificate.\\n\\nAfter you import the new API certificate, test your integration to ensure it works with the certificate. Distribute your certificate to all affected partners. After the old certificate expires, click Remove Certificate to remove the certificate.\\n\\nEncrypt API certificates\\n\\nThe PayPal SDKs for Java and ASP.NET require that you encrypt the certificate into PKCS12 format before you can use it with the SDKs.\\n\\nNote: The PayPal SDK for PHP does not require SSL encryption.\\n\\nTip: If you use encryption, ensure that you encrypt both your sandbox and live API certificates.\\n\\nThe steps to encrypt your certificate require the OpenSSL encryption tool. While UNIX users likely have this tool installed with their operating system, Windows users must download OpenSSL. To install OpenSSL, accept the defaults.\\n\\nIn a command prompt, ensure that the OpenSSL bin directory is in your system path. If not, add it to your path.\\n\\nChange directories to the location of the certificate to encrypt (cert_key_pem.txt) and run:openssl pkcs12 -export -in cert_key_pem.txt -inkey cert_key_pem.txt -out paypal_cert.p12\\n\\nNote: When you encrypt a certificate, you are prompted for a password to use to decrypt the file. At the Enter Export password prompt, enter a password. Store it in a secure location.\\n\\nThe paypal_cert.p12 file contains your encrypted API certificate.\\n\\nInstall API certificates for ASP.NET\\n\\nIf you are developing with the PayPal SDK for ASP.NET, Windows requires that you:\\n\\nImport the certificate into the Windows certificate store.  For more information, see the Microsoft Import or export certificates and private keys support article.\\n\\nGrant the user executing your web application access to your private key.\\nFor more information, see Grant third-party permissions.\\n\\nFor more information, see the PayPal How do I import my certificate into the Windows key store? knowledge base article.\\n\\nAPI signatures\\n\\nTo create an API signature:\\n\\nFor live credentials, log in to your PayPal business account at www.paypal.com.For test credentials, log in to the PayPal sandbox at www.sandbox.paypal.com with a sandbox business account.\\n\\nHover over your name and then click Account Settings from the dropdown menu.\\n\\nOn the Account access page, click Update for the API access item.\\n\\nClick Manage API Credentials in the NVP/SOAP API Integration (Classic) section.Note: If you have already generated an API signature, clicking Manage API Credentials displays the signature information. If you must generate an API signature, click Remove to delete the existing API signature.\\n\\nSelect Request API signature. Then, click Agree and Submit.', metadata={'source': 'https://developer.paypal.com/api/nvp-soap/apiCredentials/'}),\n",
       " Document(page_content='NVP/SOAP API /\\n\\nSDKs\\n\\nPayPal NVP/SOAP API SDKs\\n\\nAPI, SDKLegacyLast updated: September 8th 2022, @ 6:04:23 pm\\n\\nPayPal offers NVP/SOAP APIs to help you create a payments solution that meets your specific needs. To better serve developers, PayPal offers SDKs for the most popular platforms and languages to simplify integrations. For more detailed information, access the links provided to the SDKs in the following sections.\\n\\nYou can choose to use a PayPal SDK instead of creating messages as NVP strings or SOAP structures. These SDKs enable you to code in your preferred programming language, such as Java, PHP, and Ruby. The SDKs also let you focus on building your application business logic using clean service interfaces.\\n\\nFor the following APIs, you can directly access the SDK resources for your chosen programming language:\\n\\nNVP/SOAP API Java PHP .Net Ruby Adaptive Accounts Adaptive Accounts Java SDK Adaptive Accounts PHP SDK Adaptive Accounts .Net SDK Adaptive Accounts Ruby SDK Button Manager Button Manager Java SDK Button Manager PHP SDK Button Manager .Net SDK Button Manager Ruby SDK Express Checkout Merchant Java SDK Merchant PHP SDK Merchant .Net SDK Merchant Ruby SDK Invoicing Invoicing Java SDK Invoicing PHP SDK Invoicing .Net SDK Invoicing Ruby SDK Mass Payments Merchant Java SDK Merchant PHP SDK Merchant .Net SDK Merchant Ruby SDK Permissions Permissions Java SDK Permissions PHP SDK Permissions .Net SDK Permissions Ruby SDK Website Payments Pro Merchant Java SDK Merchant PHP SDK Merchant .Net SDK Merchant Ruby SDK\\n\\nThe following SDKs are also supported. You can browse the source code, bundled as part of the SDK ZIP files, to understand the details of these SDKs:\\n\\nPayflow Gateway SDK\\n\\nSupport, documentation, and other resources\\n\\nReference and other resources are available at the following locations:\\n\\nMerchant Technical Support\\n\\nPayPal Stack Overflow Forum\\n\\nPayPal Help Center\\n\\nGet Started with PayPal NVP/SOAP APIs\\n\\nNVP/SOAP API Endpoints\\n\\nCreate and manage NVP/SOAP API credentials', metadata={'source': 'https://developer.paypal.com/api/nvp-soap/nvpsoap-sdks/'}),\n",
       " Document(page_content='NVP/SOAP API /\\n\\nNVP Operations /\\n\\nSetExpressCheckout\\n\\nSetExpressCheckout API Operation (NVP)\\n\\nAPILegacyLast updated: September 8th 2022, @ 6:04:23 pm\\n\\nInitiates an Express Checkout transaction.\\n\\nSetExpressCheckout Request Message\\n\\nSetExpressCheckout Request Fields\\n\\nField Description METHOD (Required) Must be SetExpressCheckout . TOKEN (Optional) A timestamped token that indicates Express Checkout processing for the current payment. This token is typically returned in the SetExpressCheckout response, but if you are calling SetExpressCheckout a second time, using the Express Checkout second redirect flow , you can pass the same token back to SetExpressCheckout as a request parameter. PayPal also appends this token as a GET parameter named token to your RETURN URL when redirecting the buyer back to your website from paypal.com. By default, the token expires after three hours. To extend the lifetime of a token to 72 hours, contact PayPal customer service . Character length and limitations: 20 single-byte characters. PAYMENTREQUEST _n_ AMT (Required) Total cost of the transaction to the buyer. If shipping cost and tax charges are known, include them in this value. If not, this value should be the current sub-total of the order. If the transaction includes one or more one-time purchases, this field must be equal to the sum of the purchases. Set this field to 0 if the transaction does not include a one-time purchase such as when you set up a billing agreement for a recurring payment that is not immediately charged. When the field is set to 0, purchase-specific fields are ignored. You can specify up to 10 payments, where n is a digit between 0 and 9, inclusive; except for digital goods, which supports only single payments (set n to 0 ). Character length and limitations: `partial:partials/docs/shared/cl_currencylimit.en-XC` MAXAMT (Optional) The expected maximum total amount of the complete order, including shipping cost and tax charges. If the transaction includes one or more one-time purchases, this field is ignored. For recurring payments, you should pass the expected average transaction amount (default 25.00). PayPal uses this value to validate the buyer\\'s funding source. Character length and limitations: `partial:partials/docs/shared/cl_currencylimit.en-XC` Note: This field is required when you implement the Instant Update API callback . PayPal recommends that the maximum total amount be slightly greater than the sum of the line-item order details, tax, and the shipping options of greatest value. RETURNURL (Required) URL to which the buyer\\'s browser is returned after choosing to pay with PayPal. For digital goods, you must add JavaScript to this page to close the in-context experience. Note: PayPal recommends that the value be the final review page on which the buyer confirms the order and payment or billing agreement. Character length and limitations: 2048 single-byte characters. CANCELURL (Required) URL to which the buyer is returned if the buyer does not approve the use of PayPal to pay you. For digital goods, you must add JavaScript to this page to close the in-context experience. Note: PayPal recommends that the value be the original page on which the buyer chose to pay with PayPal or establish a billing agreement. Character length and limitations: 2048 single-byte characters. CALLBACK (Optional) The URL to which the callback request from PayPal is sent. It must start with HTTPS for production integration. It can start with HTTPS or HTTP for sandbox testing. Character length and limitations: 1024 single-byte characters. This field is available since version 53.0. CALLBACKTIMEOUT (Optional) An override for you to request more or less time to be able to process the callback request and respond. The acceptable range for the override is 1 to 6 seconds. If you specify a value greater than 6 , PayPal uses the default value of 3 seconds. Character length and limitations: An integer between 1 and 6 . NOSHIPPING Determines whether PayPal displays shipping address fields on the PayPal pages. For digital goods, this field is required, and you must set it to 1 . Value is: 0 — PayPal displays the shipping address on the PayPal pages. 1 — PayPal does not display shipping address fields and removes shipping information from the transaction. 2 — If you do not pass the shipping address, PayPal obtains it from the buyer\\'s account profile. Character length and limitations: 1 single-byte numeric characters. ADDROVERRIDE (Optional) Determines whether or not the PayPal pages should display the shipping address set by you in this SetExpressCheckout request, not the shipping address on file with PayPal for this buyer. Displaying the PayPal street address on file does not allow the buyer to edit that address. Value is: 0 — The PayPal pages should not display the shipping address. 1 — The PayPal pages should display the shipping address. Character length and limitations: 1 single-byte numeric character. CALLBACKVERSION Version of the callback API. This field is required when implementing the Instant Update Callback API. It must be set to 61.0 or a later version. This field is available since version 61.0. LOCALECODE (Optional) Locale of the pages displayed by PayPal during Express Checkout. It is either a two-letter country code or five-character locale code supported by PayPal. Note: If the locale code is not supplied or the supplied value is not one of the listed values, it is defaulted by PayPal. The default is determined using information about the current merchant, user, and other information for the session. Character length and limitations: A two-letter country code or five-character locale code supported by PayPal. LOGOIMG (Optional) A URL to your logo image. Use a valid graphics format, such as .gif , .jpg , or .png . Limit the image to 190 pixels wide by 60 pixels high. PayPal crops images that are larger. PayPal places your logo image at the top of the cart review area. Note: PayPal requires that you store the image on a secure (https) server. Character length and limit: 127 single-byte alphanumeric characters. This field is available since version 63.0. EMAIL (Optional) Email address of the buyer as entered during checkout. PayPal uses this value to pre-fill the PayPal membership signup portion on the PayPal pages. Character length and limitations: 127 single-byte alphanumeric characters. SOLUTIONTYPE ( Required in the US. By default, turns off guest checkout in the US. Optional in other countries. ) Type of checkout flow. Value is: Sole — Buyer can check out without creating a PayPal account. This is referred to as PayPal Account Optional. Mark — Buyer must have a PayPal account to check out. Note: You can pass Mark to selectively override the PayPal Account Optional setting if PayPal Account Optional is turned on in your merchant account. Passing Sole has no effect if PayPal Account Optional is turned off in your account. LANDINGPAGE (Optional) Type of PayPal page to display. Value is: Billing — Non-PayPal account Login — PayPal account login CHANNELTYPE (Optional) Type of channel. Value is: Merchant — Non-auction seller eBayItem — eBay auction TOTALTYPE (Optional) Type declaration for the label to be displayed in MiniCart for UX. Value is: Total EstimatedTotal GIROPAYSUCCESSURL (Optional) The URL on the merchant site to redirect to after a successful giropay payment. Note: Use this field only if you are using giropay or bank transfer payment methods in Germany. GIROPAYCANCELURL (Optional) The URL on the merchant site to redirect to after a successful giropay payment. Note: Use this field only if you are using giropay or bank transfer payment methods in Germany. BANKTXNPENDINGURL (Optional) The URL on the merchant site to transfer to after a bank transfer payment. Note: Use this field only if you are using giropay or bank transfer payment methods in Germany. BRANDNAME (Optional) A label that overrides the business name in the PayPal account on the PayPal hosted checkout pages. Character length and limitations: 127 single-byte alphanumeric characters. This field is available since version 60.0. PAYMENTREQUEST_n_PAYMENTREASON Indicates the type of transaction. Value is: None — Transaction is not identified as a particular type. Refund — Identifies the transaction as a refund.\\n\\nAddressType Fields\\n\\nField Description PAYMENTREQUEST _n_ SHIPTONAME xs:string Person\\'s name associated with this shipping address. It is required if using a shipping address. Character length and limitations: 128 double-byte characters. PAYMENTREQUEST _n_ SHIPTOSTREET First street address. It is required if using a shipping address. Character length and limitations: 100 single-byte characters. PAYMENTREQUEST _n_ SHIPTOSTREET2 (Optional) Second street address. Character length and limitations: 100 single-byte characters. PAYMENTREQUEST _n_ SHIPTOCITY Name of city. It is required if using a shipping address. Character length and limitations: 40 single-byte characters. PAYMENTREQUEST _n_ SHIPTOSTATE State or province. `partial:partials/docs/shared/cl_shiptostate.en-XC` Character length and limitations: 40 single-byte characters. PAYMENTREQUEST _n_ SHIPTOZIP U.S. ZIP code or other country-specific postal code. It is required if using a U.S. shipping address and may be required for other countries. Character length and limitations: 20 single-byte characters. PAYMENTREQUEST _n_ SHIPTOCOUNTRYCODE Country code. It is required if using a shipping address. Character length and limitations: 2 single-byte characters. PAYMENTREQUEST _n_ SHIPTOPHONENUM (Optional) Phone number. Character length and limitations: 20 single-byte characters.\\n\\nPayment Details Type Fields\\n\\nWhen implementing parallel payments, you can create up to 10 sets of payment details type parameter fields, each representing one payment you are hosting on your marketplace.\\n\\nField Description PAYMENTREQUEST _n_ AMT (Required) Total cost of the transaction to the buyer. If shipping cost and tax charges are known, include them in this value. If not, this value should be the current sub-total of the order. If the transaction includes one or more one-time purchases, this field must be equal to the sum of the purchases. Set this field to 0 if the transaction does not include a one-time purchase such as when you set up a billing agreement for a recurring payment that is not immediately charged. When the field is set to 0, purchase-specific fields are ignored. You can specify up to 10 payments, where n is a digit between 0 and 9, inclusive; except for digital goods, which supports single payments only. Character length and limitations: `partial:partials/docs/shared/cl_currencylimit.en-XC` PAYMENTREQUEST _n_ CURRENCYCODE (Optional) A 3-character currency code (default is USD). You can specify up to 10 payments, where n is a digit between 0 and 9, inclusive; except for digital goods, which supports single payments only. Note: When multiple payments are passed in one transaction, all of the payments must have the same currency code . PAYMENTREQUEST _n_ ITEMAMT Sum of cost of all items in this order. For digital goods, this field is required. You can specify up to 10 payments, where n is a digit between 0 and 9, inclusive; except for digital goods, which supports single payments only. Note: PAYMENTREQUEST _n_ ITEMAMT is required if you specify L_PAYMENTREQUEST _n_ AMT m . Character length and limitations: `partial:partials/docs/shared/cl_currencylimit.en-XC` PAYMENTREQUEST _n_ SHIPPINGAMT (Optional) Total shipping costs for this order. You can specify up to 10 payments, where n is a digit between 0 and 9, inclusive. Note: If you specify a value for PAYMENTREQUEST _n_ SHIPPINGAMT , you must also specify a value for PAYMENTREQUEST _n_ ITEMAMT . Character length and limitations: `partial:partials/docs/shared/cl_currencylimit.en-XC` PAYMENTREQUEST _n_ INSURANCEAMT (Optional) Total shipping insurance costs for this order. The value must be a non-negative currency amount or null if insurance options are offered. You can specify up to 10 payments, where n is a digit between 0 and 9, inclusive. Character length and limitations: `partial:partials/docs/shared/cl_currencylimit.en-XC` PAYMENTREQUEST _n_ SHIPDISCAMT (Optional) Shipping discount for this order, specified as a negative number. You can specify up to 10 payments, where n is a digit between 0 and 9, inclusive. For example ( PAYMENTREQUEST_0_SHIPDISCAMT, PAYMENTREQUEST_1_SHIPDISCAMT ). Character length and limitations: `partial:partials/docs/shared/cl_currencylimit_neg.en-XC` PAYMENTREQUEST _n_ INSURANCEOPTIONOFFERED (Optional) Indicates whether insurance is available as an option the buyer can choose on the PayPal Review page. You can specify up to 10 payments, where n is a digit between 0 and 9, inclusive. Is one of the following values: true — The Insurance option displays the string \\'Yes\\' and the insurance amount. If true , the total shipping insurance for this order must be a positive number. false — The Insurance option displays \\'No.\\' PAYMENTREQUEST _n_ HANDLINGAMT (Optional) Total handling costs for this order. You can specify up to 10 payments, where n is a digit between 0 and 9, inclusive. Note: If you specify a value for PAYMENTREQUEST_n_HANDLINGAMT , you must also specify a value for PAYMENTREQUEST_n_ITEMAMT . Character length and limitations: `partial:partials/docs/shared/cl_currencylimit.en-XC` PAYMENTREQUEST _n_ TAXAMT (Optional) Sum of tax for all items in this order. You can specify up to 10 payments, where n is a digit between 0 and 9, inclusive; except for digital goods, which supports single payments only. Note: PAYMENTREQUEST _n_ TAXAMT is required if you specify L_PAYMENTREQUEST _n_ TAXAMTm Character length and limitations: `partial:partials/docs/shared/cl_currencylimit.en-XC` PAYMENTREQUEST _n_ DESC (Optional) Description of items the buyer is purchasing. You can specify up to 10 payments, where n is a digit between 0 and 9, inclusive; except for digital goods, which supports single payments only. Note: The value you specify is available only if the transaction includes a purchase. This field is ignored if you set up a billing agreement for a recurring payment that is not immediately charged. Character length and limitations: 127 single-byte alphanumeric characters. PAYMENTREQUEST _n_ CUSTOM (Optional) A free-form field for your own use. You can specify up to 10 payments, where n is a digit between 0 and 9, inclusive. Note: The value you specify is available only if the transaction includes a purchase. This field is ignored if you set up a billing agreement for a recurring payment that is not immediately charged. Character length and limitations: 256 single-byte alphanumeric characters. PAYMENTREQUEST _n_ INVNUM (Optional) Your own invoice or tracking number.You can specify up to 10 payments, where n is a digit between 0 and 9, inclusive; except for digital goods, which supports single payments only. Note: PayPal recommends using this field to associate transactions with your internal tracking IDs or invoice numbers; populating the invoice ID field will help you pull transaction information at a later date using only your internal ID. Important: The value you specify is available only if the transaction includes a purchase. This field is ignored if you set up a billing agreement for a recurring payment that is not immediately charged. Character length and limitations: 256 single-byte alphanumeric characters. PAYMENTREQUEST _n_ NOTIFYURL (Optional) Your URL for receiving Instant Payment Notification (IPN) about this transaction. If you do not specify this value in the request, the notification URL from your Merchant Profile is used, if one exists.You can specify up to 10 payments, where n is a digit between 0 and 9, inclusive; except for digital goods, which supports single payments only. Important: The notify URL applies only to DoExpressCheckoutPayment . This value is ignored when set in SetExpressCheckout or GetExpressCheckoutDetails . Character length and limitations: 2,048 single-byte alphanumeric characters. PAYMENTREQUEST _n_ MULTISHIPPING (Optional) The value 1 indicates that this payment is associated with multiple shipping addresses. Character length and limitations: Four single-byte numeric characters. PAYMENTREQUEST _n_ NOTETEXT (Optional) Note to the merchant. You can specify up to 10 payments, where n is a digit between 0 and 9, inclusive. Character length and limitations: 255 single-byte characters. NOTETOBUYER (Optional) A note from the merchant to the buyer that will be displayed in the PayPal checkout window. Character length and limitations: 165 single-byte characters. PAYMENTREQUEST _n_ ALLOWEDPAYMENTMETHOD (Optional) The payment method type. Specify the value InstantPaymentOnly . You can specify up to 10 payments, where n is a digit between 0 and 9, inclusive. PAYMENTREQUEST _n_ PAYMENTACTION (Conditional) Defines how to obtain payment. Required for parallel payments and digital goods. You can specify up to 10 payments, where n is a digit between 0 and 9, inclusive; except in the case of digital goods, which supports single payments only and where n is 0 . If the transaction does not include a one-time purchase, this field is ignored. Values are: Sale — This is a final sale for which you are requesting payment (default). Authorization — This payment is a basic authorization subject to settlement with PayPal Authorization and Capture. Order — This payment is an order authorization subject to settlement with PayPal Authorization and Capture. Note: You cannot set this field to Sale in SetExpressCheckout request and then change the value to Authorization or Order in the DoExpressCheckoutPayment request. If you set the field to Authorization or Order in SetExpressCheckout , you may set the field to Sale . Character length and limitations: Up to 13 single-byte alphabetic characters. PAYMENTREQUEST _n_ PAYMENTREQUESTID A unique identifier of the specific payment request, which is required for parallel payments. You can specify up to 10 payments, where n is a digit between 0 and 9, inclusive. Character length and limitations: Up to 127 single-byte characters. PAYMENTREQUEST _n_ BUCKETCATEGORYTYPE (Optional) The category of a payment. Value is: 1 — International shipping 2 — Local delivery 3 — BOPIS , Buy online pick-up in store 4 — PUDO , Pick-up drop-off PAYMENTREQUEST _n_ LOCATION_TYPE (Optional) Type of merchant location. Set this field if the items purchased will not be shipped, such as, BOPIS (buy online pick-up in store) transactions. Value is: 1 — Consumer 2 — Store, for BOPIS (buy online pick-up in store) transactions 3 — PickupDropoff, for PUDO (pick-up drop-off) transactions PAYMENTREQUEST _n_ LOCATION_ID (Optional) Location ID specified by the merchant for BOPIS (buy online pick-up in store) or PUDO (pick-up drop-off) transactions.\\n\\nPayment Details Item Type Fields\\n\\nNote: If you provide PayPal a user\\'s itemized shopping cart list and a mismatch occurs between the sum of those items and the transaction total, PayPal processes the transaction using the sum of the cart items only when the difference is within $0.50.\\n\\nField Description L_PAYMENTREQUEST _n_ NAME m Item name. This field is required when L_PAYMENTREQUEST _n_ ITEMCATEGORY m is passed. You can specify up to 10 payments, where n is a digit between 0 and 9, inclusive, and m specifies the list item within the payment; except for digital goods, which supports single payments only. These parameters must be ordered sequentially beginning with 0 (for example L_PAYMENTREQUEST _n_ NAME0 , L_PAYMENTREQUEST _n_ NAME1 ). Character length and limitations: 127 single-byte characters. L_PAYMENTREQUEST _n_ DESC m (Optional) Item description. You can specify up to 10 payments, where n is a digit between 0 and 9, inclusive, and m specifies the list item within the payment; except for digital goods, which supports single payments only. These parameters must be ordered sequentially beginning with 0 (for example L_PAYMENTREQUEST _n_ DESC0 , L_PAYMENTREQUEST _n_ DESC1 ). Character length and limitations: 127 single-byte characters. L_PAYMENTREQUEST _n_ AMT m (Required) Cost of item. This field is required for the payment details to appear to the buyer at checkout. It is also required when L_PAYMENTREQUEST _n_ ITEMCATEGORY m is passed. You can specify up to 10 payments, where n is a digit between 0 and 9, inclusive, and m specifies the list item within the payment; except for digital goods, which supports single payments only. These parameters must be ordered sequentially beginning with 0 (for example L_PAYMENTREQUEST _n_ AMT0 , L_PAYMENTREQUEST _n_ AMT1 ). Note: If you specify a value for L_PAYMENTREQUEST _n_ AMT m , you must specify a value for PAYMENTREQUEST _n_ ITEMAMT . Character length and limitations: `partial:partials/docs/shared/cl_currencylimit.en-XC` Note: If the line item is a discount, a negative value must be passed in this field. L_PAYMENTREQUEST _n_ NUMBER m (Optional) Item number. You can specify up to 10 payments, where n is a digit between 0 and 9, inclusive, and m specifies the list item within the payment. These parameters must be ordered sequentially beginning with 0 (for example L_PAYMENTREQUEST _n_ NUMBER0 , L_PAYMENTREQUEST _n_ NUMBER1 ). Character length and limitations: 127 single-byte characters. L_PAYMENTREQUEST _n_ QTY m Item quantity. This field is required when L_PAYMENTREQUEST _n_ ITEMCATEGORY m is passed. For digital goods ( L_PAYMENTREQUEST _n_ ITEMCATEGORY m =Digital ), this field is required. You can specify up to 10 payments, where n is a digit between 0 and 9, inclusive, and m specifies the list item within the payment; except for digital goods, which only supports single payments. These parameters must be ordered sequentially beginning with 0 (for example L_PAYMENTREQUEST _n_ QTY0 , L_PAYMENTREQUEST _n_ QTY1 ). Character length and limitations: Any positive integer. L_PAYMENTREQUEST _n_ TAXAMT m (Optional) Item sales tax. You can specify up to 10 payments, where n is a digit between 0 and 9, inclusive, and m specifies the list item within the payment; except for digital goods, which only supports single payments. These parameters must be ordered sequentially beginning with 0 (for example L_PAYMENTREQUEST _n_ TAXAMT0 , L_PAYMENTREQUEST _n_ TAXAMT1 ). Character length and limitations: `partial:partials/docs/shared/cl_currencylimit.en-XC` L_PAYMENTREQUEST _n_ ITEMWEIGHTVALUE m , L_PAYMENTREQUEST _n_ ITEMWEIGHTUNIT m (Optional) Item weight corresponds to the weight of the item. You can pass this data to the shipping carrier as is without having to make an additional database query. You can specify up to 10 payments, where n is a digit between 0 and 9, inclusive, and m specifies the list item within the payment;. These parameters must be ordered sequentially beginning with 0 (for example L_PAYMENTREQUEST _n_ ITEMWEIGHTVALUE0 , L_PAYMENTREQUEST _n_ ITEMWEIGHTVALUE1 ). Character length and limitations: Any positive integer. L_PAYMENTREQUEST _n_ ITEMLENGTHVALUE m , L_PAYMENTREQUEST _n_ ITEMLENGTHUNIT m (Optional) Item length corresponds to the length of the item. You can pass this data to the shipping carrier as is without having to make an additional database query. You can specify up to 10 payments, where n is a digit between 0 and 9, inclusive, and m specifies the list item within the payment. These parameters must be ordered sequentially beginning with 0 (for example L_PAYMENTREQUEST _n_ ITEMLENGTHVALUE0 , L_PAYMENTREQUEST _n_ ITEMLENGTHVALUE1 ). Character length and limitations: Any positive integer. L_PAYMENTREQUEST _n_ ITEMWIDTHVALUE m , L_PAYMENTREQUEST _n_ ITEMWIDTHUNIT m (Optional) Item width corresponds to the width of the item. You can pass this data to the shipping carrier as is without having to make an additional database query. You can specify up to 10 payments, where n is a digit between 0 and 9, inclusive, and m specifies the list item within the payment. These parameters must be ordered sequentially beginning with 0 (for example L_PAYMENTREQUEST _n_ ITEMWIDTHVALUE0 , L_PAYMENTREQUEST _n_ ITEMWIDTHVALUE1 ). Character length and limitations: Any positive integer. L_PAYMENTREQUEST _n_ ITEMHEIGHTVALUE m , L_PAYMENTREQUEST _n_ ITEMHEIGHTUNIT m (Optional) Item height corresponds to the height of the item. You can pass this data to the shipping carrier as is without having to make an additional database query. You can specify up to 10 payments, where n is a digit between 0 and 9, inclusive, and m specifies the list item within the payment. These parameters must be ordered sequentially beginning with 0 (for example L_PAYMENTREQUEST _n_ ITEMHEIGHTVALUE0 , L_PAYMENTREQUEST _n_ ITEMHEIGHTVALUE1 ). Character length and limitations: Any positive integer. L_PAYMENTREQUEST _n_ ITEMURL m (Optional) URL for the item. You can specify up to 10 payments, where n is a digit between 0 and 9, inclusive, and m specifies the list item within the payment. These parameters must be ordered sequentially beginning with 0 (for example L_PAYMENTREQUEST _n_ ITEMURL0 , L_PAYMENTREQUEST _n_ ITEMURL1 ). L_PAYMENTREQUEST _n_ ITEMCATEGORY m Indicates whether an item is digital or physical. For digital goods, this field is required and must be set to Digital . You can specify up to 10 payments, where n is a digit between 0 and 9, inclusive, and m specifies the list item within the payment; except for digital goods, which only supports single payments. These parameters must be ordered sequentially beginning with 0 (for example L_PAYMENTREQUEST _n_ ITEMCATEGORY0 , L_PAYMENTREQUEST _n_ ITEMCATEGORY1 ). Value is: Digital Physical Important: You must have permission from PayPal to use this field for Digital Goods. This field is available since version 65.1.\\n\\nSeller Details Type Field\\n\\nField Description PAYMENTREQUEST _n_ SELLERPAYPALACCOUNTID Unique identifier for the merchant. For parallel payments, this field is required and must contain the Payer Id or the email address of the merchant. You can specify up to 10 payments, where n is a digit between 0 and 9, inclusive. Character length and limitations: 127 single-byte alphanumeric characters.\\n\\nEbayItemPaymentDetailsItem Type Fields\\n\\nField Description L_PAYMENTREQUEST _n_ EBAYITEMNUMBER m (Optional) Auction item number. You can specify up to 10 payments, where n is a digit between 0 and 9, inclusive, and m specifies the list item within the payment. These parameters must be ordered sequentially beginning with 0 (for example L_PAYMENTREQUEST _n_ EBAYITEMNUMBER0 , L_PAYMENTREQUEST _n_ EBAYITEMNUMBER1 ). Character length: 765 single-byte characters. L_PAYMENTREQUEST _n_ EBAYITEMAUCTIONTXNID m (Optional) Auction transaction identification number. You can specify up to 10 payments, where n is a digit between 0 and 9, inclusive, and m specifies the list item within the payment. These parameters must be ordered sequentially beginning with 0 (for example L_PAYMENTREQUEST _n_ EBAYITEMAUCTIONTXNID0 , L_PAYMENTREQUEST _n_ EBAYITEMAUCTIONTXNID1 ). Character length: 255 single-byte characters. L_PAYMENTREQUEST _n_ EBAYITEMORDERID m (Optional) Auction order identification number. You can specify up to 10 payments, where n is a digit between 0 and 9, inclusive, and m specifies the list item within the payment. These parameters must be ordered sequentially beginning with 0 (for example L_PAYMENTREQUEST _n_ EBAYITEMORDERID0 , L_PAYMENTREQUEST _n_ EBAYITEMORDERID1 ). Character length: 64 single-byte characters. L_PAYMENTREQUEST _n_ EBAYCARTID m (Optional) The unique identifier provided by eBay for this order from the buyer. You can specify up to 10 payments, where n is a digit between 0 and 9, inclusive, and m specifies the list item within the payment. These parameters must be ordered sequentially beginning with 0 (for example L_PAYMENTREQUEST _n_ EBAYITEMCARTID0 , L_PAYMENTREQUEST _n_ EBAYITEMCARTID1 ). Character length: 255 single-byte characters.\\n\\nBuyer Details Fields\\n\\nField Description BUYERID (Optional) The unique identifier provided by eBay for this buyer. The value may or may not be the same as the username. In the case of eBay, it is different. Character length and limitations: 255 single-byte characters. BUYERUSERNAME xs:string (Optional) The user name of the user at the platform site. BUYERREGISTRATIONDATE xs:dateTime (Optional) Date when the user registered with the marketplace. Character length and limitations: `partial:partials/docs/shared/cl_utcgmtdate_res.en-XC`\\n\\nFundingSourceDetailsType Fields\\n\\nField Description ALLOWPUSHFUNDING (Optional) Indicates whether the merchant can accept push funding. Value is: 0 — Merchant cannot accept push funding. 1 — Merchant can accept push funding. Note: This field overrides the setting in the merchant\\'s PayPal account. USERSELECTEDFUNDINGSOURCE (Optional) This element could be used to specify the preferred funding option for a guest user. However, the LANDINGPAGE element must also be set to Billing . Otherwise, it is ignored. ChinaUnionPay CreditCard ELV QIWI BILLING_AGREEMENT_ID (Optional) The billing agreement ID that the merchant passes. This ID applies to future payments using reference transactions . The merchant passes the ID when they want to change the payment method for a specific reference transaction.\\n\\nShipping Options Type Fields\\n\\nField Description L_SHIPPINGOPTIONISDEFAULT n (Required) The default shipping option that appears on the PayPal pages. This field is required if you specify the callback URL. Value is: true — The default. PayPal displays this flat-rate shipping option and its amount as the default shipping option. false — PayPal does not display this flat-rate shipping option and its amount as the default shipping option. If you specify false , you can adjust either or both of these values: PAYMENTREQUEST_ n _TAXAMT . PAYMENTREQUEST_ n _INSURANCEAMT . Note: You must specify one and only one default shipping option. L_SHIPPINGOPTIONNAME n Internal name of the shipping option such as Air, Ground, Expedited, and so forth. This field is required if you specify the Callback URL. Character length and limitations: 50 character-string. L_SHIPPINGOPTIONAMOUNT n Amount of the flat rate shipping option. This field is required if you specify the Callback URL. Character length and limitations: `partial:partials/docs/shared/cl_currencylimit.en-XC`\\n\\nBilling Agreement Details Type Fields\\n\\nField Description L_BILLINGTYPE n (Required) Type of billing agreement. For recurring payments, this field must be set to RecurringPayments . Note: The n formatting is retained for backwards compatibility and can now only be 0 . PayPal ignores any other numbers. Type of billing agreement for reference transactions. You must have permission from PayPal to use this field. This field must be set to one of the following values: MerchantInitiatedBilling - PayPal creates a billing agreement for each transaction associated with buyer. You must specify version 54.0 or higher to use this option. MerchantInitiatedBillingSingleAgreement - PayPal creates a single billing agreement for all transactions associated with buyer. Use this value unless you need per-transaction billing agreements. You must specify version 58.0 or higher to use this option. L_BILLINGAGREEMENTDESCRIPTION n Description of goods or services associated with the billing agreement. This field is required for the recurring payment billing agreement. There can only be one billing agreement type and one billing agreement description. Note: The n formatting is retained for backwards compatibility and can now only be 0 . PayPal ignores any other numbers. PayPal recommends that the description contains a brief summary of the billing agreement terms and conditions. For example, buyer is billed at \"9.99 per month for 2 years\". Character length and limitations: 127 single-byte alphanumeric characters. L_PAYMENTTYPE n (Optional) Type of PayPal payment you require for the billing agreement. Value is: Any — The merchant accepts any payment method for the billing agreement, even if it could take a few working days for the movement of funds to the merchant account; this includes echeck, in addition to credit or debit cards and PayPal balance. InstantOnly — The payment options accepted by the merchant are credit cards, debit cards or PayPal balance only because the merchant expects immediate payment. Note: For recurring payments, this field is ignored. L_BILLINGAGREEMENTCUSTOM n (Optional) Custom annotation field for your own use. Note: For recurring payments, this field is ignored. Character length and limitations: 256 single-byte alphanumeric bytes.\\n\\nTax Id Details Type Fields\\n\\nField Description TAXIDTYPE Buyer\\'s tax ID type. This field is required for Brazil and used for Brazil only. For Brazil use only: The tax ID type is BR_CPF for individuals and BR_CNPJ for businesses. This field is introduced in API version 72.0. TAXID Buyer\\'s tax ID. This field is required for Brazil and used for Brazil only. For Brazil use only: The tax ID is 11 single-byte characters for individuals and 14 single-byte characters for businesses. This field is introduced in API version 72.0.\\n\\nSetExpressCheckout Response Message\\n\\nSetExpressCheckout Response Fields\\n\\nField Description TOKEN A timestamped token that indicates Express Checkout processing for the current payment. PayPal also appends this token as a GET parameter named token to your RETURN URL or CANCEL URL when redirecting the buyer back to your website from paypal.com. By default, the token expires after three hours. Contact PayPal customer service to extend the lifetime of a token to 72 hours. Character length and limitations: 20 single-byte characters.\\n\\nDeprecated Fields\\n\\nThe following fields are deprecated. Replacement fields are noted when available.\\n\\nDeprecated SetExpressCheckout Request Fields\\n\\nDeprecated field Replacement field Since Version/Date ALLOWNOTE (No replacement.) (Optional) Enables the buyer to enter a note to the merchant on the PayPal page during checkout. The note is returned in the GetExpressCheckoutDetails response and the DoExpressCheckoutPayment response. Value is: 0 — The buyer is unable to enter a note to the merchant. 1 — The buyer is able to enter a note to the merchant. Character length and limitations: 1 single-byte numeric character This field is available since version 53.0. September 2016 AMT PAYMENTREQUEST _n_ AMT 63 BUYEREMAILOPTINENABLE (No replacement.) (Optional) Enables the buyer to provide their email address on the PayPal pages to be notified of promotions or special events. Is one of the following values: 0 – Do not enable buyer to provide email address. 1 – Enable the buyer to provide email address. In all versions CARTBORDERCOLOR (No replacement.) (Optional) The HTML hex code for your principal identifying color. PayPal blends your color to white in a gradient fill that borders the cart review area of the PayPal checkout user interface. Character length and limitation: 6 single-byte hexadecimal characters that represent an HTML hex code for a color. September 2016 CUSTOMERSERVICENUMBER (No replacement.) (Optional) Merchant Customer Service number displayed on the PayPal pages. Character length and limitations: 16 single-byte characters. September 2016 GIFTMESSAGEENABLE (No replacement.) (Optional) Enables the gift message widget on the PayPal pages. Value is: 0 — Do not enable gift message widget. 1 — Enable gift message widget. Sept. 8, 2016 GIFTRECEIPTENABLE (No replacement.) (Optional) Enable gift receipt widget on the PayPal pages. Value is: 0 — Do not enable gift receipt widget. 1 — Enable gift receipt widget. Sept. 8, 2016 GIFTWRAPENABLE (No replacement.) (Optional) Enable gift wrap widget on the PayPal pages. Value is: 0 — Do not enable gift wrap widget. 1 — Enable gift wrap widget. Note: If you pass the value 1 in this field, values for the gift wrap amount and gift wrap name are not passed, the gift wrap name is not displayed, and the gift wrap amount displays as 0.00. Sept. 8, 2016 GIFTWRAPNAME (No replacement.) (Optional) Label for the gift wrap option such as \"Box with ribbon\". Character length and limitations: 25 single-byte characters. Sept. 8, 2016 GIFTWRAPAMOUNT (No replacement.) (Optional) Amount to be charged to the buyer for gift wrapping. Character length and limitations: `partial:partials/docs/shared/cl_currencylimit.en-XC` Sept. 8, 2016 HDRBACKCOLOR (No replacement.) (Optional) Sets the background color for the header of the payment page. By default, the color is white. Character length and limitations: 6-character HTML hexadecimal ASCII color code. 63 HDRBORDERCOLOR (No replacement.) (Optional) Sets the border color around the header of the payment page. The border is a 2-pixel perimeter around the header space, which is 750 pixels wide by 90 pixels high. By default, the color is black. Character length and limitations: 6-character HTML hexadecimal ASCII color code. 63 PAYMENTACTION PAYMENTREQUEST _n_ PAYMENTACTION 63 HDRIMG (Optional) URL for the image you want to appear at the top left of the payment page. The image has a maximum size of 750 pixels wide by 90 pixels high. PayPal requires that you provide an image that is stored on a secure (https) server. If you do not specify an image, the business name displays. Character length and limitations: 127 single-byte alphanumeric characters. 63 PAGESTYLE (No replacement.) (Optional) Name of the Custom Payment Page Style for payment pages associated with this button or link. It corresponds to the HTML variable page_style for customizing payment pages. It is the same name as the Page Style Name you chose to add or edit the page style in your PayPal Account profile. Note: You can customize up to 3 different page styles in your PayPal account. Character length and limitations: 30 single-byte alphabetic characters. September 2016 PAYFLOWCOLOR (No replacement.) (Optional) Sets the background color for the payment page. By default, the color is white. Character length and limitations: 6-character HTML hexadecimal ASCII color code. September 2016 REQCONFIRMSHIPPING (No replacement.) Indicates whether or not you require the buyer\\'s shipping address on file with PayPal be a confirmed address. For digital goods, this field is required, and you must set it to 0. Value is: 0 — You do not require the buyer\\'s shipping address be a confirmed address. 1 — You require the buyer\\'s shipping address be a confirmed address. Note: Setting this field overrides the setting you specified in your Merchant Account Profile. Character length and limitations: 1 single-byte numeric character. September 2016 SURVEYQUESTION (No replacement.) (Optional) Text for the survey question on the PayPal pages. If the survey question is present, at least 2 survey answer options must be present. Character length and limitations: 50 single-byte characters. Sept. 8, 2016 SURVEYENABLE (No replacement.) (Optional) Enables survey functionality. Value is: 0 — Disables survey functionality. 1 — Enables survey functionality. Sept. 8, 2016 L_SURVEYCHOICEn (No replacement.) (Optional) Possible options for the survey answers on the PayPal pages. Answers are displayed only if a valid survey question is present. Character length and limitations: 15 single-byte characters. Sept. 8, 2016\\n\\nDeprecated Address Type Fields\\n\\nDeprecated field Replacement field Since Version SHIPTONAME PAYMENTREQUEST _n_ SHIPTONAME 63 SHIPTOSTREET PAYMENTREQUEST _n_ SHIPTOSTREET 63 SHIPTOSTREET2 PAYMENTREQUEST _n_ SHIPTOSTREET2 63 SHIPTOCITY PAYMENTREQUEST _n_ SHIPTOCITY 63 SHIPTOSTATE PAYMENTREQUEST _n_ SHIPTOSTATE 63 SHIPTOZIP PAYMENTREQUEST _n_ SHIPTOZIP 63 SHIPTOCOUNTRY PAYMENTREQUEST _n_ SHIPTOCOUNTRYCODE 63 SHIPTOPHONENUM PAYMENTREQUEST _n_ SHIPTOPHONENUM 63\\n\\nDeprecated Payment Details Type Fields\\n\\nDeprecated field Replacement field Since Version AMT PAYMENTREQUEST _n_ AMT 63 CURRENCYCODE PAYMENTREQUEST _n_ CURRENCYCODE 63 ITEMAMT PAYMENTREQUEST _n_ ITEMAMT 63 SHIPPINGAMT PAYMENTREQUEST _n_ SHIPPINGAMT 63 INSURANCEAMT PAYMENTREQUEST _n_ INSURANCEAMT 63 SHIPPINGDISCAMT PAYMENTREQUEST _n_ SHIPDISCAMT 63 INSURANCEOPTIONOFFERED PAYMENTREQUEST _n_ INSURANCEOPTIONOFFERED 63 HANDLINGAMT PAYMENTREQUEST _n_ HANDLINGAMT 63 TAXAMT PAYMENTREQUEST _n_ TAXAMT 63 DESC PAYMENTREQUEST _n_ DESC 63 CUSTOM PAYMENTREQUEST _n_ CUSTOM 63 INVNUM PAYMENTREQUEST _n_ INVNUM 63 NOTIFYURL PAYMENTREQUEST _n_ NOTIFYURL 63 NOTETEXT PAYMENTREQUEST _n_ NOTETEXT 63 TRANSACTIONID PAYMENTREQUEST _n_ TRANSACTIONID 63 ALLOWEDPAYMENTMETHOD PAYMENTREQUEST _n_ ALLOWEDPAYMENTMETHOD 63 PAYMENTACTION PAYMENTREQUEST _n_ PAYMENTACTION 63 PAYMENTREQUESTID PAYMENTREQUEST _n_ PAYMENTREQUESTID 63\\n\\nDeprecated Payment Details Item Type Fields\\n\\nDeprecated field Replacement field Since Version L_NAME n L_PAYMENTREQUEST _n_ NAME m 63 L_DESC n L_PAYMENTREQUEST _n_ DESC m 63 L_AMT n L_PAYMENTREQUEST _n_ AMT m 63 L_NUMBER n L_PAYMENTREQUEST _n_ NUMBER m 63 L_QTY n L_PAYMENTREQUEST _n_ QTY m 63 L_TAXAMT n L_PAYMENTREQUEST _n_ TAXAMT m 63 L_ITEMWEIGHTTVALUE n L_PAYMENTREQUEST _n_ ITEMWEIGHTVALUE m 63 L_ITEMWEIGHTUNIT n L_PAYMENTREQUEST _n_ ITEMWEIGHTUNIT m 63 L_ITEMLENGTHVALUE n L_PAYMENTREQUEST _n_ ITEMLENGTHVALUE m 63 L_ITEMLENGTHUNIT n L_PAYMENTREQUEST _n_ ITEMLENGTHUNIT m 63 L_ITEMWIDTHVALUE n L_PAYMENTREQUEST _n_ ITEMWIDTHVALUE m 63 L_ITEMWIDTHUNIT n L_PAYMENTREQUEST _n_ ITEMWIDTHUNIT m 63 L_ITEMHEIGHTVALUE n L_PAYMENTREQUEST _n_ ITEMHEIGHTVALUE m 63 L_ITEMHEIGHTUNIT n L_PAYMENTREQUEST _n_ ITEMHEIGHTUNIT m 63 L_ITEMURL n L_PAYMENTREQUEST _n_ ITEMURL m 63\\n\\nDeprecated EbayItemPaymentDetailsItemType Fields\\n\\nDeprecated field Replacement field Since Version L_EBAYITEMNUMBER n L_PAYMENTREQUEST _n_ EBAYITEMNUMBER m 63 L_EBAYAUCTIONTXNID n L_PAYMENTREQUEST _n_ EBAYAUCTIONTXNID m 63 L_EBAYITEMORDERID n L_PAYMENTREQUEST _n_ EBAYITEMORDERID m 63 L_EBAYITEMCARTID n L_PAYMENTREQUEST _n_ EBAYITEMCARTID m 63\\n\\nAdditional information\\n\\nAPI error codes', metadata={'source': 'https://developer.paypal.com/api/nvp-soap/set-express-checkout-nvp/'}),\n",
       " Document(page_content='NVP/SOAP API /\\n\\nSOAP Operations /\\n\\nSetExpressCheckout\\n\\nSetExpressCheckout API Operation (SOAP)\\n\\nAPILegacyLast updated: September 8th 2022, @ 6:04:23 pm\\n\\nInitiates an Express Checkout transaction.\\n\\nSetExpressCheckout Request Message\\n\\nSetExpressCheckout Request Fields\\n\\nField Description Token xs:string (Optional) A timestamped token that indicates Express Checkout processing for the current payment. This token is typically returned in the SetExpressCheckout response, but if you are calling SetExpressCheckout a second time, using the Express Checkout second redirect flow , you can pass the same token back to SetExpressCheckout as a request parameter. PayPal also appends this token as a GET parameter named token to your RETURN URL when redirecting the buyer back to your website from paypal.com. By default, the token expires after three hours. To extend the lifetime of a token to 72 hours, contact PayPal customer service . Character length and limitations: 20 single-byte characters MaxAmount ebl:BasicAmountType (Optional) The expected maximum total amount of the complete order, including shipping cost and tax charges. If the transaction includes one or more one-time purchases, this field is ignored. For recurring payments, you should pass the expected average transaction amount (default 25.00). PayPal uses this value to validate the buyer\\'s funding source. Character length and limitations: `partial:partials/docs/shared/cl_currencylimit.en-XC` Note: This field is required when implementing the Instant Update API callback. PayPal recommends that the maximum total amount be slightly greater than the sum of the line-item order details, tax, and the shipping options of greatest value. Note: You must set the currencyID attribute to one of the three-character currency codes for any of the supported PayPal currencies. ReturnURL xs:string (Required) URL to which the buyer\\'s browser is returned after choosing to pay with PayPal. For digital goods, you must add JavaScript to this page to close the in-context experience. Note: PayPal recommends that the value be the final review page on which the buyer confirms the order and payment or billing agreement. Character length and limitations: 2048 single-byte characters CancelURL xs:string (Required) URL to which the buyer is returned if the buyer does not approve the use of PayPal to pay you. For digital goods, you must add JavaScript to this page to close the in-context experience. Note: PayPal recommends that the value be the original page on which the buyer chose to pay with PayPal or establish a billing agreement. Character length and limitations: 2048 single-byte characters CallbackURL xs:string (Optional) URL to which the callback request from PayPal is sent. It must start with HTTPS for production integration. It can start with HTTPS or HTTP for sandbox testing. Character length and limitations: 1024 single-byte characters This field is available since version 53.0. CallbackTimeout int (Optional) An override for you to request more or less time to be able to process the callback request and respond. The acceptable range for the override is 1 to 6 seconds. If you specify a value greater than 6 , PayPal uses the default value of 3 seconds. Character length and limitations: An integer between 1 and 6 NoShipping xs:string Determines whether PayPal displays shipping address fields on the PayPal pages. For digital goods, this field is required, and you must set it to 1 . Value is: 0 — PayPal displays the shipping address on the PayPal pages. 1 — PayPal does not display shipping address fields and removes shipping information from the transaction. 2 — If you do not pass the shipping address, PayPal obtains it from the buyer\\'s account profile. Character length and limitations: 4 single-byte numeric characters FlatRateShippingOptions ebl:ShippingOptionsType Flat rate shipping options. This field is required if you are specifying the Callback URL. PaymentDetails ebl:PaymentDetailsType (Required) Information about the payment. AddressOverride xs:string (Optional) Determines whether or not the PayPal pages should display the shipping address set by you in this SetExpressCheckout request, not the shipping address on file with PayPal for this buyer. Displaying the PayPal street address on file does not allow the buyer to edit that address. Value is: 0 — The PayPal pages should not display the shipping address. 1 — The PayPal pages should display the shipping address. Character length and limitations: 1 single-byte numeric character LocaleCode xs:string (Optional) Locale of pages displayed by PayPal during Express Checkout. It is either a two-letter country code or five-character locale code supported by PayPal. Note: If the locale code is not supplied or the supplied value is not one of the listed values, it is defaulted by PayPal. The default is determined using information about the current merchant, user, and other information for the session. Character length and limitations: A two-letter country code or five-character locale code supported by PayPal. cpp-logo-image xs:string (Optional) A URL to your logo image. Use a valid graphics format, such as .gif , .jpg , or .png . Limit the image to 190 pixels wide by 60 pixels high. PayPal crops images that are larger. PayPal places your logo image at the top of the cart review area. Note: PayPal recommends that you store the image on a secure (https) server. Otherwise, web browsers display a message that checkout pages contain non-secure items. Character length and limit: 127 single-byte alphanumeric characters BuyerEmail ebl:EmailAddressType (Optional) Email address of the buyer as entered during checkout. PayPal uses this value to pre-fill the PayPal membership signup portion on the PayPal pages. Character length and limitations: 127 single-byte alphanumeric characters SolutionType ebl:SolutionTypeType ( Required in the US. By default, turns off guest checkout in the US. Optional in other countries. ) Type of checkout flow. Value is: Sole — Buyer can check out without creating a PayPal account. This is referred to as PayPal Account Optional. Mark — Buyer must have a PayPal account to check out. Default in US if SolutionType is not passed. Note: You can pass Mark to selectively override the PayPal Account Optional setting if PayPal Account Optional is turned on in your merchant account. Passing Sole has no effect if PayPal Account Optional is turned off in your account LandingPage ebl:LandingPageType (Optional) Type of PayPal page to display. Value is: Billing — Non-PayPal account Login — PayPal account login ChannelType ebl:ChannelType (Optional) Type of channel. Value is: Merchant — Non-auction seller eBayItem — eBay auction TotalType ebl:TotalType (Optional) Type declaration for the label to be displayed in MiniCart for UX. Value is: Total EstimatedTotal giropaySuccessURL xs:string (Optional) The URL on the merchant site to redirect to after a successful giropay payment. Note: Use this field only if you are using giropay or bank transfer payment methods in Germany. giropayCancelURL xs:string (Optional) The URL on the merchant site to redirect to after a successful giropay payment. Note: Use this field only if you are using giropay or bank transfer payment methods in Germany. BanktxnPendingURL xs:string (Optional) The URL on the merchant site to transfer to after a bank transfer payment. Note: Use this field only if you are using giropay or bank transfer payment methods in Germany. BillingAgreement Details ebl:BillingAgreementDetailsType (Optional) Billing agreement details. Enhanced CheckoutData ed:EnhancedCheckoutDataType (Optional) Enhanced data for different industry segments. This field is for eBay use only. OtherPaymentMethods ebl:OtherPaymentMethodDetailsType (Optional) List of other payment methods with which the buyer can pay. BuyerDetails ebl:BuyerDetailsType (Optional) Details about the buyer\\'s account. BrandName xs:string (Optional) A label that overrides the business name in the PayPal account on the PayPal hosted checkout pages. Character length and limitations: 127 single-byte alphanumeric characters FundingSourceDetails ebl:FundingSourceDetailsType (Optional) Funding source preferences. PaymentReason ebl:PaymentReasonType Indicates the type of transaction. Value is: None — Transaction is not identified as a particular type. Refund — Identifies the transaction as a refund.\\n\\nAddressType Fields\\n\\nField Description Name xs:string Person\\'s name associated with this shipping address. It is required if using a shipping address. Character length and limitations: 128 double-byte characters Street1 xs:string First street address. It is required if using a shipping address. Character length and limitations: 100 single-byte characters Street2 xs:string (Optional) Second street address. Character length and limitations: 100 single-byte characters CityName xs:string Name of city. It is required if using a shipping address. Character length and limitations: 40 single-byte characters StateOrProvince xs:string State or province. `partial:partials/docs/shared/cl_shiptostate.en-XC` Character length and limitations: 40 single-byte characters PostalCode xs:string U.S. ZIP code or other country-specific postal code. It is required if using a U.S. shipping address and may be required for other countries. Character length and limitations: 20 single-byte characters Country ebl:CountryCodeType Country code. It is required if using a shipping address. Character length and limitations: 2 single-byte characters Phone xs:string (Optional) Phone number. Character length and limitations: 20 single-byte characters\\n\\nPaymentDetailsType Fields\\n\\nWhen implementing parallel payments, you can create up to 10 sets of payment\\ndetails type parameter fields, each representing one payment you are hosting on\\nyour marketplace.\\n\\nNote: If you provide PayPal a user\\'s itemized shopping cart list and a mismatch occurs between the sum of those items and the transaction total, PayPal processes the transaction using the sum of the cart items only when the difference is within $0.50.\\n\\nField Description OrderTotal ebl:BasicAmountType (Required) Total cost of the transaction to the buyer. If shipping cost and tax charges are known, include them in this value. If not, this value should be the current sub-total of the order. If the transaction includes one or more one-time purchases, this field must be equal to the sum of the purchases. Set this field to 0 if the transaction does not include a one-time purchase such as when you set up a billing agreement for a recurring payment that is not immediately charged. When the field is set to 0, purchase-specific fields are ignored. Note: You must set the currencyID attribute to one of the 3-character currency codes for any of the supported PayPal currencies. When multiple payments are passed in one transaction, all of the payments must have the same currency code. Character length and limitations: `partial:partials/docs/shared/cl_currencylimit.en-XC` ItemTotal ebl:BasicAmountType Sum of cost of all items in this order. For digital goods, this field is required. Note: You must set the currencyID attribute to one of the 3-character currency codes for any of the supported PayPal currencies. Character length and limitations: `partial:partials/docs/shared/cl_currencylimit.en-XC` ShippingTotal ebl:BasicAmountType (Optional) Total shipping costs for this order. Note: You must set the currencyID attribute to one of the 3-character currency codes for any of the supported PayPal currencies. Character length and limitations: `partial:partials/docs/shared/cl_currencylimit.en-XC` InsuranceTotal ebl:BasicAmountType (Optional) Total shipping insurance costs for this order. The value must be a non-negative currency amount or null if you offer insurance options. Note: You must set the currencyID attribute to one of the 3-character currency codes for any of the supported PayPal currencies. Character length and limitations: `partial:partials/docs/shared/cl_currencylimit.en-XC` InsuranceTotal is available since version 53.0. ShippingDiscount ebl:BasicAmountType (Optional) Shipping discount for this order, specified as a negative number. Note: You must set the currencyID attribute to one of the 3-character currency codes for any of the supported PayPal currencies. Character length and limitations: `partial:partials/docs/shared/cl_currencylimit_neg.en-XC` ShippingDiscount is available since version 53.0. InsuranceOptionOffered xs:boolean (Optional) Indicates whether insurance is available as an option the buyer can choose on the PayPal Review page. Is one of the following values: true — The Insurance option displays the string \\'Yes\\' and the insurance amount. If true , the total shipping insurance for this order must be a positive number. false — The Insurance option displays \\'No.\\' HandlingTotal ebl:BasicAmountType (Optional) Total handling costs for this order. Note: You must set the currencyID attribute to one of the 3-character currency codes for any of the supported PayPal currencies. Character length and limitations: `partial:partials/docs/shared/cl_currencylimit.en-XC` TaxTotal ebl:BasicAmountType (Optional) Sum of tax for all items in this order. Note: You must set the currencyID attribute to one of the 3-character currency codes for any of the supported PayPal currencies. Character length and limitations: `partial:partials/docs/shared/cl_currencylimit.en-XC` OrderDescription xs:string (Optional) Description of items the buyer is purchasing. Note: The value you specify is available only if the transaction includes a purchase. This field is ignored if you set up a billing agreement for a recurring payment that is not immediately charged. Character length and limitations: 127 single-byte alphanumeric characters Custom xs:string (Optional) A free-form field for your own use. Note: The value you specify is available only if the transaction includes a purchase. This field is ignored if you set up a billing agreement for a recurring payment that is not immediately charged. Character length and limitations: 256 single-byte alphanumeric characters InvoiceID xs:string (Optional) Your own invoice or tracking number. Note: PayPal recommends using the InvoiceID field to associate transactions with your internal tracking IDs or invoice numbers; populating the invoice ID field will help you pull transaction information at a later date using only your internal ID. Important: The value you specify is available only if the transaction includes a purchase. This field is ignored if you set up a billing agreement for a recurring payment that is not immediately charged. Character length and limitations: 256 single-byte alphanumeric characters NotifyURL xs:string (Optional) Your URL for receiving Instant Payment Notification (IPN) about this transaction. If you do not specify this value in the request, the notification URL from your Merchant Profile is used, if one exists. Important: The notify URL applies only to DoExpressCheckoutPayment . This value is ignored when set in SetExpressCheckout or GetExpressCheckoutDetails . Character length and limitations: 2,048 single-byte alphanumeric characters ShipToAddress ebl:AddressType (Optional) Address to which the order is shipped. MultiShipping xs:string (Optional) The value 1 indicates that this payment is associated with multiple shipping addresses. Character length and limitations: Four single-byte numeric characters. PaymentDetailsItem ebl:PaymentDetailsItemType (Optional) Details about each individual item included in the order. EnhancedPaymentData ed:EnhancedPaymentDataType (Optional) Enhanced Data section to accept channel-specific data (eBay). FulfillmentAddress ebl:AddressType (Optional) Address of the fulfillment center. PaymentCategoryType ebl:PaymentCategoryType (Optional) Category of a payment. Value is: InternationalShipping LocalDelivery BOPIS (buy online pick-up in store) PUDO (pick-up drop-off) NoteText xs:string (Optional) Note to the merchant. Character length and limitations: 255 single-byte characters NoteToBuyer xs:string (Optional) Note from merchant to buyer that will be displayed in the PayPal checkout window. Character length and limitations: 165 single-byte characters AllowedPaymentMethod ebl:AllowedPaymentMethodType (Optional) This is the payment solution for Autopay (used by Express Checkout). Value is: Default — Merchant supports all funding sources. InstantPaymentOnly — Merchant only supports instant payment. AnyFundingSource — All funding methods allowed, to be chosen by the buyer irrespective of the merchant profile setting. InstantFundingSource — Only instant funding methods are allowed. Block echeck , meft , elevecheck . This value overrides any merchant account profile settings. PaymentAction ebl:PaymentActionCodeType (Conditional) Defines how to obtain payment. Required for parallel payments and must be set to Order or Sale . Also required for digital goods and must be set to Sale . If the transaction does not include a one-time purchase, this field is ignored. Value is: Sale — This is a final sale for which you are requesting payment (default). Authorization — This payment is a basic authorization subject to settlement with PayPal Authorization and Capture. Order — This payment is an order authorization subject to settlement with PayPal Authorization and Capture. Note: You cannot set this field to Sale in SetExpressCheckout request and then change the value to Authorization or Order in the DoExpressCheckoutPayment request. If you set the field to Authorization or Order in SetExpressCheckout , you may set the field to Sale . Character length and limitations: Up to 13 single-byte alphabetic characters PaymentRequestID xs:string A unique identifier of the specific payment request, which is required for parallel payments. Character length and limitations: Up to 127 single-byte characters LocationType ebl:LocationType (Optional) Type of merchant location. Set this field if the items purchased will not be shipped, such as, BOPIS (buy online pick-up in store) transactions. Value is: Consumer Store — Set the location type to Store for BOPIS (buy online pick-up in store) transactions. PickupDropoff — Set the location type to PickupDropoff for PUDO (pick-up drop-off) transactions. LocationID xs:string (Optional) Location ID specified by the merchant for BOPIS (buy online pick-up in store) or PUDO (pick-up drop-off) transactions. Character length and limitations: 50 single-byte alphanumeric characters.\\n\\nPaymentDetailsItemType Fields\\n\\nField Description Name xs:string Item name. This field is required when you pass a value for ItemCategory . Character length and limitations: 127 single-byte characters This field is introduced in version 53.0. Description xs:string (Optional) Item description. Character length and limitations: 127 single-byte characters This field is introduced in version 53.0. Amount ebl:BasicAmountType Cost of item. This field is required when you pass a value for ItemCategory . Note: You must set the currencyID attribute to one of the 3-character currency codes for any of the supported PayPal currencies. Character length and limitations: `partial:partials/docs/shared/cl_currencylimit.en-XC`. Note: If the line item is a discount, a negative value must be passed in this field. This field is introduced in version 53.0. Number xs:string (Optional) Item number. Character length and limitations: 127 single-byte characters This field is introduced in version 53.0. Quantity xs:integer Item quantity. This field is required when you pass a value for ItemCategory . For digital goods ( ItemCategory=Digital ), this field is required. Character length and limitations: Any positive integer This field is introduced in version 53.0. Tax ebl:BasicAmountType (Optional) Item sales tax. Note: You must set the currencyID attribute to one of the 3-character currency codes for any of the supported PayPal currencies. Character length and limitations: `partial:partials/docs/shared/cl_currencylimit.en-XC` ItemWeight xs:integer (Optional) Item weight corresponds to the weight of the item. You can pass this data to the shipping carrier as is without having to make an additional database query. Character length and limitations: Any positive integer ItemLength xs:integer (Optional) Item length corresponds to the length of the item. You can pass this data to the shipping carrier as is without having to make an additional database query. Character length and limitations: Any positive integer ItemWidth xs:integer (Optional) Item width corresponds to the width of the item. You can pass this data to the shipping carrier as is without having to make an additional database query. Character length and limitations: Any positive integer ItemHeight xs:integer (Optional) Item height corresponds to the height of the item. You can pass this data to the shipping carrier as is without having to make an additional database query. Character length and limitations: Any positive integer EbayItemPayment DetailsItem eBl:ebayItemPaymentDetailsItemType (Optional) Information relating to an auction sale on eBay. ItemURL xs:string (Optional) URL for the item. EnhancedItemData ed:EnhancedItemDataType (Optional) Enhanced data for each item in the cart. For eBay use only. ItemCategory ebl:ItemCategoryType Indicates whether an item is digital or physical. For digital goods, this field is required and must be set to Digital . Value is: Digital Physical Important: You must have permission from PayPal to use this field for Digital Goods. This field is available since version 65.1.\\n\\nSellerDetailsType Fields\\n\\nField Description PayPalAccountID xs:string Unique identifier for the merchant. For parallel payments, this field is required and must contain the Payer Id or the email address of the merchant. Character length and limitations: 127 single-byte alphanumeric characters\\n\\nEbayItemPaymentDetailsItemType Fields\\n\\nField Description ItemNumber xs:string (Optional) Auction item number. Character length: 765 single-byte characters AuctionTransactionId xs:string (Optional) Auction transaction identification number. Character length: 255 single-byte characters OrderID xs:string (Optional) Auction order identification number. Character length: 64 single-byte characters CartID xs:string (Optional) The unique identifier provided by eBay for this order from the buyer. Character length: 255 single-byte characters\\n\\nBuyerDetailsType Fields\\n\\nField Description BuyerId xs:string (Optional) The unique identifier provided by eBay for this buyer. The value may or may not be the same as the username. In the case of eBay, it is different. Character length and limitations: 255 single-byte characters BuyerUserName xs:string (Optional) The user name of the user at the platform site. BuyerRegistrationDate xs:dateTime (Optional) Date when the user registered with the marketplace. Character length and limitations: `partial:partials/docs/shared/cl_utcgmtdate_res.en-XC` TaxIdDetails ebl:TaxIdDetailsType Details about the buyer\\'s tax information. This field is required for Brazil and is for Brazil use only. This field is introduced in API version 72.0.\\n\\nFundingSourceDetailsType Fields\\n\\nField Description AllowPushFunding xs:string (Optional) Indicates whether the merchant can accept push funding. Value is: 0 — Merchant cannot accept push funding. 1 — Merchant can accept push funding. Note: This field overrides the setting in the merchant\\'s PayPal account. UserSelectedFundingSource ebl:UserSelectedFundingSourceType (Optional) This element could be used to specify the preferred funding option for a guest user. However, the LandingPage element must also be set to Billing . Otherwise, it is ignored. ChinaUnionPay CreditCard ELV QIWI\\n\\nShippingOptionsType Fields\\n\\nField Description ShippingOptionIsDefault xs:boolean The default shipping option that appears on the PayPal pages. This field is required if you specify the callback URL. Value is: true — The default flat-rate shipping option. By default, PayPal displays this option and its amount. false — PayPal does not display this flat-rate shipping option and its amount as the default. Note: You must specify one and only one default shipping option. For more information, see Set up the callback . ShippingOptionName xs:string Internal name of the shipping option such as Air, Ground, Expedited, and so forth. This field is required if you specify the Callback URL. Character length and limitations: 50 character-string. ShippingOptionAmount ebl:BasicAmountType Amount of the flat rate shipping option. This field is required if you specify the Callback URL. Character length and limitations: `partial:partials/docs/shared/cl_currencylimit.en-XC`\\n\\nBillingAgreementDetailsType Fields\\n\\nField Description BillingType ebl:BillingCodeType (Required) Type of billing agreement. For recurring payments, this field must be set to RecurringPayments . Other defined values are not valid. Note : You must create one billing agreement at a time, because you must get user approval for each. Type of billing agreement for reference transactions. You must have permission from PayPal to use this field. This field must be set to one of the following values: MerchantInitiatedBilling - PayPal creates a billing agreement for each transaction associated with buyer. You must specify version 54.0 or higher to use this option. MerchantInitiatedBillingSingleAgreement - PayPal creates a single billing agreement for all transactions associated with buyer. Use this value unless you need per-transaction billing agreements. You must specify version 58.0 or higher to use this option. BillingAgreement Description xs:string Description of goods or services associated with the billing agreement. This field is required for the recurring payment billing agreement. There can only be one billing agreement type and one billing agreement description. PayPal recommends that the description contains a brief summary of the billing agreement terms and conditions. For example, buyer is billed at \"9.99 per month for 2 years\". Character length and limitations: 127 single-byte alphanumeric characters PaymentType ebl:MerchantPullPaymentCodeType (Optional) Type of PayPal payment you require for the billing agreement. Value is: Any — The merchant accepts any payment method for the billing agreement, even if it could take a few working days for the movement of funds to the merchant account; this includes echeck, in addition to credit or debit cards and PayPal balance. InstantOnly — The payment options accepted by the merchant are credit cards, debit cards or PayPal balance only because the merchant expects immediate payment. Note: For recurring payments, this field is ignored. BillingAgreement Custom xs:string (Optional) Custom annotation field for your own use. Note: For recurring payments, this field is ignored. Character length and limitations: 256 single-byte alphanumeric bytes\\n\\nTaxIdDetailsType Type Fields\\n\\nField Description TaxIdType xs:string Buyer\\'s tax ID type. This field is required for Brazil and used for Brazil only. For Brazil use only: The tax ID type is BR_CPF for individuals and BR_CNPJ for businesses. This field is introduced in API version 72.0. TaxId xs:string Buyer\\'s tax ID. This field is required for Brazil and used for Brazil only. For Brazil use only: The tax ID is 11 single-byte characters for individuals and 14 single-byte characters for businesses. This field is introduced in API version 72.0.\\n\\nSetExpressCheckout Response Message\\n\\nNote: Not all fields shown are available for use. Only use fields\\ndescribed in the documentation.\\n\\nSetExpressCheckout Response Fields\\n\\nField Description Token xs:string A timestamped token that indicates Express Checkout processing for the current payment. PayPal also appends this token as a GET parameter named token to your RETURN URL or CANCEL URL when redirecting the buyer back to your website from paypal.com. By default, the token expires after three hours. To extend the lifetime of a token to 72 hours, contact PayPal customer service . Character length and limitations: 20 single-byte characters\\n\\nDeprecated Fields\\n\\nThe following fields are deprecated. Replacement fields are noted when\\navailable.\\n\\nDeprecated SetExpressCheckout Request Fields\\n\\nDeprecated field Replacement field Since Version/Date Address ShipToAddress 53 AllowNote (No replacement.) xs:string (Optional) Enables the buyer to enter a note to the merchant on the PayPal page during checkout. The note is returned in the GetExpressCheckoutDetails response and the DoExpressCheckoutPayment response. Value is: 0 — The buyer is unable to enter a note to the merchant. 1 — The buyer is able to enter a note to the merchant. Character length and limitations: 1 single-byte numeric character This field is available since version 53.0. September 2016 BuyerEmailOptInEnable (No replacement.) xs:string (Optional) Enables the buyer to provide their email address on the PayPal pages to be notified of promotions or special events. Is one of the following values: 0 — Do not enable buyer to provide email address. 1 — Enable the buyer to provide email address. In all versions cpp-cart-border-color (No replacement.) xs:string (Optional) The HTML hex code for your principal identifying color. PayPal blends your color to white in a gradient fill that borders the cart review area of the PayPal checkout user interface. Character length and limitation: 6 single-byte hexadecimal characters that represent an HTML hex code for a color September 2016 cpp-header-border-color (No replacement.) xs:string (Optional) Sets the border color around the header of the payment page. The border is a 2-pixel perimeter around the header space, which is 750 pixels wide by 90 pixels high. By default, the color is black. Character length and limitations: 6-character HTML hexadecimal ASCII color code. 53 cpp-header-back-color (No replacement.) xs:string (Optional) Sets the background color for the header of the payment page. By default, the color is white. Character length and limitations: 6-character HTML hexadecimal ASCII color code. 53 cpp-header-image (No replacement.) xs:string (Optional) URL for the image you want to appear at the top left of the payment page. The image has a maximum size of 750 pixels wide by 90 pixels high. PayPal recommends that you provide an image that is stored on a secure (https) server. If you do not specify an image, the business name displays. Character length and limitations: 127 single-byte alphanumeric characters September 2016 cpp-payflow-color (No replacement.) xs:string (Optional) Sets the background color for the payment page. By default, the color is white. Character length and limitations: 6-character HTML hexadecimal ASCII color code September 2016 Custom Custom 53 CustomerServiceNumber (No replacement.) xs:string (Optional) Merchant Customer Service number displayed on the PayPal pages. Character length and limitations: 16 single-byte characters September 2016 GiftMessageEnable (No replacement.) xs:string (Optional) Enables the gift message widget on the PayPal pages. Value is: 0 — Do not enable gift message widget. 1 — Enable gift message widget. Sept. 8, 2016 GiftReceiptEnable (No replacement.) xs:string (Optional) Enable gift receipt widget on the PayPal pages. Value is: 0 — Do not enable gift receipt widget. 1 — Enable gift receipt widget. Sept. 8, 2016 GiftWrapEnable (No replacement.) xs:string (Optional) Enable gift wrap widget on the PayPal pages. Value is: 0 — Do not enable gift wrap widget. 1 — Enable gift wrap widget. Note: If you pass the value 1 in this field, values for the gift wrap amount and gift wrap name are not passed, the gift wrap name is not displayed, and the gift wrap amount displays as 0.00. Sept. 8, 2016 GiftWrapName (No replacement.) xs:string (Optional) Label for the gift wrap option such as \"Box with ribbon\". Character length and limitations: 25 single-byte characters Sept. 8, 2016 GiftWrapAmount (No replacement.) ebl:BasicAmounttype (Optional) Amount to be charged to the buyer for gift wrapping. Note: You must set the currencyID attribute to one of the three-character currency codes for any of the supported PayPal currencies. Character length and limitations: `partial:partials/docs/shared/cl_currencylimit.en-XC` Sept. 8, 2016 InvoiceID InvoiceID 53 OrderDescription OrderDescription 53 OrderTotal OrderTotal 53 PageStyle (No replacement.) xs:string (Optional) Name of the Custom Payment Page Style for payment pages associated with this button or link. It corresponds to the HTML variable page_style for customizing payment pages. It is the same name as the Page Style Name you chose to add or edit the page style in your PayPal Account profile. Note: You can customize up to 3 different page styles in your PayPal account. Character length and limitations: 30 single-byte alphabetic characters September 2016 PaymentAction PaymentAction 53 ReqConfirmShipping (No replacement.) xs:string Indicates whether or not you require the buyer\\'s shipping address on file with PayPal be a confirmed address. For digital goods, this field is required, and you must set it to 0. Value is: 0 — You do not require the buyer\\'s shipping address be a confirmed address. 1 — You require the buyer\\'s shipping address be a confirmed address. Note: Setting this field overrides the setting you specified in your Merchant Account Profile. Character length and limitations: 1 single-byte numeric character September 2016 SurveyQuestion (No replacement.) xs:string (Optional) Text for the survey question on the PayPal pages. If the survey question is present, at least 2 survey answer options must be present. Character length and limitations: 50 single-byte characters Sept. 8, 2016 SurveyEnable (No replacement.) xs:string (Optional) Enables survey functionality. Value is: 0 — Disables survey functionality. 1 — Enables survey functionality. Sept. 8, 2016 SurveyChoice (No replacement.) xs:string (Optional) Possible options for the survey answers on the PayPal pages. Answers are displayed only if a valid survey question is present. Character length and limitations: 15 single-byte characters Sept. 8, 2016\\n\\nAdditional information\\n\\nAPI error codes', metadata={'source': 'https://developer.paypal.com/api/nvp-soap/set-express-checkout-soap/'}),\n",
       " Document(page_content='NVP/SOAP API /\\n\\nReference /\\n\\nEndpoints\\n\\nNVP/SOAP API endpoints\\n\\nAPILegacy\\n\\nThis page details the endpoints for the PayPal NVP/SOAP APIs. The APIs fall into three categories:\\n\\nMerchant APIs\\n\\nPayflow Gateway APIs\\n\\nAdaptive Platform APIs\\n\\nFor details on the operations supported by each of these API sets, see the NVP/SOAP API Reference.\\n\\nMerchant API endpoints\\n\\nThe Merchant APIs include Express Checkout, PayPal Payments Pro, Mass Payments, and the Button Manager.\\n\\nAuthentication Format Live and Sandbox Endpoints API Certificate Name-Value Pair Live: https://api.paypal.com/nvp Sandbox: https://api.sandbox.paypal.com/nvp SOAP Live: https://api.paypal.com/2.0/ Sandbox: https://api.sandbox.paypal.com/2.0/ API Signature Name-Value Pair Live: https://api-3t.paypal.com/nvp Sandbox: https://api-3t.sandbox.paypal.com/nvp SOAP Live: https://api-3t.paypal.com/2.0/ Sandbox: https://api-3t.sandbox.paypal.com/2.0/\\n\\nPayflow Gateway endpoints\\n\\nFormat Live and Sandbox Endpoints Name-Value Pair https://payflowpro.paypal.com https://pilot-payflowpro.paypal.com\\n\\nAdaptive Platform endpoints\\n\\nThe Adaptive Platform includes Adaptive Accounts, Adaptive Payments, the Invoicing Service, and the Permissions Service.\\n\\nAPI / Service Authentication Format Live and Sandbox Endpoints Adaptive Accounts JSON, NVP, SOAP, XML AppID https://svcs.paypal.com/AdaptiveAccounts/< API-Operation > https://svcs.sandbox.paypal.com/AdaptiveAccounts/< API-Operation > Adaptive Payments JSON, NVP, SOAP, XML AppID https://svcs.paypal.com/AdaptivePayments/< API-Operation > https://svcs.sandbox.paypal.com/AdaptivePayments/< API-Operation > Invoicing Service JSON, NVP, SOAP, XML AppID https://svcs.paypal.com/Invoice/< API-Operation > https://svcs.sandbox.paypal.com/Invoice/< API-Operation > Permissions Service JSON, NVP, SOAP, XML AppID https://svcs.paypal.com/Permissions/< API-Operation > https://svcs.sandbox.paypal.com/Permissions/< API-Operation >', metadata={'source': 'https://developer.paypal.com/api/nvp-soap/endpoints/'})]"
      ]
     },
     "execution_count": 13,
     "metadata": {},
     "output_type": "execute_result"
    }
   ],
   "source": [
    "from langchain_community.document_loaders import UnstructuredURLLoader \n",
    "\n",
    "urls  = [\"https://developer.paypal.com/api/nvp-soap/NVPAPIOverview/\",\n",
    "         \"https://developer.paypal.com/api/nvp-soap/get-started/\",\n",
    "         \"https://developer.paypal.com/api/nvp-soap/PayPalSOAPAPIArchitecture/\",\n",
    "         \"https://developer.paypal.com/api/nvp-soap/apiCredentials/\",\n",
    "         \"https://developer.paypal.com/api/nvp-soap/nvpsoap-sdks/\",\n",
    "         \"https://developer.paypal.com/api/nvp-soap/set-express-checkout-nvp/\",\n",
    "         \"https://developer.paypal.com/api/nvp-soap/set-express-checkout-soap/\",\n",
    "         \"https://developer.paypal.com/api/nvp-soap/endpoints/\",\n",
    "         ]\n",
    "loader = UnstructuredURLLoader(urls=urls)\n",
    "data = loader.load()\n",
    "data"
   ]
  },
  {
   "cell_type": "code",
   "execution_count": 15,
   "metadata": {},
   "outputs": [
    {
     "name": "stderr",
     "output_type": "stream",
     "text": [
      "Created a chunk of size 1431, which is longer than the specified 1000\n",
      "Created a chunk of size 1172, which is longer than the specified 1000\n",
      "Created a chunk of size 1232, which is longer than the specified 1000\n",
      "Created a chunk of size 8055, which is longer than the specified 1000\n",
      "Created a chunk of size 1324, which is longer than the specified 1000\n",
      "Created a chunk of size 9014, which is longer than the specified 1000\n",
      "Created a chunk of size 6614, which is longer than the specified 1000\n",
      "Created a chunk of size 1732, which is longer than the specified 1000\n",
      "Created a chunk of size 1032, which is longer than the specified 1000\n",
      "Created a chunk of size 2232, which is longer than the specified 1000\n",
      "Created a chunk of size 5449, which is longer than the specified 1000\n",
      "Created a chunk of size 8152, which is longer than the specified 1000\n",
      "Created a chunk of size 1211, which is longer than the specified 1000\n",
      "Created a chunk of size 8456, which is longer than the specified 1000\n",
      "Created a chunk of size 3060, which is longer than the specified 1000\n",
      "Created a chunk of size 2183, which is longer than the specified 1000\n",
      "Created a chunk of size 5909, which is longer than the specified 1000\n"
     ]
    },
    {
     "name": "stdout",
     "output_type": "stream",
     "text": [
      "{'source': 'https://developer.paypal.com/api/nvp-soap/NVPAPIOverview/'}\n",
      "{'source': 'https://developer.paypal.com/api/nvp-soap/get-started/'}\n",
      "{'source': 'https://developer.paypal.com/api/nvp-soap/PayPalSOAPAPIArchitecture/'}\n",
      "{'source': 'https://developer.paypal.com/api/nvp-soap/apiCredentials/'}\n",
      "{'source': 'https://developer.paypal.com/api/nvp-soap/nvpsoap-sdks/'}\n",
      "{'source': 'https://developer.paypal.com/api/nvp-soap/set-express-checkout-nvp/'}\n",
      "{'source': 'https://developer.paypal.com/api/nvp-soap/set-express-checkout-soap/'}\n",
      "{'source': 'https://developer.paypal.com/api/nvp-soap/endpoints/'}\n",
      "{'source': 'https://developer.paypal.com/api/nvp-soap/NVPAPIOverview/'}\n",
      "{'source': 'https://developer.paypal.com/api/nvp-soap/NVPAPIOverview/'}\n",
      "{'source': 'https://developer.paypal.com/api/nvp-soap/NVPAPIOverview/'}\n",
      "{'source': 'https://developer.paypal.com/api/nvp-soap/NVPAPIOverview/'}\n",
      "{'source': 'https://developer.paypal.com/api/nvp-soap/NVPAPIOverview/'}\n",
      "{'source': 'https://developer.paypal.com/api/nvp-soap/NVPAPIOverview/'}\n",
      "{'source': 'https://developer.paypal.com/api/nvp-soap/NVPAPIOverview/'}\n",
      "{'source': 'https://developer.paypal.com/api/nvp-soap/NVPAPIOverview/'}\n",
      "{'source': 'https://developer.paypal.com/api/nvp-soap/NVPAPIOverview/'}\n",
      "{'source': 'https://developer.paypal.com/api/nvp-soap/NVPAPIOverview/'}\n",
      "{'source': 'https://developer.paypal.com/api/nvp-soap/NVPAPIOverview/'}\n",
      "{'source': 'https://developer.paypal.com/api/nvp-soap/NVPAPIOverview/'}\n",
      "{'source': 'https://developer.paypal.com/api/nvp-soap/NVPAPIOverview/'}\n",
      "{'source': 'https://developer.paypal.com/api/nvp-soap/NVPAPIOverview/'}\n",
      "{'source': 'https://developer.paypal.com/api/nvp-soap/NVPAPIOverview/'}\n",
      "{'source': 'https://developer.paypal.com/api/nvp-soap/NVPAPIOverview/'}\n",
      "{'source': 'https://developer.paypal.com/api/nvp-soap/NVPAPIOverview/'}\n",
      "{'source': 'https://developer.paypal.com/api/nvp-soap/NVPAPIOverview/'}\n",
      "{'source': 'https://developer.paypal.com/api/nvp-soap/NVPAPIOverview/'}\n",
      "{'source': 'https://developer.paypal.com/api/nvp-soap/NVPAPIOverview/'}\n",
      "{'source': 'https://developer.paypal.com/api/nvp-soap/NVPAPIOverview/'}\n",
      "{'source': 'https://developer.paypal.com/api/nvp-soap/get-started/'}\n",
      "{'source': 'https://developer.paypal.com/api/nvp-soap/get-started/'}\n",
      "{'source': 'https://developer.paypal.com/api/nvp-soap/get-started/'}\n",
      "{'source': 'https://developer.paypal.com/api/nvp-soap/get-started/'}\n",
      "{'source': 'https://developer.paypal.com/api/nvp-soap/get-started/'}\n",
      "{'source': 'https://developer.paypal.com/api/nvp-soap/get-started/'}\n",
      "{'source': 'https://developer.paypal.com/api/nvp-soap/get-started/'}\n",
      "{'source': 'https://developer.paypal.com/api/nvp-soap/get-started/'}\n",
      "{'source': 'https://developer.paypal.com/api/nvp-soap/get-started/'}\n",
      "{'source': 'https://developer.paypal.com/api/nvp-soap/get-started/'}\n",
      "{'source': 'https://developer.paypal.com/api/nvp-soap/get-started/'}\n",
      "{'source': 'https://developer.paypal.com/api/nvp-soap/get-started/'}\n",
      "{'source': 'https://developer.paypal.com/api/nvp-soap/get-started/'}\n",
      "{'source': 'https://developer.paypal.com/api/nvp-soap/PayPalSOAPAPIArchitecture/'}\n",
      "{'source': 'https://developer.paypal.com/api/nvp-soap/PayPalSOAPAPIArchitecture/'}\n",
      "{'source': 'https://developer.paypal.com/api/nvp-soap/PayPalSOAPAPIArchitecture/'}\n",
      "{'source': 'https://developer.paypal.com/api/nvp-soap/PayPalSOAPAPIArchitecture/'}\n",
      "{'source': 'https://developer.paypal.com/api/nvp-soap/PayPalSOAPAPIArchitecture/'}\n",
      "{'source': 'https://developer.paypal.com/api/nvp-soap/PayPalSOAPAPIArchitecture/'}\n",
      "{'source': 'https://developer.paypal.com/api/nvp-soap/PayPalSOAPAPIArchitecture/'}\n",
      "{'source': 'https://developer.paypal.com/api/nvp-soap/PayPalSOAPAPIArchitecture/'}\n",
      "{'source': 'https://developer.paypal.com/api/nvp-soap/PayPalSOAPAPIArchitecture/'}\n",
      "{'source': 'https://developer.paypal.com/api/nvp-soap/PayPalSOAPAPIArchitecture/'}\n",
      "{'source': 'https://developer.paypal.com/api/nvp-soap/PayPalSOAPAPIArchitecture/'}\n",
      "{'source': 'https://developer.paypal.com/api/nvp-soap/PayPalSOAPAPIArchitecture/'}\n",
      "{'source': 'https://developer.paypal.com/api/nvp-soap/PayPalSOAPAPIArchitecture/'}\n",
      "{'source': 'https://developer.paypal.com/api/nvp-soap/PayPalSOAPAPIArchitecture/'}\n",
      "{'source': 'https://developer.paypal.com/api/nvp-soap/PayPalSOAPAPIArchitecture/'}\n",
      "{'source': 'https://developer.paypal.com/api/nvp-soap/PayPalSOAPAPIArchitecture/'}\n",
      "{'source': 'https://developer.paypal.com/api/nvp-soap/PayPalSOAPAPIArchitecture/'}\n",
      "{'source': 'https://developer.paypal.com/api/nvp-soap/PayPalSOAPAPIArchitecture/'}\n",
      "{'source': 'https://developer.paypal.com/api/nvp-soap/apiCredentials/'}\n",
      "{'source': 'https://developer.paypal.com/api/nvp-soap/apiCredentials/'}\n",
      "{'source': 'https://developer.paypal.com/api/nvp-soap/apiCredentials/'}\n",
      "{'source': 'https://developer.paypal.com/api/nvp-soap/apiCredentials/'}\n",
      "{'source': 'https://developer.paypal.com/api/nvp-soap/apiCredentials/'}\n",
      "{'source': 'https://developer.paypal.com/api/nvp-soap/apiCredentials/'}\n",
      "{'source': 'https://developer.paypal.com/api/nvp-soap/apiCredentials/'}\n",
      "{'source': 'https://developer.paypal.com/api/nvp-soap/nvpsoap-sdks/'}\n",
      "{'source': 'https://developer.paypal.com/api/nvp-soap/nvpsoap-sdks/'}\n",
      "{'source': 'https://developer.paypal.com/api/nvp-soap/nvpsoap-sdks/'}\n",
      "{'source': 'https://developer.paypal.com/api/nvp-soap/set-express-checkout-nvp/'}\n",
      "{'source': 'https://developer.paypal.com/api/nvp-soap/set-express-checkout-nvp/'}\n",
      "{'source': 'https://developer.paypal.com/api/nvp-soap/set-express-checkout-nvp/'}\n",
      "{'source': 'https://developer.paypal.com/api/nvp-soap/set-express-checkout-nvp/'}\n",
      "{'source': 'https://developer.paypal.com/api/nvp-soap/set-express-checkout-nvp/'}\n",
      "{'source': 'https://developer.paypal.com/api/nvp-soap/set-express-checkout-nvp/'}\n",
      "{'source': 'https://developer.paypal.com/api/nvp-soap/set-express-checkout-nvp/'}\n",
      "{'source': 'https://developer.paypal.com/api/nvp-soap/set-express-checkout-nvp/'}\n",
      "{'source': 'https://developer.paypal.com/api/nvp-soap/set-express-checkout-nvp/'}\n",
      "{'source': 'https://developer.paypal.com/api/nvp-soap/set-express-checkout-nvp/'}\n",
      "{'source': 'https://developer.paypal.com/api/nvp-soap/set-express-checkout-nvp/'}\n",
      "{'source': 'https://developer.paypal.com/api/nvp-soap/set-express-checkout-nvp/'}\n",
      "{'source': 'https://developer.paypal.com/api/nvp-soap/set-express-checkout-nvp/'}\n",
      "{'source': 'https://developer.paypal.com/api/nvp-soap/set-express-checkout-nvp/'}\n",
      "{'source': 'https://developer.paypal.com/api/nvp-soap/set-express-checkout-nvp/'}\n",
      "{'source': 'https://developer.paypal.com/api/nvp-soap/set-express-checkout-nvp/'}\n",
      "{'source': 'https://developer.paypal.com/api/nvp-soap/set-express-checkout-nvp/'}\n",
      "{'source': 'https://developer.paypal.com/api/nvp-soap/set-express-checkout-nvp/'}\n",
      "{'source': 'https://developer.paypal.com/api/nvp-soap/set-express-checkout-nvp/'}\n",
      "{'source': 'https://developer.paypal.com/api/nvp-soap/set-express-checkout-nvp/'}\n",
      "{'source': 'https://developer.paypal.com/api/nvp-soap/set-express-checkout-nvp/'}\n",
      "{'source': 'https://developer.paypal.com/api/nvp-soap/set-express-checkout-nvp/'}\n",
      "{'source': 'https://developer.paypal.com/api/nvp-soap/set-express-checkout-soap/'}\n",
      "{'source': 'https://developer.paypal.com/api/nvp-soap/set-express-checkout-soap/'}\n",
      "{'source': 'https://developer.paypal.com/api/nvp-soap/set-express-checkout-soap/'}\n",
      "{'source': 'https://developer.paypal.com/api/nvp-soap/set-express-checkout-soap/'}\n",
      "{'source': 'https://developer.paypal.com/api/nvp-soap/set-express-checkout-soap/'}\n",
      "{'source': 'https://developer.paypal.com/api/nvp-soap/set-express-checkout-soap/'}\n",
      "{'source': 'https://developer.paypal.com/api/nvp-soap/set-express-checkout-soap/'}\n",
      "{'source': 'https://developer.paypal.com/api/nvp-soap/set-express-checkout-soap/'}\n",
      "{'source': 'https://developer.paypal.com/api/nvp-soap/set-express-checkout-soap/'}\n",
      "{'source': 'https://developer.paypal.com/api/nvp-soap/set-express-checkout-soap/'}\n",
      "{'source': 'https://developer.paypal.com/api/nvp-soap/set-express-checkout-soap/'}\n",
      "{'source': 'https://developer.paypal.com/api/nvp-soap/set-express-checkout-soap/'}\n",
      "{'source': 'https://developer.paypal.com/api/nvp-soap/set-express-checkout-soap/'}\n",
      "{'source': 'https://developer.paypal.com/api/nvp-soap/set-express-checkout-soap/'}\n",
      "{'source': 'https://developer.paypal.com/api/nvp-soap/set-express-checkout-soap/'}\n",
      "{'source': 'https://developer.paypal.com/api/nvp-soap/set-express-checkout-soap/'}\n",
      "{'source': 'https://developer.paypal.com/api/nvp-soap/set-express-checkout-soap/'}\n",
      "{'source': 'https://developer.paypal.com/api/nvp-soap/set-express-checkout-soap/'}\n",
      "{'source': 'https://developer.paypal.com/api/nvp-soap/endpoints/'}\n",
      "{'source': 'https://developer.paypal.com/api/nvp-soap/endpoints/'}\n",
      "{'source': 'https://developer.paypal.com/api/nvp-soap/endpoints/'}\n",
      "{'source': 'data/PayPal SDD - Migration Example no JSDK.pdf', 'page': 0}\n",
      "{'source': 'data/PayPal SDD - Migration Example no JSDK.pdf', 'page': 1}\n",
      "{'source': 'data/PayPal SDD - Migration Example no JSDK.pdf', 'page': 2}\n",
      "{'source': 'data/PayPal SDD - Migration Example no JSDK.pdf', 'page': 3}\n",
      "{'source': 'data/PayPal SDD - Migration Example no JSDK.pdf', 'page': 4}\n",
      "{'source': 'data/PayPal SDD - Migration Example no JSDK.pdf', 'page': 5}\n",
      "{'source': 'data/PayPal SDD - Migration Example no JSDK.pdf', 'page': 6}\n",
      "{'source': 'data/PayPal SDD - Migration Example no JSDK.pdf', 'page': 7}\n",
      "{'source': 'data/PayPal SDD - Migration Example no JSDK.pdf', 'page': 8}\n",
      "{'source': 'data/PayPal SDD - Migration Example no JSDK.pdf', 'page': 9}\n",
      "{'source': 'data/PayPal SDD - Migration Example no JSDK.pdf', 'page': 10}\n",
      "{'source': 'data/PayPal SDD - Migration Example no JSDK.pdf', 'page': 11}\n",
      "{'source': 'data/PayPal SDD - Migration Example no JSDK.pdf', 'page': 12}\n",
      "{'source': 'data/PayPal SDD - Migration Example no JSDK.pdf', 'page': 13}\n",
      "{'source': 'data/PayPal SDD - Migration Example no JSDK.pdf', 'page': 14}\n",
      "{'source': 'data/PayPal SDD - Migration Example no JSDK.pdf', 'page': 15}\n",
      "{'source': 'data/PayPal SDD - Migration Example no JSDK.pdf', 'page': 16}\n",
      "{'source': 'data/PayPal SDD - Migration Example no JSDK.pdf', 'page': 17}\n",
      "{'source': 'data/PayPal SDD - Migration Example no JSDK.pdf', 'page': 18}\n",
      "{'source': 'data/PayPal SDD - Migration Example no JSDK.pdf', 'page': 19}\n",
      "{'source': 'data/PayPal SDD - Migration Example no JSDK.pdf', 'page': 20}\n",
      "{'source': 'data/PayPal SDD - Migration Example no JSDK.pdf', 'page': 21}\n"
     ]
    }
   ],
   "source": [
    "from langchain.text_splitter import RecursiveCharacterTextSplitter\n",
    "text_splitter = RecursiveCharacterTextSplitter(\n",
    "    # Set a really small chunk size, just to show.\n",
    "    chunk_size=300,\n",
    "    chunk_overlap=20,\n",
    "    length_function=len,\n",
    "    is_separator_regex=False,\n",
    ")\n",
    "\n",
    "from langchain.text_splitter import CharacterTextSplitter\n",
    "text_splitter = CharacterTextSplitter(\n",
    "    separator=\"\\n\\n\",\n",
    "    chunk_size=1000,\n",
    "    chunk_overlap=200,\n",
    "    length_function=len,\n",
    "    is_separator_regex=False,\n",
    ")\n",
    "\n",
    "page_contents = []\n",
    "for d in data:\n",
    "    \n",
    "    print(d.metadata)\n",
    "    texts = text_splitter.create_documents([d.page_content])\n",
    "    for text in texts:\n",
    "        text.metadata = d.metadata\n",
    "        page_contents.append(text)\n",
    "    #page_contents.append(text.page_content for text in texts)\n",
    "\n",
    "for text in page_contents:\n",
    "    print(text.metadata)\n",
    "\n",
    "\n",
    "for p in pdf_pages:\n",
    "    print(p.metadata)\n",
    "    texts = text_splitter.create_documents([p.page_content])\n",
    "    for text in texts:\n",
    "        text.metadata = d.metadata\n",
    "        page_contents.append(text)"
   ]
  },
  {
   "cell_type": "code",
   "execution_count": 16,
   "metadata": {},
   "outputs": [
    {
     "data": {
      "text/plain": [
       "127"
      ]
     },
     "execution_count": 16,
     "metadata": {},
     "output_type": "execute_result"
    }
   ],
   "source": [
    "\n",
    "len(page_contents)"
   ]
  },
  {
   "cell_type": "code",
   "execution_count": 18,
   "metadata": {},
   "outputs": [],
   "source": [
    "import os\n",
    "from langchain.embeddings import CacheBackedEmbeddings\n",
    "from langchain.storage import LocalFileStore\n",
    "from langchain.text_splitter import CharacterTextSplitter\n",
    "from langchain_community.document_loaders import TextLoader\n",
    "from langchain_community.vectorstores import FAISS\n",
    "from langchain_openai import AzureOpenAIEmbeddings\n",
    "\n",
    "\n",
    "embeddings_from_model = AzureOpenAIEmbeddings(azure_deployment=os.environ[\"AZURE_OPENAI_EMBEDDING_DEPLOYMENT_NAME\"])\n",
    "#embeddings = embeddings_model.embed_documents(page_contents)\n",
    "\n",
    "store = LocalFileStore(\"./cache/\")\n",
    "\n",
    "cached_embedder = CacheBackedEmbeddings.from_bytes_store(\n",
    "    embeddings_from_model, store, namespace=embeddings_from_model.model\n",
    ")"
   ]
  },
  {
   "cell_type": "code",
   "execution_count": 19,
   "metadata": {},
   "outputs": [
    {
     "data": {
      "text/plain": [
       "[]"
      ]
     },
     "execution_count": 19,
     "metadata": {},
     "output_type": "execute_result"
    }
   ],
   "source": [
    "list(store.yield_keys())"
   ]
  },
  {
   "cell_type": "code",
   "execution_count": 20,
   "metadata": {},
   "outputs": [
    {
     "name": "stdout",
     "output_type": "stream",
     "text": [
      "Local index not found, creating new one\n",
      "CPU times: total: 1.56 s\n",
      "Wall time: 26.5 s\n"
     ]
    }
   ],
   "source": [
    "%%time\n",
    "try: \n",
    "    faiss_db = FAISS.load_local(\"faiss_index\", cached_embedder)\n",
    "except(Exception) as e:\n",
    "    print(\"Local index not found, creating new one\")   \n",
    "    faiss_db = FAISS.from_documents(page_contents, cached_embedder)\n",
    "    faiss_db.save_local(\"faiss_index\")"
   ]
  },
  {
   "cell_type": "code",
   "execution_count": 21,
   "metadata": {},
   "outputs": [
    {
     "data": {
      "text/plain": [
       "126"
      ]
     },
     "execution_count": 21,
     "metadata": {},
     "output_type": "execute_result"
    }
   ],
   "source": [
    "len(list(store.yield_keys()))"
   ]
  },
  {
   "cell_type": "code",
   "execution_count": 22,
   "metadata": {},
   "outputs": [
    {
     "name": "stdout",
     "output_type": "stream",
     "text": [
      "5\n",
      "Content: Note: The PayFlow API also uses name-value pairs to provide parameter-based association between request and response fields of a message and their values; however, the PayFlow API is not the same as the NVP API; for more information about the PayFlow API, see the Payflow Gateway Developer Guide and Reference.\n",
      "\n",
      "PayPal API client-server architecture\n",
      "\n",
      "The PayPal API uses a client-server model. Your website is a client of the PayPal server.\n",
      "\n",
      "A page on your website initiates an action on a PayPal API server by sending a request to the server. The PayPal server responds with a confirmation that the requested action was taken or indicates that an error occurred. The response might also contain additional information related to the request. The following diagram shows the basic request-response mechanism.,\n",
      "\n",
      "Score: 0.3118332028388977\n",
      "--------------------------\n",
      "Content: Like many web services, PayPal SOAP is a combination of client-side and server-side schemas, hardware and software servers, and core services.\n",
      "\n",
      "In an object-oriented processing model, the interface to SOAP requests/responses is an object in your application's native programming language. Your third-party SOAP client generates business-object interfaces and network stubs from PayPal-provided WSDL and XSD files that specify the PayPal SOAP message structure, its contents, and the PayPal API service bindings. A business application works with data in the form of object properties to send and receive data by calling object methods. The SOAP client handles the details of building the SOAP request, sending it to the PayPal service, and converting the response back to an object.\n",
      "\n",
      "PayPal WSDL/XSD Schema Definitions,\n",
      "\n",
      "Score: 0.35581713914871216\n",
      "--------------------------\n",
      "Content: PayPal SOAP API Basics\n",
      "\n",
      "Review the Getting Started Guides listed below to see how to make calls using the two different types of PayPal NVP/SOAP APIs (Express Checkout and Adaptive APIs):\n",
      "\n",
      "Express Checkout API Getting Started Guide\n",
      "\n",
      "Adaptive Accounts API Getting Started Guide,\n",
      "\n",
      "Score: 0.364822655916214\n",
      "--------------------------\n",
      "Content: Execute NVP API operations\n",
      "\n",
      "You execute a PayPal NVP API operation by submitting an HTTPS POST request to a PayPal API server, or by using cURL or another mechanism to provide secure access between the buyer's browser and the PayPal API server. For example, you might implement a system in which the buyer's browser remains a client of your server and your server becomes a client of the PayPal API server.\n",
      "\n",
      "Specify a PayPal server\n",
      "\n",
      "You execute a PayPal API operation by submitting the request to a PayPal API server.\n",
      "\n",
      "To execute a PayPal NVP API operation, submit the request to one of the following endpoints:,\n",
      "\n",
      "Score: 0.37501758337020874\n",
      "--------------------------\n",
      "Content: Backward compatibility — The PayPal API is versioned so that business applications are backward compatible when new elements are introduced to the server-side schema.\n",
      "\n",
      "Note: eBL defines many structures that are specific to processing auctions. PayPal's SOAP schema includes these definitions to maintain compatibility with eBay's SOAP. The material focuses only on those SOAP definitions pertinent to use of the PayPal SOAP API.\n",
      "\n",
      "Security\n",
      "\n",
      "The PayPal SOAP API service is protected to ensure that only authorized PayPal members use it. There are four levels of security:\n",
      "\n",
      "A required API Username and API Password.\n",
      "\n",
      "A third required authentication mechanism, which is either one of the following:Client-side request signing using a PayPal-issued API CertificateRequest authentication using an API Signature included in the request,\n",
      "\n",
      "Score: 0.3773100674152374\n",
      "--------------------------\n"
     ]
    }
   ],
   "source": [
    "query = \"how to use paypal api as client server model\"\n",
    "docs = faiss_db.similarity_search_with_score(query, k=5)\n",
    "\n",
    "print(len(docs))\n",
    "for doc, score in docs:\n",
    "    print(f\"Content: {doc.page_content},\\n\\nScore: {score}\")\n",
    "    print(\"--------------------------\")"
   ]
  },
  {
   "cell_type": "code",
   "execution_count": 23,
   "metadata": {},
   "outputs": [],
   "source": [
    "from langchain_community.vectorstores import Chroma\n",
    "chroma_db = Chroma.from_documents(page_contents, AzureOpenAIEmbeddings(), persist_directory=\"./chroma\")"
   ]
  },
  {
   "cell_type": "code",
   "execution_count": 24,
   "metadata": {},
   "outputs": [
    {
     "name": "stdout",
     "output_type": "stream",
     "text": [
      "Note: The PayFlow API also uses name-value pairs to provide parameter-based association between request and response fields of a message and their values; however, the PayFlow API is not the same as the NVP API; for more information about the PayFlow API, see the Payflow Gateway Developer Guide and Reference.\n",
      "\n",
      "PayPal API client-server architecture\n",
      "\n",
      "The PayPal API uses a client-server model. Your website is a client of the PayPal server.\n",
      "\n",
      "A page on your website initiates an action on a PayPal API server by sending a request to the server. The PayPal server responds with a confirmation that the requested action was taken or indicates that an error occurred. The response might also contain additional information related to the request. The following diagram shows the basic request-response mechanism.\n"
     ]
    }
   ],
   "source": [
    "query = \"how to use paypal api as client server model\"\n",
    "\n",
    "embedding_vector = AzureOpenAIEmbeddings().embed_query(query)\n",
    "docs = chroma_db.similarity_search_by_vector(embedding_vector, k=5)\n",
    "print(docs[0].page_content)"
   ]
  },
  {
   "cell_type": "code",
   "execution_count": 25,
   "metadata": {},
   "outputs": [
    {
     "name": "stdout",
     "output_type": "stream",
     "text": [
      "5\n",
      "Content: Note: The PayFlow API also uses name-value pairs to provide parameter-based association between request and response fields of a message and their values; however, the PayFlow API is not the same as the NVP API; for more information about the PayFlow API, see the Payflow Gateway Developer Guide and Reference.\n",
      "\n",
      "PayPal API client-server architecture\n",
      "\n",
      "The PayPal API uses a client-server model. Your website is a client of the PayPal server.\n",
      "\n",
      "A page on your website initiates an action on a PayPal API server by sending a request to the server. The PayPal server responds with a confirmation that the requested action was taken or indicates that an error occurred. The response might also contain additional information related to the request. The following diagram shows the basic request-response mechanism.,\n",
      "\n",
      "Score: 0.3118331730365753\n",
      "--------------------------\n",
      "Content: Like many web services, PayPal SOAP is a combination of client-side and server-side schemas, hardware and software servers, and core services.\n",
      "\n",
      "In an object-oriented processing model, the interface to SOAP requests/responses is an object in your application's native programming language. Your third-party SOAP client generates business-object interfaces and network stubs from PayPal-provided WSDL and XSD files that specify the PayPal SOAP message structure, its contents, and the PayPal API service bindings. A business application works with data in the form of object properties to send and receive data by calling object methods. The SOAP client handles the details of building the SOAP request, sending it to the PayPal service, and converting the response back to an object.\n",
      "\n",
      "PayPal WSDL/XSD Schema Definitions,\n",
      "\n",
      "Score: 0.3558172583580017\n",
      "--------------------------\n",
      "Content: PayPal SOAP API Basics\n",
      "\n",
      "Review the Getting Started Guides listed below to see how to make calls using the two different types of PayPal NVP/SOAP APIs (Express Checkout and Adaptive APIs):\n",
      "\n",
      "Express Checkout API Getting Started Guide\n",
      "\n",
      "Adaptive Accounts API Getting Started Guide,\n",
      "\n",
      "Score: 0.364822655916214\n",
      "--------------------------\n",
      "Content: Execute NVP API operations\n",
      "\n",
      "You execute a PayPal NVP API operation by submitting an HTTPS POST request to a PayPal API server, or by using cURL or another mechanism to provide secure access between the buyer's browser and the PayPal API server. For example, you might implement a system in which the buyer's browser remains a client of your server and your server becomes a client of the PayPal API server.\n",
      "\n",
      "Specify a PayPal server\n",
      "\n",
      "You execute a PayPal API operation by submitting the request to a PayPal API server.\n",
      "\n",
      "To execute a PayPal NVP API operation, submit the request to one of the following endpoints:,\n",
      "\n",
      "Score: 0.37501761317253113\n",
      "--------------------------\n",
      "Content: Backward compatibility — The PayPal API is versioned so that business applications are backward compatible when new elements are introduced to the server-side schema.\n",
      "\n",
      "Note: eBL defines many structures that are specific to processing auctions. PayPal's SOAP schema includes these definitions to maintain compatibility with eBay's SOAP. The material focuses only on those SOAP definitions pertinent to use of the PayPal SOAP API.\n",
      "\n",
      "Security\n",
      "\n",
      "The PayPal SOAP API service is protected to ensure that only authorized PayPal members use it. There are four levels of security:\n",
      "\n",
      "A required API Username and API Password.\n",
      "\n",
      "A third required authentication mechanism, which is either one of the following:Client-side request signing using a PayPal-issued API CertificateRequest authentication using an API Signature included in the request,\n",
      "\n",
      "Score: 0.3773100674152374\n",
      "--------------------------\n"
     ]
    }
   ],
   "source": [
    "\n",
    "docs = chroma_db.similarity_search_with_score(query, k=5)\n",
    "\n",
    "print(len(docs))\n",
    "for doc, score in docs:\n",
    "    print(f\"Content: {doc.page_content},\\n\\nScore: {score}\")\n",
    "    print(\"--------------------------\")"
   ]
  },
  {
   "cell_type": "code",
   "execution_count": 26,
   "metadata": {},
   "outputs": [],
   "source": [
    "faiss_retriever = faiss_db.as_retriever()\n",
    "docs = faiss_retriever.get_relevant_documents(query)\n"
   ]
  },
  {
   "cell_type": "code",
   "execution_count": 27,
   "metadata": {},
   "outputs": [
    {
     "data": {
      "text/plain": [
       "[Document(page_content='Note: The PayFlow API also uses name-value pairs to provide parameter-based association between request and response fields of a message and their values; however, the PayFlow API is not the same as the NVP API; for more information about the PayFlow API, see the Payflow Gateway Developer Guide and Reference.\\n\\nPayPal API client-server architecture\\n\\nThe PayPal API uses a client-server model. Your website is a client of the PayPal server.\\n\\nA page on your website initiates an action on a PayPal API server by sending a request to the server. The PayPal server responds with a confirmation that the requested action was taken or indicates that an error occurred. The response might also contain additional information related to the request. The following diagram shows the basic request-response mechanism.', metadata={'source': 'https://developer.paypal.com/api/nvp-soap/NVPAPIOverview/'}),\n",
       " Document(page_content=\"Like many web services, PayPal SOAP is a combination of client-side and server-side schemas, hardware and software servers, and core services.\\n\\nIn an object-oriented processing model, the interface to SOAP requests/responses is an object in your application's native programming language. Your third-party SOAP client generates business-object interfaces and network stubs from PayPal-provided WSDL and XSD files that specify the PayPal SOAP message structure, its contents, and the PayPal API service bindings. A business application works with data in the form of object properties to send and receive data by calling object methods. The SOAP client handles the details of building the SOAP request, sending it to the PayPal service, and converting the response back to an object.\\n\\nPayPal WSDL/XSD Schema Definitions\", metadata={'source': 'https://developer.paypal.com/api/nvp-soap/PayPalSOAPAPIArchitecture/'}),\n",
       " Document(page_content='PayPal SOAP API Basics\\n\\nReview the Getting Started Guides listed below to see how to make calls using the two different types of PayPal NVP/SOAP APIs (Express Checkout and Adaptive APIs):\\n\\nExpress Checkout API Getting Started Guide\\n\\nAdaptive Accounts API Getting Started Guide', metadata={'source': 'https://developer.paypal.com/api/nvp-soap/get-started/'}),\n",
       " Document(page_content=\"Execute NVP API operations\\n\\nYou execute a PayPal NVP API operation by submitting an HTTPS POST request to a PayPal API server, or by using cURL or another mechanism to provide secure access between the buyer's browser and the PayPal API server. For example, you might implement a system in which the buyer's browser remains a client of your server and your server becomes a client of the PayPal API server.\\n\\nSpecify a PayPal server\\n\\nYou execute a PayPal API operation by submitting the request to a PayPal API server.\\n\\nTo execute a PayPal NVP API operation, submit the request to one of the following endpoints:\", metadata={'source': 'https://developer.paypal.com/api/nvp-soap/NVPAPIOverview/'})]"
      ]
     },
     "execution_count": 27,
     "metadata": {},
     "output_type": "execute_result"
    }
   ],
   "source": [
    "docs"
   ]
  },
  {
   "cell_type": "code",
   "execution_count": 28,
   "metadata": {},
   "outputs": [
    {
     "name": "stdout",
     "output_type": "stream",
     "text": [
      "4\n"
     ]
    }
   ],
   "source": [
    "print(len(docs))"
   ]
  },
  {
   "cell_type": "code",
   "execution_count": 29,
   "metadata": {},
   "outputs": [
    {
     "data": {
      "text/plain": [
       "[Document(page_content='Note: The PayFlow API also uses name-value pairs to provide parameter-based association between request and response fields of a message and their values; however, the PayFlow API is not the same as the NVP API; for more information about the PayFlow API, see the Payflow Gateway Developer Guide and Reference.\\n\\nPayPal API client-server architecture\\n\\nThe PayPal API uses a client-server model. Your website is a client of the PayPal server.\\n\\nA page on your website initiates an action on a PayPal API server by sending a request to the server. The PayPal server responds with a confirmation that the requested action was taken or indicates that an error occurred. The response might also contain additional information related to the request. The following diagram shows the basic request-response mechanism.', metadata={'source': 'https://developer.paypal.com/api/nvp-soap/NVPAPIOverview/'}),\n",
       " Document(page_content='To enable PayPal to authenticate your request:\\n\\nSpecify the API username associated with your account. USER=API-Username\\n\\nSpecify the password associated with the API user name. PWD=API-Password\\n\\nIf you are using an API signature and not an API certificate, specify the API signature associated with the API username. SIGNATURE=API-Signature', metadata={'source': 'https://developer.paypal.com/api/nvp-soap/NVPAPIOverview/'}),\n",
       " Document(page_content='1/28/24, 9:06 PM PayPal SDD - Migration Example v1.0 Remiks v2.5.0\\n10.183.160.127:3033/preview 2/22\\nSolution Design Document\\nMigration Example\\nPlatforms Web\\nProducts Payments: Best Practices, PayPal Checkout\\nProducts Options Checkout Methods: Authorize\\nRevision Historyv1.0Jan 28, 2024\\nInitial Version\\nIntroduction Integration Description\\nLegal Notice\\n© 2023 PayPal, Inc. All rights reserved. PayPal is a registered trademark of PayPal, Inc. The PayPal logo is a trademark of\\nPayPal, Inc. Other trademarks and brands are the property of their respective owners. The information in this document\\nbelongs to PayPal, Inc. It may not be used, reproduced or disclosed without the written approval of PayPal, Inc. Notice of\\nnon-liability: PayPal, Inc. is providing the information in this document to you “AS-IS” with all faults. PayPal, Inc. makes\\nno warranties of any kind (whether express, implied or statutory) with respect to the information contained herein.\\nPayPal, Inc. assumes no liability for damages (whether direct or indirect), caused by errors or omissions, or resulting\\nfrom the use of this document or the information contained in this document or resulting from the application or use of\\nthe product or service described herein. PayPal, Inc. reserves the right to make changes to any information herein\\nwithout further notice.', metadata={'source': 'https://developer.paypal.com/api/nvp-soap/endpoints/'}),\n",
       " Document(page_content=\"Like many web services, PayPal SOAP is a combination of client-side and server-side schemas, hardware and software servers, and core services.\\n\\nIn an object-oriented processing model, the interface to SOAP requests/responses is an object in your application's native programming language. Your third-party SOAP client generates business-object interfaces and network stubs from PayPal-provided WSDL and XSD files that specify the PayPal SOAP message structure, its contents, and the PayPal API service bindings. A business application works with data in the form of object properties to send and receive data by calling object methods. The SOAP client handles the details of building the SOAP request, sending it to the PayPal service, and converting the response back to an object.\\n\\nPayPal WSDL/XSD Schema Definitions\", metadata={'source': 'https://developer.paypal.com/api/nvp-soap/PayPalSOAPAPIArchitecture/'})]"
      ]
     },
     "execution_count": 29,
     "metadata": {},
     "output_type": "execute_result"
    }
   ],
   "source": [
    "#Maximum marginal relevance retrieval\n",
    "faiss_retriever = faiss_db.as_retriever(search_type=\"mmr\")\n",
    "docs = faiss_retriever.get_relevant_documents(query)\n",
    "docs"
   ]
  },
  {
   "cell_type": "code",
   "execution_count": 30,
   "metadata": {},
   "outputs": [
    {
     "data": {
      "text/plain": [
       "[Document(page_content='Note: The PayFlow API also uses name-value pairs to provide parameter-based association between request and response fields of a message and their values; however, the PayFlow API is not the same as the NVP API; for more information about the PayFlow API, see the Payflow Gateway Developer Guide and Reference.\\n\\nPayPal API client-server architecture\\n\\nThe PayPal API uses a client-server model. Your website is a client of the PayPal server.\\n\\nA page on your website initiates an action on a PayPal API server by sending a request to the server. The PayPal server responds with a confirmation that the requested action was taken or indicates that an error occurred. The response might also contain additional information related to the request. The following diagram shows the basic request-response mechanism.', metadata={'source': 'https://developer.paypal.com/api/nvp-soap/NVPAPIOverview/'}),\n",
       " Document(page_content=\"Like many web services, PayPal SOAP is a combination of client-side and server-side schemas, hardware and software servers, and core services.\\n\\nIn an object-oriented processing model, the interface to SOAP requests/responses is an object in your application's native programming language. Your third-party SOAP client generates business-object interfaces and network stubs from PayPal-provided WSDL and XSD files that specify the PayPal SOAP message structure, its contents, and the PayPal API service bindings. A business application works with data in the form of object properties to send and receive data by calling object methods. The SOAP client handles the details of building the SOAP request, sending it to the PayPal service, and converting the response back to an object.\\n\\nPayPal WSDL/XSD Schema Definitions\", metadata={'source': 'https://developer.paypal.com/api/nvp-soap/PayPalSOAPAPIArchitecture/'}),\n",
       " Document(page_content='PayPal SOAP API Basics\\n\\nReview the Getting Started Guides listed below to see how to make calls using the two different types of PayPal NVP/SOAP APIs (Express Checkout and Adaptive APIs):\\n\\nExpress Checkout API Getting Started Guide\\n\\nAdaptive Accounts API Getting Started Guide', metadata={'source': 'https://developer.paypal.com/api/nvp-soap/get-started/'}),\n",
       " Document(page_content=\"Execute NVP API operations\\n\\nYou execute a PayPal NVP API operation by submitting an HTTPS POST request to a PayPal API server, or by using cURL or another mechanism to provide secure access between the buyer's browser and the PayPal API server. For example, you might implement a system in which the buyer's browser remains a client of your server and your server becomes a client of the PayPal API server.\\n\\nSpecify a PayPal server\\n\\nYou execute a PayPal API operation by submitting the request to a PayPal API server.\\n\\nTo execute a PayPal NVP API operation, submit the request to one of the following endpoints:\", metadata={'source': 'https://developer.paypal.com/api/nvp-soap/NVPAPIOverview/'})]"
      ]
     },
     "execution_count": 30,
     "metadata": {},
     "output_type": "execute_result"
    }
   ],
   "source": [
    "faiss_retriever = faiss_db.as_retriever(\n",
    "    search_type=\"similarity_score_threshold\", search_kwargs={\"score_threshold\": 0.5}\n",
    ")\n",
    "docs = faiss_retriever.get_relevant_documents(query)\n",
    "docs"
   ]
  },
  {
   "cell_type": "code",
   "execution_count": 82,
   "metadata": {},
   "outputs": [],
   "source": [
    "from langchain.chains.combine_documents import create_stuff_documents_chain\n",
    "from langchain.chains import create_retrieval_chain\n",
    "from langchain import hub\n",
    "retrieval_qa_chat_prompt = hub.pull(\"langchain-ai/retrieval-qa-chat\")\n",
    "combine_docs_chain = create_stuff_documents_chain(\n",
    "    llm, retrieval_qa_chat_prompt\n",
    ")\n",
    "\n",
    "faiss_retriever = faiss_db.as_retriever()\n",
    "chroma_retriever = chroma_db.as_retriever()\n",
    "\n",
    "retriever = faiss_retriever # chroma_retriever\n",
    "\n",
    "retrieval_chain = create_retrieval_chain(retriever, combine_docs_chain)"
   ]
  },
  {
   "cell_type": "code",
   "execution_count": 42,
   "metadata": {},
   "outputs": [
    {
     "data": {
      "text/plain": [
       "\"To use the PayPal API in a client-server model, follow these general steps:\\n\\n1. **Set Up Your Client**: Your website acts as the client, from which you'll initiate PayPal API requests. This involves setting up your website's backend (server-side code) to construct and send HTTP requests to the PayPal API server.\\n\\n2. **Initiate an Action**: A page on your website (or server-side script) sends a request to the PayPal API server to initiate an action. This involves creating a request with the appropriate parameters and endpoints.\\n\\n3. **Use NVP or SOAP**: Depending on your preference or requirements, you can choose to use PayPal's Name-Value Pair (NVP) API or Simple Object Access Protocol (SOAP) API. Both APIs require different methods of request construction:\\n   - For NVP, you would construct an HTTPS POST request with name-value pairs as the request parameters.\\n   - For SOAP, you would generate business-object interfaces and network stubs from PayPal-provided Web Services Description Language (WSDL) and XML Schema Definition (XSD) files. You then work with these objects and their methods to send and receive data.\\n\\n4. **Execute the Request**: Submit the HTTP POST request to the PayPal API server using cURL or another secure mechanism. This can be done directly from your server.\\n\\n5. **Handle the Response**: The PayPal server will respond with a confirmation of the action taken or an error message if something went wrong. The response might also contain additional information related to the request. In the case of SOAP, the response will be converted back into an object by your SOAP client.\\n\\n6. **Process the Response**: Once your server receives the response from the PayPal API server, you will need to handle and process this information accordingly, which could involve updating your system's records, notifying the user, or performing additional actions based on the response.\\n\\n7. **Review Documentation**: For more detailed information and specific instructions, refer to the Payflow Gateway Developer Guide and Reference for PayFlow API or the Getting Started Guides for the Express Checkout API and the Adaptive Accounts API, which provide information on how to make calls using PayPal NVP/SOAP APIs.\\n\\nKeep in mind that for real-world implementations, you'll need to handle authentication (API credentials), error handling, and ensure that your application is secure and complies with PayPal's API usage policies.\""
      ]
     },
     "execution_count": 42,
     "metadata": {},
     "output_type": "execute_result"
    }
   ],
   "source": [
    "from langchain_core.prompts import ChatPromptTemplate, SystemMessagePromptTemplate\n",
    "from langchain_core.runnables import RunnableLambda, RunnablePassthrough\n",
    "from langchain_core.output_parsers import StrOutputParser\n",
    "\n",
    "template = \"\"\"Answer the question based only on the following context:\n",
    "{context}\n",
    "\n",
    "Question: {question}\n",
    "\"\"\"\n",
    "\n",
    "prompt = ChatPromptTemplate.from_template(template)\n",
    "\n",
    "chain = (\n",
    "    {\"context\": retriever, \"question\": RunnablePassthrough()}\n",
    "    | prompt\n",
    "    | llm\n",
    "    | StrOutputParser()\n",
    ")\n",
    "query = \"how to use paypal api as client server model\"\n",
    "chain.invoke(query)"
   ]
  },
  {
   "cell_type": "code",
   "execution_count": 35,
   "metadata": {},
   "outputs": [],
   "source": [
    "from operator import itemgetter\n",
    "from langchain.schema import format_document\n",
    "from langchain_core.messages import AIMessage, HumanMessage, get_buffer_string\n",
    "from langchain_core.runnables import RunnableParallel\n",
    "from langchain.prompts.prompt import PromptTemplate\n",
    "_template = \"\"\"Given the following conversation and a follow up question, rephrase the follow up question to be a standalone question, in its original language.\n",
    "\n",
    "Chat History:\n",
    "{chat_history}\n",
    "Follow Up Input: {question}\n",
    "Standalone question:\"\"\"\n",
    "CONDENSE_QUESTION_PROMPT = PromptTemplate.from_template(_template)"
   ]
  },
  {
   "cell_type": "code",
   "execution_count": 50,
   "metadata": {},
   "outputs": [
    {
     "data": {
      "text/plain": [
       "PromptTemplate(input_variables=['chat_history', 'question'], template='Given the following conversation and a follow up question, rephrase the follow up question to be a standalone question, in its original language.\\n\\nChat History:\\n{chat_history}\\nFollow Up Input: {question}\\nStandalone question:')"
      ]
     },
     "execution_count": 50,
     "metadata": {},
     "output_type": "execute_result"
    }
   ],
   "source": [
    "CONDENSE_QUESTION_PROMPT"
   ]
  },
  {
   "cell_type": "code",
   "execution_count": 36,
   "metadata": {},
   "outputs": [],
   "source": [
    "template = \"\"\"Answer the question based only on the following context:\n",
    "{context}\n",
    "\n",
    "Question: {question}\n",
    "\"\"\"\n",
    "ANSWER_PROMPT = ChatPromptTemplate.from_template(template)"
   ]
  },
  {
   "cell_type": "code",
   "execution_count": 37,
   "metadata": {},
   "outputs": [],
   "source": [
    "DEFAULT_DOCUMENT_PROMPT = PromptTemplate.from_template(template=\"{page_content}\")\n",
    "\n",
    "\n",
    "def _combine_documents(\n",
    "    docs, document_prompt=DEFAULT_DOCUMENT_PROMPT, document_separator=\"\\n\\n\"\n",
    "):\n",
    "    doc_strings = [format_document(doc, document_prompt) for doc in docs]\n",
    "    return document_separator.join(doc_strings)"
   ]
  },
  {
   "cell_type": "code",
   "execution_count": 83,
   "metadata": {},
   "outputs": [],
   "source": [
    "system_prompt_template = \"You are paypal code migration assistant that converts paypal NVP code to Orders V2 REST API\"\n",
    "system_message_prompt = SystemMessagePromptTemplate.from_template(system_prompt_template)\n",
    "\n",
    "\n",
    "# Initiate a connection to the LLM from Azure OpenAI Service via LangChain.\n",
    "llm = AzureChatOpenAI(\n",
    "    #system_message_prompt=system_message_prompt,\n",
    "    deployment_name=os.environ[\"DEPLOYMENT_NAME\"]\n",
    ")"
   ]
  },
  {
   "cell_type": "code",
   "execution_count": 84,
   "metadata": {},
   "outputs": [],
   "source": [
    "_inputs = RunnableParallel(\n",
    "    standalone_question=RunnablePassthrough.assign(\n",
    "        chat_history=lambda x: get_buffer_string(x[\"chat_history\"])\n",
    "    )\n",
    ")\n",
    "_context = {\n",
    "    \"context\": itemgetter(\"standalone_question\") | faiss_retriever | _combine_documents,\n",
    "    \"question\": lambda x: x[\"standalone_question\"],\n",
    "}\n",
    "conversational_qa_chain = _inputs | _context | ANSWER_PROMPT | llm"
   ]
  },
  {
   "cell_type": "code",
   "execution_count": null,
   "metadata": {},
   "outputs": [],
   "source": [
    "query = \"create helloworld java program that uses paypal NVP api for checkout using app name and client id\"\n",
    "conversational_qa_chain.invoke(\n",
    "    {\n",
    "        \"question\": query,\n",
    "        \"chat_history\": [],\n",
    "    }, \n",
    ")"
   ]
  },
  {
   "cell_type": "code",
   "execution_count": 85,
   "metadata": {},
   "outputs": [
    {
     "ename": "TypeError",
     "evalue": "expected string or buffer",
     "output_type": "error",
     "traceback": [
      "\u001b[1;31m---------------------------------------------------------------------------\u001b[0m",
      "\u001b[1;31mTypeError\u001b[0m                                 Traceback (most recent call last)",
      "Cell \u001b[1;32mIn[85], line 58\u001b[0m\n\u001b[0;32m      1\u001b[0m java_code \u001b[38;5;241m=\u001b[39m \u001b[38;5;124m\"\"\"\u001b[39m\n\u001b[0;32m      2\u001b[0m \u001b[38;5;124mimport com.paypal.sdk.core.nvp.*;\u001b[39m\n\u001b[0;32m      3\u001b[0m \u001b[38;5;124mimport com.paypal.sdk.services.NVPCallerServices;\u001b[39m\n\u001b[1;32m   (...)\u001b[0m\n\u001b[0;32m     53\u001b[0m \n\u001b[0;32m     54\u001b[0m \u001b[38;5;124m\"\"\"\u001b[39m\n\u001b[0;32m     57\u001b[0m query \u001b[38;5;241m=\u001b[39m \u001b[38;5;124mf\u001b[39m\u001b[38;5;124m\"\u001b[39m\u001b[38;5;124mconvert the following java code to use paypal rest api instead of NVP api. full java code here: \u001b[39m\u001b[38;5;132;01m{\u001b[39;00mjava_code\u001b[38;5;132;01m}\u001b[39;00m\u001b[38;5;124m\"\u001b[39m\n\u001b[1;32m---> 58\u001b[0m \u001b[43mconversational_qa_chain\u001b[49m\u001b[38;5;241;43m.\u001b[39;49m\u001b[43minvoke\u001b[49m\u001b[43m(\u001b[49m\n\u001b[0;32m     59\u001b[0m \u001b[43m    \u001b[49m\u001b[43m{\u001b[49m\n\u001b[0;32m     60\u001b[0m \u001b[43m        \u001b[49m\u001b[38;5;124;43m\"\u001b[39;49m\u001b[38;5;124;43mquestion\u001b[39;49m\u001b[38;5;124;43m\"\u001b[39;49m\u001b[43m:\u001b[49m\u001b[43m \u001b[49m\u001b[43mquery\u001b[49m\u001b[43m,\u001b[49m\n\u001b[0;32m     61\u001b[0m \u001b[43m        \u001b[49m\u001b[38;5;124;43m\"\u001b[39;49m\u001b[38;5;124;43mchat_history\u001b[39;49m\u001b[38;5;124;43m\"\u001b[39;49m\u001b[43m:\u001b[49m\u001b[43m \u001b[49m\u001b[43m[\u001b[49m\u001b[43m]\u001b[49m\u001b[43m,\u001b[49m\n\u001b[0;32m     62\u001b[0m \u001b[43m    \u001b[49m\u001b[43m}\u001b[49m\n\u001b[0;32m     63\u001b[0m \u001b[43m    \u001b[49m\n\u001b[0;32m     64\u001b[0m \u001b[43m)\u001b[49m\n",
      "File \u001b[1;32mc:\\Users\\anildwa\\AppData\\Local\\miniconda3\\envs\\langchain\\lib\\site-packages\\langchain_core\\runnables\\base.py:2053\u001b[0m, in \u001b[0;36mRunnableSequence.invoke\u001b[1;34m(self, input, config)\u001b[0m\n\u001b[0;32m   2051\u001b[0m \u001b[38;5;28;01mtry\u001b[39;00m:\n\u001b[0;32m   2052\u001b[0m     \u001b[38;5;28;01mfor\u001b[39;00m i, step \u001b[38;5;129;01min\u001b[39;00m \u001b[38;5;28menumerate\u001b[39m(\u001b[38;5;28mself\u001b[39m\u001b[38;5;241m.\u001b[39msteps):\n\u001b[1;32m-> 2053\u001b[0m         \u001b[38;5;28minput\u001b[39m \u001b[38;5;241m=\u001b[39m \u001b[43mstep\u001b[49m\u001b[38;5;241;43m.\u001b[39;49m\u001b[43minvoke\u001b[49m\u001b[43m(\u001b[49m\n\u001b[0;32m   2054\u001b[0m \u001b[43m            \u001b[49m\u001b[38;5;28;43minput\u001b[39;49m\u001b[43m,\u001b[49m\n\u001b[0;32m   2055\u001b[0m \u001b[43m            \u001b[49m\u001b[38;5;66;43;03m# mark each step as a child run\u001b[39;49;00m\n\u001b[0;32m   2056\u001b[0m \u001b[43m            \u001b[49m\u001b[43mpatch_config\u001b[49m\u001b[43m(\u001b[49m\n\u001b[0;32m   2057\u001b[0m \u001b[43m                \u001b[49m\u001b[43mconfig\u001b[49m\u001b[43m,\u001b[49m\u001b[43m \u001b[49m\u001b[43mcallbacks\u001b[49m\u001b[38;5;241;43m=\u001b[39;49m\u001b[43mrun_manager\u001b[49m\u001b[38;5;241;43m.\u001b[39;49m\u001b[43mget_child\u001b[49m\u001b[43m(\u001b[49m\u001b[38;5;124;43mf\u001b[39;49m\u001b[38;5;124;43m\"\u001b[39;49m\u001b[38;5;124;43mseq:step:\u001b[39;49m\u001b[38;5;132;43;01m{\u001b[39;49;00m\u001b[43mi\u001b[49m\u001b[38;5;241;43m+\u001b[39;49m\u001b[38;5;241;43m1\u001b[39;49m\u001b[38;5;132;43;01m}\u001b[39;49;00m\u001b[38;5;124;43m\"\u001b[39;49m\u001b[43m)\u001b[49m\n\u001b[0;32m   2058\u001b[0m \u001b[43m            \u001b[49m\u001b[43m)\u001b[49m\u001b[43m,\u001b[49m\n\u001b[0;32m   2059\u001b[0m \u001b[43m        \u001b[49m\u001b[43m)\u001b[49m\n\u001b[0;32m   2060\u001b[0m \u001b[38;5;66;03m# finish the root run\u001b[39;00m\n\u001b[0;32m   2061\u001b[0m \u001b[38;5;28;01mexcept\u001b[39;00m \u001b[38;5;167;01mBaseException\u001b[39;00m \u001b[38;5;28;01mas\u001b[39;00m e:\n",
      "File \u001b[1;32mc:\\Users\\anildwa\\AppData\\Local\\miniconda3\\envs\\langchain\\lib\\site-packages\\langchain_core\\runnables\\base.py:2618\u001b[0m, in \u001b[0;36mRunnableParallel.invoke\u001b[1;34m(self, input, config)\u001b[0m\n\u001b[0;32m   2605\u001b[0m     \u001b[38;5;28;01mwith\u001b[39;00m get_executor_for_config(config) \u001b[38;5;28;01mas\u001b[39;00m executor:\n\u001b[0;32m   2606\u001b[0m         futures \u001b[38;5;241m=\u001b[39m [\n\u001b[0;32m   2607\u001b[0m             executor\u001b[38;5;241m.\u001b[39msubmit(\n\u001b[0;32m   2608\u001b[0m                 step\u001b[38;5;241m.\u001b[39minvoke,\n\u001b[1;32m   (...)\u001b[0m\n\u001b[0;32m   2616\u001b[0m             \u001b[38;5;28;01mfor\u001b[39;00m key, step \u001b[38;5;129;01min\u001b[39;00m steps\u001b[38;5;241m.\u001b[39mitems()\n\u001b[0;32m   2617\u001b[0m         ]\n\u001b[1;32m-> 2618\u001b[0m         output \u001b[38;5;241m=\u001b[39m {key: future\u001b[38;5;241m.\u001b[39mresult() \u001b[38;5;28;01mfor\u001b[39;00m key, future \u001b[38;5;129;01min\u001b[39;00m \u001b[38;5;28mzip\u001b[39m(steps, futures)}\n\u001b[0;32m   2619\u001b[0m \u001b[38;5;66;03m# finish the root run\u001b[39;00m\n\u001b[0;32m   2620\u001b[0m \u001b[38;5;28;01mexcept\u001b[39;00m \u001b[38;5;167;01mBaseException\u001b[39;00m \u001b[38;5;28;01mas\u001b[39;00m e:\n",
      "File \u001b[1;32mc:\\Users\\anildwa\\AppData\\Local\\miniconda3\\envs\\langchain\\lib\\site-packages\\langchain_core\\runnables\\base.py:2618\u001b[0m, in \u001b[0;36m<dictcomp>\u001b[1;34m(.0)\u001b[0m\n\u001b[0;32m   2605\u001b[0m     \u001b[38;5;28;01mwith\u001b[39;00m get_executor_for_config(config) \u001b[38;5;28;01mas\u001b[39;00m executor:\n\u001b[0;32m   2606\u001b[0m         futures \u001b[38;5;241m=\u001b[39m [\n\u001b[0;32m   2607\u001b[0m             executor\u001b[38;5;241m.\u001b[39msubmit(\n\u001b[0;32m   2608\u001b[0m                 step\u001b[38;5;241m.\u001b[39minvoke,\n\u001b[1;32m   (...)\u001b[0m\n\u001b[0;32m   2616\u001b[0m             \u001b[38;5;28;01mfor\u001b[39;00m key, step \u001b[38;5;129;01min\u001b[39;00m steps\u001b[38;5;241m.\u001b[39mitems()\n\u001b[0;32m   2617\u001b[0m         ]\n\u001b[1;32m-> 2618\u001b[0m         output \u001b[38;5;241m=\u001b[39m {key: \u001b[43mfuture\u001b[49m\u001b[38;5;241;43m.\u001b[39;49m\u001b[43mresult\u001b[49m\u001b[43m(\u001b[49m\u001b[43m)\u001b[49m \u001b[38;5;28;01mfor\u001b[39;00m key, future \u001b[38;5;129;01min\u001b[39;00m \u001b[38;5;28mzip\u001b[39m(steps, futures)}\n\u001b[0;32m   2619\u001b[0m \u001b[38;5;66;03m# finish the root run\u001b[39;00m\n\u001b[0;32m   2620\u001b[0m \u001b[38;5;28;01mexcept\u001b[39;00m \u001b[38;5;167;01mBaseException\u001b[39;00m \u001b[38;5;28;01mas\u001b[39;00m e:\n",
      "File \u001b[1;32mc:\\Users\\anildwa\\AppData\\Local\\miniconda3\\envs\\langchain\\lib\\concurrent\\futures\\_base.py:451\u001b[0m, in \u001b[0;36mFuture.result\u001b[1;34m(self, timeout)\u001b[0m\n\u001b[0;32m    449\u001b[0m     \u001b[38;5;28;01mraise\u001b[39;00m CancelledError()\n\u001b[0;32m    450\u001b[0m \u001b[38;5;28;01melif\u001b[39;00m \u001b[38;5;28mself\u001b[39m\u001b[38;5;241m.\u001b[39m_state \u001b[38;5;241m==\u001b[39m FINISHED:\n\u001b[1;32m--> 451\u001b[0m     \u001b[38;5;28;01mreturn\u001b[39;00m \u001b[38;5;28;43mself\u001b[39;49m\u001b[38;5;241;43m.\u001b[39;49m\u001b[43m__get_result\u001b[49m\u001b[43m(\u001b[49m\u001b[43m)\u001b[49m\n\u001b[0;32m    453\u001b[0m \u001b[38;5;28mself\u001b[39m\u001b[38;5;241m.\u001b[39m_condition\u001b[38;5;241m.\u001b[39mwait(timeout)\n\u001b[0;32m    455\u001b[0m \u001b[38;5;28;01mif\u001b[39;00m \u001b[38;5;28mself\u001b[39m\u001b[38;5;241m.\u001b[39m_state \u001b[38;5;129;01min\u001b[39;00m [CANCELLED, CANCELLED_AND_NOTIFIED]:\n",
      "File \u001b[1;32mc:\\Users\\anildwa\\AppData\\Local\\miniconda3\\envs\\langchain\\lib\\concurrent\\futures\\_base.py:403\u001b[0m, in \u001b[0;36mFuture.__get_result\u001b[1;34m(self)\u001b[0m\n\u001b[0;32m    401\u001b[0m \u001b[38;5;28;01mif\u001b[39;00m \u001b[38;5;28mself\u001b[39m\u001b[38;5;241m.\u001b[39m_exception:\n\u001b[0;32m    402\u001b[0m     \u001b[38;5;28;01mtry\u001b[39;00m:\n\u001b[1;32m--> 403\u001b[0m         \u001b[38;5;28;01mraise\u001b[39;00m \u001b[38;5;28mself\u001b[39m\u001b[38;5;241m.\u001b[39m_exception\n\u001b[0;32m    404\u001b[0m     \u001b[38;5;28;01mfinally\u001b[39;00m:\n\u001b[0;32m    405\u001b[0m         \u001b[38;5;66;03m# Break a reference cycle with the exception in self._exception\u001b[39;00m\n\u001b[0;32m    406\u001b[0m         \u001b[38;5;28mself\u001b[39m \u001b[38;5;241m=\u001b[39m \u001b[38;5;28;01mNone\u001b[39;00m\n",
      "File \u001b[1;32mc:\\Users\\anildwa\\AppData\\Local\\miniconda3\\envs\\langchain\\lib\\concurrent\\futures\\thread.py:58\u001b[0m, in \u001b[0;36m_WorkItem.run\u001b[1;34m(self)\u001b[0m\n\u001b[0;32m     55\u001b[0m     \u001b[38;5;28;01mreturn\u001b[39;00m\n\u001b[0;32m     57\u001b[0m \u001b[38;5;28;01mtry\u001b[39;00m:\n\u001b[1;32m---> 58\u001b[0m     result \u001b[38;5;241m=\u001b[39m \u001b[38;5;28mself\u001b[39m\u001b[38;5;241m.\u001b[39mfn(\u001b[38;5;241m*\u001b[39m\u001b[38;5;28mself\u001b[39m\u001b[38;5;241m.\u001b[39margs, \u001b[38;5;241m*\u001b[39m\u001b[38;5;241m*\u001b[39m\u001b[38;5;28mself\u001b[39m\u001b[38;5;241m.\u001b[39mkwargs)\n\u001b[0;32m     59\u001b[0m \u001b[38;5;28;01mexcept\u001b[39;00m \u001b[38;5;167;01mBaseException\u001b[39;00m \u001b[38;5;28;01mas\u001b[39;00m exc:\n\u001b[0;32m     60\u001b[0m     \u001b[38;5;28mself\u001b[39m\u001b[38;5;241m.\u001b[39mfuture\u001b[38;5;241m.\u001b[39mset_exception(exc)\n",
      "File \u001b[1;32mc:\\Users\\anildwa\\AppData\\Local\\miniconda3\\envs\\langchain\\lib\\site-packages\\langchain_core\\runnables\\base.py:2053\u001b[0m, in \u001b[0;36mRunnableSequence.invoke\u001b[1;34m(self, input, config)\u001b[0m\n\u001b[0;32m   2051\u001b[0m \u001b[38;5;28;01mtry\u001b[39;00m:\n\u001b[0;32m   2052\u001b[0m     \u001b[38;5;28;01mfor\u001b[39;00m i, step \u001b[38;5;129;01min\u001b[39;00m \u001b[38;5;28menumerate\u001b[39m(\u001b[38;5;28mself\u001b[39m\u001b[38;5;241m.\u001b[39msteps):\n\u001b[1;32m-> 2053\u001b[0m         \u001b[38;5;28minput\u001b[39m \u001b[38;5;241m=\u001b[39m \u001b[43mstep\u001b[49m\u001b[38;5;241;43m.\u001b[39;49m\u001b[43minvoke\u001b[49m\u001b[43m(\u001b[49m\n\u001b[0;32m   2054\u001b[0m \u001b[43m            \u001b[49m\u001b[38;5;28;43minput\u001b[39;49m\u001b[43m,\u001b[49m\n\u001b[0;32m   2055\u001b[0m \u001b[43m            \u001b[49m\u001b[38;5;66;43;03m# mark each step as a child run\u001b[39;49;00m\n\u001b[0;32m   2056\u001b[0m \u001b[43m            \u001b[49m\u001b[43mpatch_config\u001b[49m\u001b[43m(\u001b[49m\n\u001b[0;32m   2057\u001b[0m \u001b[43m                \u001b[49m\u001b[43mconfig\u001b[49m\u001b[43m,\u001b[49m\u001b[43m \u001b[49m\u001b[43mcallbacks\u001b[49m\u001b[38;5;241;43m=\u001b[39;49m\u001b[43mrun_manager\u001b[49m\u001b[38;5;241;43m.\u001b[39;49m\u001b[43mget_child\u001b[49m\u001b[43m(\u001b[49m\u001b[38;5;124;43mf\u001b[39;49m\u001b[38;5;124;43m\"\u001b[39;49m\u001b[38;5;124;43mseq:step:\u001b[39;49m\u001b[38;5;132;43;01m{\u001b[39;49;00m\u001b[43mi\u001b[49m\u001b[38;5;241;43m+\u001b[39;49m\u001b[38;5;241;43m1\u001b[39;49m\u001b[38;5;132;43;01m}\u001b[39;49;00m\u001b[38;5;124;43m\"\u001b[39;49m\u001b[43m)\u001b[49m\n\u001b[0;32m   2058\u001b[0m \u001b[43m            \u001b[49m\u001b[43m)\u001b[49m\u001b[43m,\u001b[49m\n\u001b[0;32m   2059\u001b[0m \u001b[43m        \u001b[49m\u001b[43m)\u001b[49m\n\u001b[0;32m   2060\u001b[0m \u001b[38;5;66;03m# finish the root run\u001b[39;00m\n\u001b[0;32m   2061\u001b[0m \u001b[38;5;28;01mexcept\u001b[39;00m \u001b[38;5;167;01mBaseException\u001b[39;00m \u001b[38;5;28;01mas\u001b[39;00m e:\n",
      "File \u001b[1;32mc:\\Users\\anildwa\\AppData\\Local\\miniconda3\\envs\\langchain\\lib\\site-packages\\langchain_core\\retrievers.py:121\u001b[0m, in \u001b[0;36mBaseRetriever.invoke\u001b[1;34m(self, input, config, **kwargs)\u001b[0m\n\u001b[0;32m    117\u001b[0m \u001b[38;5;28;01mdef\u001b[39;00m \u001b[38;5;21minvoke\u001b[39m(\n\u001b[0;32m    118\u001b[0m     \u001b[38;5;28mself\u001b[39m, \u001b[38;5;28minput\u001b[39m: \u001b[38;5;28mstr\u001b[39m, config: Optional[RunnableConfig] \u001b[38;5;241m=\u001b[39m \u001b[38;5;28;01mNone\u001b[39;00m, \u001b[38;5;241m*\u001b[39m\u001b[38;5;241m*\u001b[39mkwargs: Any\n\u001b[0;32m    119\u001b[0m ) \u001b[38;5;241m-\u001b[39m\u001b[38;5;241m>\u001b[39m List[Document]:\n\u001b[0;32m    120\u001b[0m     config \u001b[38;5;241m=\u001b[39m ensure_config(config)\n\u001b[1;32m--> 121\u001b[0m     \u001b[38;5;28;01mreturn\u001b[39;00m \u001b[38;5;28mself\u001b[39m\u001b[38;5;241m.\u001b[39mget_relevant_documents(\n\u001b[0;32m    122\u001b[0m         \u001b[38;5;28minput\u001b[39m,\n\u001b[0;32m    123\u001b[0m         callbacks\u001b[38;5;241m=\u001b[39mconfig\u001b[38;5;241m.\u001b[39mget(\u001b[38;5;124m\"\u001b[39m\u001b[38;5;124mcallbacks\u001b[39m\u001b[38;5;124m\"\u001b[39m),\n\u001b[0;32m    124\u001b[0m         tags\u001b[38;5;241m=\u001b[39mconfig\u001b[38;5;241m.\u001b[39mget(\u001b[38;5;124m\"\u001b[39m\u001b[38;5;124mtags\u001b[39m\u001b[38;5;124m\"\u001b[39m),\n\u001b[0;32m    125\u001b[0m         metadata\u001b[38;5;241m=\u001b[39mconfig\u001b[38;5;241m.\u001b[39mget(\u001b[38;5;124m\"\u001b[39m\u001b[38;5;124mmetadata\u001b[39m\u001b[38;5;124m\"\u001b[39m),\n\u001b[0;32m    126\u001b[0m         run_name\u001b[38;5;241m=\u001b[39mconfig\u001b[38;5;241m.\u001b[39mget(\u001b[38;5;124m\"\u001b[39m\u001b[38;5;124mrun_name\u001b[39m\u001b[38;5;124m\"\u001b[39m),\n\u001b[0;32m    127\u001b[0m         \u001b[38;5;241m*\u001b[39m\u001b[38;5;241m*\u001b[39mkwargs,\n\u001b[0;32m    128\u001b[0m     )\n",
      "File \u001b[1;32mc:\\Users\\anildwa\\AppData\\Local\\miniconda3\\envs\\langchain\\lib\\site-packages\\langchain_core\\retrievers.py:224\u001b[0m, in \u001b[0;36mBaseRetriever.get_relevant_documents\u001b[1;34m(self, query, callbacks, tags, metadata, run_name, **kwargs)\u001b[0m\n\u001b[0;32m    222\u001b[0m \u001b[38;5;28;01mexcept\u001b[39;00m \u001b[38;5;167;01mException\u001b[39;00m \u001b[38;5;28;01mas\u001b[39;00m e:\n\u001b[0;32m    223\u001b[0m     run_manager\u001b[38;5;241m.\u001b[39mon_retriever_error(e)\n\u001b[1;32m--> 224\u001b[0m     \u001b[38;5;28;01mraise\u001b[39;00m e\n\u001b[0;32m    225\u001b[0m \u001b[38;5;28;01melse\u001b[39;00m:\n\u001b[0;32m    226\u001b[0m     run_manager\u001b[38;5;241m.\u001b[39mon_retriever_end(\n\u001b[0;32m    227\u001b[0m         result,\n\u001b[0;32m    228\u001b[0m     )\n",
      "File \u001b[1;32mc:\\Users\\anildwa\\AppData\\Local\\miniconda3\\envs\\langchain\\lib\\site-packages\\langchain_core\\retrievers.py:217\u001b[0m, in \u001b[0;36mBaseRetriever.get_relevant_documents\u001b[1;34m(self, query, callbacks, tags, metadata, run_name, **kwargs)\u001b[0m\n\u001b[0;32m    215\u001b[0m _kwargs \u001b[38;5;241m=\u001b[39m kwargs \u001b[38;5;28;01mif\u001b[39;00m \u001b[38;5;28mself\u001b[39m\u001b[38;5;241m.\u001b[39m_expects_other_args \u001b[38;5;28;01melse\u001b[39;00m {}\n\u001b[0;32m    216\u001b[0m \u001b[38;5;28;01mif\u001b[39;00m \u001b[38;5;28mself\u001b[39m\u001b[38;5;241m.\u001b[39m_new_arg_supported:\n\u001b[1;32m--> 217\u001b[0m     result \u001b[38;5;241m=\u001b[39m \u001b[38;5;28mself\u001b[39m\u001b[38;5;241m.\u001b[39m_get_relevant_documents(\n\u001b[0;32m    218\u001b[0m         query, run_manager\u001b[38;5;241m=\u001b[39mrun_manager, \u001b[38;5;241m*\u001b[39m\u001b[38;5;241m*\u001b[39m_kwargs\n\u001b[0;32m    219\u001b[0m     )\n\u001b[0;32m    220\u001b[0m \u001b[38;5;28;01melse\u001b[39;00m:\n\u001b[0;32m    221\u001b[0m     result \u001b[38;5;241m=\u001b[39m \u001b[38;5;28mself\u001b[39m\u001b[38;5;241m.\u001b[39m_get_relevant_documents(query, \u001b[38;5;241m*\u001b[39m\u001b[38;5;241m*\u001b[39m_kwargs)\n",
      "File \u001b[1;32mc:\\Users\\anildwa\\AppData\\Local\\miniconda3\\envs\\langchain\\lib\\site-packages\\langchain_core\\vectorstores.py:654\u001b[0m, in \u001b[0;36mVectorStoreRetriever._get_relevant_documents\u001b[1;34m(self, query, run_manager)\u001b[0m\n\u001b[0;32m    650\u001b[0m \u001b[38;5;28;01mdef\u001b[39;00m \u001b[38;5;21m_get_relevant_documents\u001b[39m(\n\u001b[0;32m    651\u001b[0m     \u001b[38;5;28mself\u001b[39m, query: \u001b[38;5;28mstr\u001b[39m, \u001b[38;5;241m*\u001b[39m, run_manager: CallbackManagerForRetrieverRun\n\u001b[0;32m    652\u001b[0m ) \u001b[38;5;241m-\u001b[39m\u001b[38;5;241m>\u001b[39m List[Document]:\n\u001b[0;32m    653\u001b[0m     \u001b[38;5;28;01mif\u001b[39;00m \u001b[38;5;28mself\u001b[39m\u001b[38;5;241m.\u001b[39msearch_type \u001b[38;5;241m==\u001b[39m \u001b[38;5;124m\"\u001b[39m\u001b[38;5;124msimilarity\u001b[39m\u001b[38;5;124m\"\u001b[39m:\n\u001b[1;32m--> 654\u001b[0m         docs \u001b[38;5;241m=\u001b[39m \u001b[38;5;28mself\u001b[39m\u001b[38;5;241m.\u001b[39mvectorstore\u001b[38;5;241m.\u001b[39msimilarity_search(query, \u001b[38;5;241m*\u001b[39m\u001b[38;5;241m*\u001b[39m\u001b[38;5;28mself\u001b[39m\u001b[38;5;241m.\u001b[39msearch_kwargs)\n\u001b[0;32m    655\u001b[0m     \u001b[38;5;28;01melif\u001b[39;00m \u001b[38;5;28mself\u001b[39m\u001b[38;5;241m.\u001b[39msearch_type \u001b[38;5;241m==\u001b[39m \u001b[38;5;124m\"\u001b[39m\u001b[38;5;124msimilarity_score_threshold\u001b[39m\u001b[38;5;124m\"\u001b[39m:\n\u001b[0;32m    656\u001b[0m         docs_and_similarities \u001b[38;5;241m=\u001b[39m (\n\u001b[0;32m    657\u001b[0m             \u001b[38;5;28mself\u001b[39m\u001b[38;5;241m.\u001b[39mvectorstore\u001b[38;5;241m.\u001b[39msimilarity_search_with_relevance_scores(\n\u001b[0;32m    658\u001b[0m                 query, \u001b[38;5;241m*\u001b[39m\u001b[38;5;241m*\u001b[39m\u001b[38;5;28mself\u001b[39m\u001b[38;5;241m.\u001b[39msearch_kwargs\n\u001b[0;32m    659\u001b[0m             )\n\u001b[0;32m    660\u001b[0m         )\n",
      "File \u001b[1;32mc:\\Users\\anildwa\\AppData\\Local\\miniconda3\\envs\\langchain\\lib\\site-packages\\langchain_community\\vectorstores\\faiss.py:511\u001b[0m, in \u001b[0;36mFAISS.similarity_search\u001b[1;34m(self, query, k, filter, fetch_k, **kwargs)\u001b[0m\n\u001b[0;32m    491\u001b[0m \u001b[38;5;28;01mdef\u001b[39;00m \u001b[38;5;21msimilarity_search\u001b[39m(\n\u001b[0;32m    492\u001b[0m     \u001b[38;5;28mself\u001b[39m,\n\u001b[0;32m    493\u001b[0m     query: \u001b[38;5;28mstr\u001b[39m,\n\u001b[1;32m   (...)\u001b[0m\n\u001b[0;32m    497\u001b[0m     \u001b[38;5;241m*\u001b[39m\u001b[38;5;241m*\u001b[39mkwargs: Any,\n\u001b[0;32m    498\u001b[0m ) \u001b[38;5;241m-\u001b[39m\u001b[38;5;241m>\u001b[39m List[Document]:\n\u001b[0;32m    499\u001b[0m \u001b[38;5;250m    \u001b[39m\u001b[38;5;124;03m\"\"\"Return docs most similar to query.\u001b[39;00m\n\u001b[0;32m    500\u001b[0m \n\u001b[0;32m    501\u001b[0m \u001b[38;5;124;03m    Args:\u001b[39;00m\n\u001b[1;32m   (...)\u001b[0m\n\u001b[0;32m    509\u001b[0m \u001b[38;5;124;03m        List of Documents most similar to the query.\u001b[39;00m\n\u001b[0;32m    510\u001b[0m \u001b[38;5;124;03m    \"\"\"\u001b[39;00m\n\u001b[1;32m--> 511\u001b[0m     docs_and_scores \u001b[38;5;241m=\u001b[39m \u001b[38;5;28mself\u001b[39m\u001b[38;5;241m.\u001b[39msimilarity_search_with_score(\n\u001b[0;32m    512\u001b[0m         query, k, \u001b[38;5;28mfilter\u001b[39m\u001b[38;5;241m=\u001b[39m\u001b[38;5;28mfilter\u001b[39m, fetch_k\u001b[38;5;241m=\u001b[39mfetch_k, \u001b[38;5;241m*\u001b[39m\u001b[38;5;241m*\u001b[39mkwargs\n\u001b[0;32m    513\u001b[0m     )\n\u001b[0;32m    514\u001b[0m     \u001b[38;5;28;01mreturn\u001b[39;00m [doc \u001b[38;5;28;01mfor\u001b[39;00m doc, _ \u001b[38;5;129;01min\u001b[39;00m docs_and_scores]\n",
      "File \u001b[1;32mc:\\Users\\anildwa\\AppData\\Local\\miniconda3\\envs\\langchain\\lib\\site-packages\\langchain_community\\vectorstores\\faiss.py:392\u001b[0m, in \u001b[0;36mFAISS.similarity_search_with_score\u001b[1;34m(self, query, k, filter, fetch_k, **kwargs)\u001b[0m\n\u001b[0;32m    371\u001b[0m \u001b[38;5;28;01mdef\u001b[39;00m \u001b[38;5;21msimilarity_search_with_score\u001b[39m(\n\u001b[0;32m    372\u001b[0m     \u001b[38;5;28mself\u001b[39m,\n\u001b[0;32m    373\u001b[0m     query: \u001b[38;5;28mstr\u001b[39m,\n\u001b[1;32m   (...)\u001b[0m\n\u001b[0;32m    377\u001b[0m     \u001b[38;5;241m*\u001b[39m\u001b[38;5;241m*\u001b[39mkwargs: Any,\n\u001b[0;32m    378\u001b[0m ) \u001b[38;5;241m-\u001b[39m\u001b[38;5;241m>\u001b[39m List[Tuple[Document, \u001b[38;5;28mfloat\u001b[39m]]:\n\u001b[0;32m    379\u001b[0m \u001b[38;5;250m    \u001b[39m\u001b[38;5;124;03m\"\"\"Return docs most similar to query.\u001b[39;00m\n\u001b[0;32m    380\u001b[0m \n\u001b[0;32m    381\u001b[0m \u001b[38;5;124;03m    Args:\u001b[39;00m\n\u001b[1;32m   (...)\u001b[0m\n\u001b[0;32m    390\u001b[0m \u001b[38;5;124;03m        L2 distance in float. Lower score represents more similarity.\u001b[39;00m\n\u001b[0;32m    391\u001b[0m \u001b[38;5;124;03m    \"\"\"\u001b[39;00m\n\u001b[1;32m--> 392\u001b[0m     embedding \u001b[38;5;241m=\u001b[39m \u001b[38;5;28;43mself\u001b[39;49m\u001b[38;5;241;43m.\u001b[39;49m\u001b[43m_embed_query\u001b[49m\u001b[43m(\u001b[49m\u001b[43mquery\u001b[49m\u001b[43m)\u001b[49m\n\u001b[0;32m    393\u001b[0m     docs \u001b[38;5;241m=\u001b[39m \u001b[38;5;28mself\u001b[39m\u001b[38;5;241m.\u001b[39msimilarity_search_with_score_by_vector(\n\u001b[0;32m    394\u001b[0m         embedding,\n\u001b[0;32m    395\u001b[0m         k,\n\u001b[1;32m   (...)\u001b[0m\n\u001b[0;32m    398\u001b[0m         \u001b[38;5;241m*\u001b[39m\u001b[38;5;241m*\u001b[39mkwargs,\n\u001b[0;32m    399\u001b[0m     )\n\u001b[0;32m    400\u001b[0m     \u001b[38;5;28;01mreturn\u001b[39;00m docs\n",
      "File \u001b[1;32mc:\\Users\\anildwa\\AppData\\Local\\miniconda3\\envs\\langchain\\lib\\site-packages\\langchain_community\\vectorstores\\faiss.py:155\u001b[0m, in \u001b[0;36mFAISS._embed_query\u001b[1;34m(self, text)\u001b[0m\n\u001b[0;32m    153\u001b[0m \u001b[38;5;28;01mdef\u001b[39;00m \u001b[38;5;21m_embed_query\u001b[39m(\u001b[38;5;28mself\u001b[39m, text: \u001b[38;5;28mstr\u001b[39m) \u001b[38;5;241m-\u001b[39m\u001b[38;5;241m>\u001b[39m List[\u001b[38;5;28mfloat\u001b[39m]:\n\u001b[0;32m    154\u001b[0m     \u001b[38;5;28;01mif\u001b[39;00m \u001b[38;5;28misinstance\u001b[39m(\u001b[38;5;28mself\u001b[39m\u001b[38;5;241m.\u001b[39membedding_function, Embeddings):\n\u001b[1;32m--> 155\u001b[0m         \u001b[38;5;28;01mreturn\u001b[39;00m \u001b[38;5;28;43mself\u001b[39;49m\u001b[38;5;241;43m.\u001b[39;49m\u001b[43membedding_function\u001b[49m\u001b[38;5;241;43m.\u001b[39;49m\u001b[43membed_query\u001b[49m\u001b[43m(\u001b[49m\u001b[43mtext\u001b[49m\u001b[43m)\u001b[49m\n\u001b[0;32m    156\u001b[0m     \u001b[38;5;28;01melse\u001b[39;00m:\n\u001b[0;32m    157\u001b[0m         \u001b[38;5;28;01mreturn\u001b[39;00m \u001b[38;5;28mself\u001b[39m\u001b[38;5;241m.\u001b[39membedding_function(text)\n",
      "File \u001b[1;32mc:\\Users\\anildwa\\AppData\\Local\\miniconda3\\envs\\langchain\\lib\\site-packages\\langchain\\embeddings\\cache.py:149\u001b[0m, in \u001b[0;36mCacheBackedEmbeddings.embed_query\u001b[1;34m(self, text)\u001b[0m\n\u001b[0;32m    131\u001b[0m \u001b[38;5;28;01mdef\u001b[39;00m \u001b[38;5;21membed_query\u001b[39m(\u001b[38;5;28mself\u001b[39m, text: \u001b[38;5;28mstr\u001b[39m) \u001b[38;5;241m-\u001b[39m\u001b[38;5;241m>\u001b[39m List[\u001b[38;5;28mfloat\u001b[39m]:\n\u001b[0;32m    132\u001b[0m \u001b[38;5;250m    \u001b[39m\u001b[38;5;124;03m\"\"\"Embed query text.\u001b[39;00m\n\u001b[0;32m    133\u001b[0m \n\u001b[0;32m    134\u001b[0m \u001b[38;5;124;03m    This method does not support caching at the moment.\u001b[39;00m\n\u001b[1;32m   (...)\u001b[0m\n\u001b[0;32m    147\u001b[0m \u001b[38;5;124;03m        The embedding for the given text.\u001b[39;00m\n\u001b[0;32m    148\u001b[0m \u001b[38;5;124;03m    \"\"\"\u001b[39;00m\n\u001b[1;32m--> 149\u001b[0m     \u001b[38;5;28;01mreturn\u001b[39;00m \u001b[38;5;28;43mself\u001b[39;49m\u001b[38;5;241;43m.\u001b[39;49m\u001b[43munderlying_embeddings\u001b[49m\u001b[38;5;241;43m.\u001b[39;49m\u001b[43membed_query\u001b[49m\u001b[43m(\u001b[49m\u001b[43mtext\u001b[49m\u001b[43m)\u001b[49m\n",
      "File \u001b[1;32mc:\\Users\\anildwa\\AppData\\Local\\miniconda3\\envs\\langchain\\lib\\site-packages\\langchain_openai\\embeddings\\base.py:496\u001b[0m, in \u001b[0;36mOpenAIEmbeddings.embed_query\u001b[1;34m(self, text)\u001b[0m\n\u001b[0;32m    487\u001b[0m \u001b[38;5;28;01mdef\u001b[39;00m \u001b[38;5;21membed_query\u001b[39m(\u001b[38;5;28mself\u001b[39m, text: \u001b[38;5;28mstr\u001b[39m) \u001b[38;5;241m-\u001b[39m\u001b[38;5;241m>\u001b[39m List[\u001b[38;5;28mfloat\u001b[39m]:\n\u001b[0;32m    488\u001b[0m \u001b[38;5;250m    \u001b[39m\u001b[38;5;124;03m\"\"\"Call out to OpenAI's embedding endpoint for embedding query text.\u001b[39;00m\n\u001b[0;32m    489\u001b[0m \n\u001b[0;32m    490\u001b[0m \u001b[38;5;124;03m    Args:\u001b[39;00m\n\u001b[1;32m   (...)\u001b[0m\n\u001b[0;32m    494\u001b[0m \u001b[38;5;124;03m        Embedding for the text.\u001b[39;00m\n\u001b[0;32m    495\u001b[0m \u001b[38;5;124;03m    \"\"\"\u001b[39;00m\n\u001b[1;32m--> 496\u001b[0m     \u001b[38;5;28;01mreturn\u001b[39;00m \u001b[38;5;28;43mself\u001b[39;49m\u001b[38;5;241;43m.\u001b[39;49m\u001b[43membed_documents\u001b[49m\u001b[43m(\u001b[49m\u001b[43m[\u001b[49m\u001b[43mtext\u001b[49m\u001b[43m]\u001b[49m\u001b[43m)\u001b[49m[\u001b[38;5;241m0\u001b[39m]\n",
      "File \u001b[1;32mc:\\Users\\anildwa\\AppData\\Local\\miniconda3\\envs\\langchain\\lib\\site-packages\\langchain_openai\\embeddings\\base.py:467\u001b[0m, in \u001b[0;36mOpenAIEmbeddings.embed_documents\u001b[1;34m(self, texts, chunk_size)\u001b[0m\n\u001b[0;32m    464\u001b[0m \u001b[38;5;66;03m# NOTE: to keep things simple, we assume the list may contain texts longer\u001b[39;00m\n\u001b[0;32m    465\u001b[0m \u001b[38;5;66;03m#       than the maximum context and use length-safe embedding function.\u001b[39;00m\n\u001b[0;32m    466\u001b[0m engine \u001b[38;5;241m=\u001b[39m cast(\u001b[38;5;28mstr\u001b[39m, \u001b[38;5;28mself\u001b[39m\u001b[38;5;241m.\u001b[39mdeployment)\n\u001b[1;32m--> 467\u001b[0m \u001b[38;5;28;01mreturn\u001b[39;00m \u001b[38;5;28;43mself\u001b[39;49m\u001b[38;5;241;43m.\u001b[39;49m\u001b[43m_get_len_safe_embeddings\u001b[49m\u001b[43m(\u001b[49m\u001b[43mtexts\u001b[49m\u001b[43m,\u001b[49m\u001b[43m \u001b[49m\u001b[43mengine\u001b[49m\u001b[38;5;241;43m=\u001b[39;49m\u001b[43mengine\u001b[49m\u001b[43m)\u001b[49m\n",
      "File \u001b[1;32mc:\\Users\\anildwa\\AppData\\Local\\miniconda3\\envs\\langchain\\lib\\site-packages\\langchain_openai\\embeddings\\base.py:287\u001b[0m, in \u001b[0;36mOpenAIEmbeddings._get_len_safe_embeddings\u001b[1;34m(self, texts, engine, chunk_size)\u001b[0m\n\u001b[0;32m    281\u001b[0m \u001b[38;5;28;01mif\u001b[39;00m \u001b[38;5;28mself\u001b[39m\u001b[38;5;241m.\u001b[39mmodel\u001b[38;5;241m.\u001b[39mendswith(\u001b[38;5;124m\"\u001b[39m\u001b[38;5;124m001\u001b[39m\u001b[38;5;124m\"\u001b[39m):\n\u001b[0;32m    282\u001b[0m     \u001b[38;5;66;03m# See: https://github.com/openai/openai-python/\u001b[39;00m\n\u001b[0;32m    283\u001b[0m     \u001b[38;5;66;03m#      issues/418#issuecomment-1525939500\u001b[39;00m\n\u001b[0;32m    284\u001b[0m     \u001b[38;5;66;03m# replace newlines, which can negatively affect performance.\u001b[39;00m\n\u001b[0;32m    285\u001b[0m     text \u001b[38;5;241m=\u001b[39m text\u001b[38;5;241m.\u001b[39mreplace(\u001b[38;5;124m\"\u001b[39m\u001b[38;5;130;01m\\n\u001b[39;00m\u001b[38;5;124m\"\u001b[39m, \u001b[38;5;124m\"\u001b[39m\u001b[38;5;124m \u001b[39m\u001b[38;5;124m\"\u001b[39m)\n\u001b[1;32m--> 287\u001b[0m token \u001b[38;5;241m=\u001b[39m \u001b[43mencoding\u001b[49m\u001b[38;5;241;43m.\u001b[39;49m\u001b[43mencode\u001b[49m\u001b[43m(\u001b[49m\n\u001b[0;32m    288\u001b[0m \u001b[43m    \u001b[49m\u001b[43mtext\u001b[49m\u001b[38;5;241;43m=\u001b[39;49m\u001b[43mtext\u001b[49m\u001b[43m,\u001b[49m\n\u001b[0;32m    289\u001b[0m \u001b[43m    \u001b[49m\u001b[43mallowed_special\u001b[49m\u001b[38;5;241;43m=\u001b[39;49m\u001b[38;5;28;43mself\u001b[39;49m\u001b[38;5;241;43m.\u001b[39;49m\u001b[43mallowed_special\u001b[49m\u001b[43m,\u001b[49m\n\u001b[0;32m    290\u001b[0m \u001b[43m    \u001b[49m\u001b[43mdisallowed_special\u001b[49m\u001b[38;5;241;43m=\u001b[39;49m\u001b[38;5;28;43mself\u001b[39;49m\u001b[38;5;241;43m.\u001b[39;49m\u001b[43mdisallowed_special\u001b[49m\u001b[43m,\u001b[49m\n\u001b[0;32m    291\u001b[0m \u001b[43m\u001b[49m\u001b[43m)\u001b[49m\n\u001b[0;32m    293\u001b[0m \u001b[38;5;66;03m# Split tokens into chunks respecting the embedding_ctx_length\u001b[39;00m\n\u001b[0;32m    294\u001b[0m \u001b[38;5;28;01mfor\u001b[39;00m j \u001b[38;5;129;01min\u001b[39;00m \u001b[38;5;28mrange\u001b[39m(\u001b[38;5;241m0\u001b[39m, \u001b[38;5;28mlen\u001b[39m(token), \u001b[38;5;28mself\u001b[39m\u001b[38;5;241m.\u001b[39membedding_ctx_length):\n",
      "File \u001b[1;32mc:\\Users\\anildwa\\AppData\\Local\\miniconda3\\envs\\langchain\\lib\\site-packages\\tiktoken\\core.py:116\u001b[0m, in \u001b[0;36mEncoding.encode\u001b[1;34m(self, text, allowed_special, disallowed_special)\u001b[0m\n\u001b[0;32m    114\u001b[0m     \u001b[38;5;28;01mif\u001b[39;00m \u001b[38;5;129;01mnot\u001b[39;00m \u001b[38;5;28misinstance\u001b[39m(disallowed_special, \u001b[38;5;28mfrozenset\u001b[39m):\n\u001b[0;32m    115\u001b[0m         disallowed_special \u001b[38;5;241m=\u001b[39m \u001b[38;5;28mfrozenset\u001b[39m(disallowed_special)\n\u001b[1;32m--> 116\u001b[0m     \u001b[38;5;28;01mif\u001b[39;00m match \u001b[38;5;241m:=\u001b[39m \u001b[43m_special_token_regex\u001b[49m\u001b[43m(\u001b[49m\u001b[43mdisallowed_special\u001b[49m\u001b[43m)\u001b[49m\u001b[38;5;241;43m.\u001b[39;49m\u001b[43msearch\u001b[49m\u001b[43m(\u001b[49m\u001b[43mtext\u001b[49m\u001b[43m)\u001b[49m:\n\u001b[0;32m    117\u001b[0m         raise_disallowed_special_token(match\u001b[38;5;241m.\u001b[39mgroup())\n\u001b[0;32m    119\u001b[0m \u001b[38;5;28;01mtry\u001b[39;00m:\n",
      "\u001b[1;31mTypeError\u001b[0m: expected string or buffer"
     ]
    }
   ],
   "source": [
    "java_code = \"\"\"\n",
    "import com.paypal.sdk.core.nvp.*;\n",
    "import com.paypal.sdk.services.NVPCallerServices;\n",
    "\n",
    "public class Checkout {\n",
    "\n",
    "    public static void main(String[] args) {\n",
    "        try {\n",
    "            NVPCallerServices caller = new NVPCallerServices();\n",
    "            NVPProfile profile = new NVPProfile();\n",
    "            \n",
    "            // Set up your API credentials and environment\n",
    "            profile.setAPIUsername(\"YOUR_API_USERNAME\");\n",
    "            profile.setAPIPassword(\"YOUR_API_PASSWORD\");\n",
    "            profile.setSignature(\"YOUR_API_SIGNATURE\");\n",
    "            profile.setEnvironment(\"sandbox\"); // Use \"live\" for production\n",
    "            \n",
    "            caller.setProfile(profile);\n",
    "            \n",
    "            // Create a new API request\n",
    "            NVPDecoder decoder = new NVPDecoder();\n",
    "            NVPEncoder encoder = new NVPEncoder();\n",
    "            encoder.add(\"METHOD\", \"SetExpressCheckout\");\n",
    "            encoder.add(\"VERSION\", \"204\"); // Specify the version of the API you're using\n",
    "            encoder.add(\"PAYMENTREQUEST_0_AMT\", \"10.00\"); // Set checkout amount\n",
    "            encoder.add(\"PAYMENTREQUEST_0_CURRENCYCODE\", \"USD\"); // Set currency\n",
    "            encoder.add(\"RETURNURL\", \"http://yourwebsite.com/success\"); // Set return URL after payment\n",
    "            encoder.add(\"CANCELURL\", \"http://yourwebsite.com/cancel\"); // Set cancel URL\n",
    "            \n",
    "            // Execute the API operation\n",
    "            String strNVPRequest = encoder.encode();\n",
    "            String strNVPResponse = caller.call(strNVPRequest);\n",
    "            \n",
    "            // Decode the response\n",
    "            decoder.decode(strNVPResponse);\n",
    "            \n",
    "            if (\"Success\".equalsIgnoreCase(decoder.get(\"ACK\"))) {\n",
    "                System.out.println(\"Checkout initiated successfully.\");\n",
    "                // Extract token and redirect user for payment approval\n",
    "                String token = decoder.get(\"TOKEN\");\n",
    "                // Redirect to PayPal for approval\n",
    "                String redirectURL = \"https://www.sandbox.paypal.com/cgi-bin/webscr?cmd=_express-checkout&token=\" + token;\n",
    "                System.out.println(\"Redirect user to: \" + redirectURL);\n",
    "            } else {\n",
    "                System.out.println(\"Error: \" + decoder.get(\"L_LONGMESSAGE0\")); // Print error message\n",
    "            }\n",
    "            \n",
    "        } catch (Exception e) {\n",
    "            e.printStackTrace();\n",
    "        }\n",
    "    }\n",
    "}\n",
    "\n",
    "\"\"\"\n",
    "\n",
    "\n",
    "query = f\"convert the following java code to use paypal rest api instead of NVP api. full java code here: {java_code}\"\n",
    "conversational_qa_chain.invoke(\n",
    "    {\n",
    "        \"question\": query,\n",
    "        \"chat_history\": [],\n",
    "    }\n",
    "    \n",
    ")"
   ]
  },
  {
   "cell_type": "code",
   "execution_count": 86,
   "metadata": {},
   "outputs": [],
   "source": [
    "from langchain.memory import ConversationBufferMemory\n",
    "memory = ConversationBufferMemory(\n",
    "    return_messages=True, output_key=\"answer\", input_key=\"question\"\n",
    ")"
   ]
  },
  {
   "cell_type": "code",
   "execution_count": 87,
   "metadata": {},
   "outputs": [],
   "source": [
    "# First we add a step to load memory\n",
    "# This adds a \"memory\" key to the input object\n",
    "loaded_memory = RunnablePassthrough.assign(\n",
    "    chat_history=RunnableLambda(memory.load_memory_variables) | itemgetter(\"history\"),\n",
    ")\n",
    "# Now we calculate the standalone question\n",
    "standalone_question = {\n",
    "    \"standalone_question\": {\n",
    "        \"question\": lambda x: x[\"question\"],\n",
    "        \"chat_history\": lambda x: get_buffer_string(x[\"chat_history\"]),\n",
    "    }\n",
    "    | CONDENSE_QUESTION_PROMPT\n",
    "    | llm\n",
    "    | StrOutputParser(),\n",
    "}\n",
    "# Now we retrieve the documents\n",
    "retrieved_documents = {\n",
    "    \"docs\": itemgetter(\"standalone_question\") | retriever,\n",
    "    \"question\": lambda x: x[\"standalone_question\"],\n",
    "}\n",
    "# Now we construct the inputs for the final prompt\n",
    "final_inputs = {\n",
    "    \"context\": lambda x: _combine_documents(x[\"docs\"]),\n",
    "    \"question\": itemgetter(\"question\"),\n",
    "}\n",
    "# And finally, we do the part that returns the answers\n",
    "answer = {\n",
    "    \"answer\": final_inputs | ANSWER_PROMPT | llm,\n",
    "    \"docs\": itemgetter(\"docs\"),\n",
    "}\n",
    "# And now we put it all together!\n",
    "final_chain = loaded_memory | standalone_question | retrieved_documents | answer"
   ]
  },
  {
   "cell_type": "code",
   "execution_count": 88,
   "metadata": {},
   "outputs": [
    {
     "data": {
      "text/plain": [
       "{'answer': AIMessage(content=\"To implement the PayPal API in a client-server model, you can follow these steps:\\n\\n1. **Set Up Your Environment:**\\n   - Create a PayPal developer account if you don't already have one.\\n   - Log in to the PayPal Developer Dashboard and create sandbox accounts for testing. These accounts will simulate the buyer and seller in a transaction.\\n   - Obtain your API credentials, which will include an API username, password, and signature or certificate for both the sandbox and live environments.\\n\\n2. **Choose the Right Server Endpoints:**\\n   - For testing and development, use the sandbox server endpoints:\\n     - With API signature: `https://api-3t.sandbox.paypal.com/nvp`\\n     - With API certificate: `https://api.sandbox.paypal.com/nvp`\\n   - For production, use the live server endpoints:\\n     - With API signature: `https://api-3t.paypal.com/nvp`\\n     - With API certificate: `https://api.paypal.com/nvp`\\n\\n3. **Implement Server-to-Server Communication:**\\n   - Your server will act as a client to the PayPal API server.\\n   - Use an HTTPS POST request to communicate with the PayPal API server. You can use server-side scripting languages like PHP, Java, Python, or platforms like Node.js to create these requests.\\n   - You may use cURL or similar libraries to facilitate secure server-to-server communication.\\n\\n4. **Format Your API Requests:**\\n   - Use name-value pair (NVP) formatting for your API requests. The requests should include the `METHOD` parameter specifying the API operation you want to perform, followed by other necessary parameters in any order.\\n   - Include your API credentials in each request to authenticate with the PayPal servers.\\n\\n5. **Handle API Responses:**\\n   - Parse the NVP-formatted responses from the PayPal API server.\\n   - Check for confirmation of successful actions or for error messages indicating that something went wrong.\\n   - If you are retrieving data, such as a customer's shipping address, extract this information from the response.\\n\\n6. **Log API Operations:**\\n   - Keep records of the API requests and responses for troubleshooting and auditing purposes.\\n\\n7. **Test Your Integration:**\\n   - Use the sandbox environment to simulate transactions and ensure that your implementation is functioning correctly.\\n   - Thoroughly test various scenarios, including success, failure, and edge cases.\\n\\n8. **Go Live:**\\n   - Once you are confident in your integration and have thoroughly tested it, obtain production API credentials.\\n   - Update the API endpoints in your code to point to the live PayPal servers.\\n   - Make sure to update the API credentials in your requests to the production credentials.\\n\\n9. **Monitor and Update as Necessary:**\\n   - After going live, monitor your transactions and logs to ensure everything is operating smoothly.\\n   - Stay informed about any updates or changes to the PayPal API and update your implementation as needed.\\n\\nBy following these steps, you can establish a client-server model where your server communicates with the PayPal API server to execute various operations and handle responses and errors appropriately.\"),\n",
       " 'docs': [Document(page_content='Note: The PayFlow API also uses name-value pairs to provide parameter-based association between request and response fields of a message and their values; however, the PayFlow API is not the same as the NVP API; for more information about the PayFlow API, see the Payflow Gateway Developer Guide and Reference.\\n\\nPayPal API client-server architecture\\n\\nThe PayPal API uses a client-server model. Your website is a client of the PayPal server.\\n\\nA page on your website initiates an action on a PayPal API server by sending a request to the server. The PayPal server responds with a confirmation that the requested action was taken or indicates that an error occurred. The response might also contain additional information related to the request. The following diagram shows the basic request-response mechanism.'),\n",
       "  Document(page_content=\"Execute NVP API operations\\n\\nYou execute a PayPal NVP API operation by submitting an HTTPS POST request to a PayPal API server, or by using cURL or another mechanism to provide secure access between the buyer's browser and the PayPal API server. For example, you might implement a system in which the buyer's browser remains a client of your server and your server becomes a client of the PayPal API server.\\n\\nSpecify a PayPal server\\n\\nYou execute a PayPal API operation by submitting the request to a PayPal API server.\\n\\nTo execute a PayPal NVP API operation, submit the request to one of the following endpoints:\"),\n",
       "  Document(page_content='You execute a PayPal API operation by submitting the request to a PayPal API server.\\n\\nTo execute a PayPal NVP API operation, submit the request to one of the following endpoints:\\n\\nServer endpoint Description https://api-3t.sandbox.paypal.com/nvp The sandbox, or test, server for use with API signature credentials. https://api-3t.paypal.com/nvp The PayPal live production server for use with API signature credentials. https://api.sandbox.paypal.com/nvp The sandbox, or test, server for use with API certificate credentials. https://api.paypal.com/nvp The PayPal live production server for use with API certificate credentials.\\n\\nNote: You must use different API credentials for each server endpoint. Typically, you obtain API credentials when you test in the sandbox and then obtain another set of credentials for the production server. You must change each API request to use the new credentials when you go live.\\n\\nLog API operations'),\n",
       "  Document(page_content=\"For example, you might want to get the customer's shipping address from PayPal. You can initiate an API request to get customer details. The response from the PayPal API server contains information about whether the request was successful. If the operation succeeds, the response contains the requested information. In this case, the response contains the customer's shipping address. If the operation fails, the response contains one or more error messages.\\n\\nPayPal Name-Value Pair API requests and responses\\n\\nTo complete a PayPal NVP API operation, send an NVP-formatted request to a PayPal NVP server and interpret the response.\\n\\nIn this diagram, your website generates a request. The request runs on a PayPal server and the response is returned to your site.\\n\\nThe request identifies:\\n\\nThe name of the API operation, specified by METHOD=API-Operation-Name, to be performed and its version.Note: After the METHOD parameter, you can specify the other parameters in any order.\")]}"
      ]
     },
     "execution_count": 88,
     "metadata": {},
     "output_type": "execute_result"
    }
   ],
   "source": [
    "inputs = {\"question\": query}\n",
    "result = final_chain.invoke(inputs)\n",
    "result"
   ]
  },
  {
   "cell_type": "code",
   "execution_count": 89,
   "metadata": {},
   "outputs": [],
   "source": [
    "memory.save_context(inputs, {\"answer\": result[\"answer\"].content})"
   ]
  },
  {
   "cell_type": "code",
   "execution_count": 90,
   "metadata": {},
   "outputs": [
    {
     "data": {
      "text/plain": [
       "{'history': [HumanMessage(content='how to use paypal api as client server model'),\n",
       "  AIMessage(content=\"To implement the PayPal API in a client-server model, you can follow these steps:\\n\\n1. **Set Up Your Environment:**\\n   - Create a PayPal developer account if you don't already have one.\\n   - Log in to the PayPal Developer Dashboard and create sandbox accounts for testing. These accounts will simulate the buyer and seller in a transaction.\\n   - Obtain your API credentials, which will include an API username, password, and signature or certificate for both the sandbox and live environments.\\n\\n2. **Choose the Right Server Endpoints:**\\n   - For testing and development, use the sandbox server endpoints:\\n     - With API signature: `https://api-3t.sandbox.paypal.com/nvp`\\n     - With API certificate: `https://api.sandbox.paypal.com/nvp`\\n   - For production, use the live server endpoints:\\n     - With API signature: `https://api-3t.paypal.com/nvp`\\n     - With API certificate: `https://api.paypal.com/nvp`\\n\\n3. **Implement Server-to-Server Communication:**\\n   - Your server will act as a client to the PayPal API server.\\n   - Use an HTTPS POST request to communicate with the PayPal API server. You can use server-side scripting languages like PHP, Java, Python, or platforms like Node.js to create these requests.\\n   - You may use cURL or similar libraries to facilitate secure server-to-server communication.\\n\\n4. **Format Your API Requests:**\\n   - Use name-value pair (NVP) formatting for your API requests. The requests should include the `METHOD` parameter specifying the API operation you want to perform, followed by other necessary parameters in any order.\\n   - Include your API credentials in each request to authenticate with the PayPal servers.\\n\\n5. **Handle API Responses:**\\n   - Parse the NVP-formatted responses from the PayPal API server.\\n   - Check for confirmation of successful actions or for error messages indicating that something went wrong.\\n   - If you are retrieving data, such as a customer's shipping address, extract this information from the response.\\n\\n6. **Log API Operations:**\\n   - Keep records of the API requests and responses for troubleshooting and auditing purposes.\\n\\n7. **Test Your Integration:**\\n   - Use the sandbox environment to simulate transactions and ensure that your implementation is functioning correctly.\\n   - Thoroughly test various scenarios, including success, failure, and edge cases.\\n\\n8. **Go Live:**\\n   - Once you are confident in your integration and have thoroughly tested it, obtain production API credentials.\\n   - Update the API endpoints in your code to point to the live PayPal servers.\\n   - Make sure to update the API credentials in your requests to the production credentials.\\n\\n9. **Monitor and Update as Necessary:**\\n   - After going live, monitor your transactions and logs to ensure everything is operating smoothly.\\n   - Stay informed about any updates or changes to the PayPal API and update your implementation as needed.\\n\\nBy following these steps, you can establish a client-server model where your server communicates with the PayPal API server to execute various operations and handle responses and errors appropriately.\")]}"
      ]
     },
     "execution_count": 90,
     "metadata": {},
     "output_type": "execute_result"
    }
   ],
   "source": [
    "memory.load_memory_variables({})"
   ]
  },
  {
   "cell_type": "code",
   "execution_count": 91,
   "metadata": {},
   "outputs": [
    {
     "data": {
      "text/plain": [
       "{'answer': AIMessage(content=\"A Name-Value Pair (NVP) API is an interface provided by PayPal that allows communication between a client website and the PayPal server using parameter-based associations. This API operates by sending request messages with specific parameters and their associated values, and then receiving response messages from PayPal with corresponding values. The format of these messages is structured with names and values in strings, where names are separated from values by an equal sign (=), and individual name-value pairs are separated by an ampersand (&). Each value in the NVP string is also URL-encoded. The NVP API is used to execute various PayPal API operations by specifying the operation name, version, and additional information as needed in the request. The response from the PayPal server will include common fields as well as any information specific to the requested operation, such as the customer's shipping address in the case of a successful request for customer details.\"),\n",
       " 'docs': [Document(page_content='NVP/SOAP API /\\n\\nGet Started /\\n\\nNVP Basics\\n\\nPayPal NVP API Basics\\n\\nAPILegacy\\n\\nThe Name-Value Pair (NVP) API provides parameter-based association between the request and response fields of a message and their values. The request message is sent from your website by the API, and a response message is returned by PayPal using a client-server model in which your site is a client of the PayPal server. NVP describes the format of the request and response messages that you send to and receive from the PayPal API. An example of a name-value pair is <FieldName>=<Value>, where <FieldName> is the name of the PayPal API field and <Value> is the information that you pass to or receive from the PayPal API, such as, VERSION=200.'),\n",
       "  Document(page_content='NVP format\\n\\nNVP specifies names and values in a string. NVP is the informal name for the query in the URI specification. The NVP string is appended to the URL.\\n\\nAn NVP string conforms to these guidelines:\\n\\nThe name is separated from the value by an equal sign (=). For example: FIRSTNAME=Robert\\n\\nName-value pairs are separated by an ampersand (&). For example: FIRSTNAME=Robert&MIDDLENAME=Herbert&LASTNAME=Moore\\n\\nEach value in an NVP string is URL-encoded.\\n\\nCreate an NVP request\\n\\nThe Name-Value Pair request format specifies the API operation to perform, credentials that authorize PayPal to access your account, and fields containing additional information to be used in the request.\\n\\nSpecify the PayPal API operation\\n\\nFor the NVP version of the PayPal API, you must specify the name of the PayPal API operation to execute in each request along with the version of the API operation.\\n\\nThe following diagram shows the API operation part of an NVP request:'),\n",
       "  Document(page_content='Respond to an NVP response\\n\\nThe Name-Value Pair response consists of the answer to the request as well as common fields that identify the API operation and how it was executed.\\n\\nThe following diagram shows fields in the response to a PayPal NVP API operation:\\n\\nCommon response fields\\n\\nThe PayPal API always returns common fields in addition to fields that are specific to the requested PayPal API operation.\\n\\nA PayPal API response includes the following fields:'),\n",
       "  Document(page_content=\"For example, you might want to get the customer's shipping address from PayPal. You can initiate an API request to get customer details. The response from the PayPal API server contains information about whether the request was successful. If the operation succeeds, the response contains the requested information. In this case, the response contains the customer's shipping address. If the operation fails, the response contains one or more error messages.\\n\\nPayPal Name-Value Pair API requests and responses\\n\\nTo complete a PayPal NVP API operation, send an NVP-formatted request to a PayPal NVP server and interpret the response.\\n\\nIn this diagram, your website generates a request. The request runs on a PayPal server and the response is returned to your site.\\n\\nThe request identifies:\\n\\nThe name of the API operation, specified by METHOD=API-Operation-Name, to be performed and its version.Note: After the METHOD parameter, you can specify the other parameters in any order.\")]}"
      ]
     },
     "execution_count": 91,
     "metadata": {},
     "output_type": "execute_result"
    }
   ],
   "source": [
    "inputs = {\"question\": \"but what is Name-Value Pair API \"}\n",
    "result = final_chain.invoke(inputs)\n",
    "result"
   ]
  }
 ],
 "metadata": {
  "kernelspec": {
   "display_name": "llmtools",
   "language": "python",
   "name": "python3"
  },
  "language_info": {
   "codemirror_mode": {
    "name": "ipython",
    "version": 3
   },
   "file_extension": ".py",
   "mimetype": "text/x-python",
   "name": "python",
   "nbconvert_exporter": "python",
   "pygments_lexer": "ipython3",
   "version": "3.10.13"
  }
 },
 "nbformat": 4,
 "nbformat_minor": 2
}
